{
  "nbformat": 4,
  "nbformat_minor": 0,
  "metadata": {
    "colab": {
      "provenance": []
    },
    "kernelspec": {
      "name": "python3",
      "display_name": "Python 3"
    },
    "language_info": {
      "name": "python"
    },
    "accelerator": "TPU",
    "gpuClass": "standard"
  },
  "cells": [
    {
      "cell_type": "code",
      "execution_count": 1,
      "metadata": {
        "colab": {
          "base_uri": "https://localhost:8080/"
        },
        "id": "RcDnzz0Oj0w4",
        "outputId": "4fbc087b-6799-4fad-9b4b-d57a55d41f41"
      },
      "outputs": [
        {
          "output_type": "stream",
          "name": "stdout",
          "text": [
            "Mounted at /content/drive\n"
          ]
        }
      ],
      "source": [
        "from google.colab import drive\n",
        "drive.mount('/content/drive')"
      ]
    },
    {
      "cell_type": "code",
      "source": [
        "!tar -xvzf \"/content/drive/MyDrive/Colab Notebooks/Processed_CSV/cleaned_email_data.tar.gz\""
      ],
      "metadata": {
        "colab": {
          "base_uri": "https://localhost:8080/"
        },
        "id": "9Pgf8K4Wj-vB",
        "outputId": "2107c11b-d6dc-4ef9-b342-19f2b7604c1f"
      },
      "execution_count": 2,
      "outputs": [
        {
          "output_type": "stream",
          "name": "stdout",
          "text": [
            "content/cleaned_email_data.csv\n"
          ]
        }
      ]
    },
    {
      "cell_type": "code",
      "source": [
        "csv_file_path = \"/content/content/cleaned_email_data.csv\""
      ],
      "metadata": {
        "id": "Sm41dgaWj_Mm"
      },
      "execution_count": 3,
      "outputs": []
    },
    {
      "cell_type": "code",
      "source": [
        "import nltk\n",
        "nltk.download('gutenberg')\n",
        "nltk.download('punkt')\n",
        "\n",
        "import re\n",
        "import pandas as pd\n",
        "import warnings\n",
        "warnings.filterwarnings('ignore')\n",
        "\n",
        "from nltk.tokenize import sent_tokenize\n",
        "from nltk.tokenize import word_tokenize\n",
        "from nltk.corpus import stopwords\n",
        "nltk.download('stopwords')\n",
        "import numpy as np\n",
        "from sklearn.preprocessing import StandardScaler\n",
        "from sklearn.model_selection import train_test_split\n",
        "from sklearn.neighbors import KNeighborsClassifier\n",
        "from sklearn.linear_model import SGDClassifier\n",
        "from sklearn.tree import DecisionTreeClassifier\n",
        "from sklearn.svm import SVC\n",
        "from sklearn.metrics import accuracy_score\n",
        "from sklearn.ensemble import RandomForestClassifier\n",
        "from sklearn.linear_model import LogisticRegression\n",
        "from sklearn.feature_extraction.text import CountVectorizer\n",
        "from sklearn.feature_extraction.text import TfidfVectorizer\n",
        "import gensim\n",
        "import os\n",
        "import glob\n",
        "import string"
      ],
      "metadata": {
        "colab": {
          "base_uri": "https://localhost:8080/"
        },
        "id": "DfSAn8JwkCbU",
        "outputId": "f1d8185b-c11f-4260-cbdf-272bc0507d31"
      },
      "execution_count": 4,
      "outputs": [
        {
          "output_type": "stream",
          "name": "stderr",
          "text": [
            "[nltk_data] Downloading package gutenberg to /root/nltk_data...\n",
            "[nltk_data]   Unzipping corpora/gutenberg.zip.\n",
            "[nltk_data] Downloading package punkt to /root/nltk_data...\n",
            "[nltk_data]   Unzipping tokenizers/punkt.zip.\n",
            "[nltk_data] Downloading package stopwords to /root/nltk_data...\n",
            "[nltk_data]   Unzipping corpora/stopwords.zip.\n"
          ]
        }
      ]
    },
    {
      "cell_type": "code",
      "source": [
        "import multiprocessing\n",
        "import seaborn as sns\n",
        "import email\n",
        "import matplotlib.pyplot as plt"
      ],
      "metadata": {
        "id": "2uVaN6JRkDGU"
      },
      "execution_count": 5,
      "outputs": []
    },
    {
      "cell_type": "code",
      "source": [
        "df_csv = pd.read_csv(csv_file_path)\n",
        "print(df_csv.shape)\n",
        "df_csv.head()"
      ],
      "metadata": {
        "colab": {
          "base_uri": "https://localhost:8080/",
          "height": 617
        },
        "id": "fBbhBCvskFSq",
        "outputId": "e085b6a5-9929-4838-fe9a-98870ef87bf0"
      },
      "execution_count": 73,
      "outputs": [
        {
          "output_type": "stream",
          "name": "stdout",
          "text": [
            "(476725, 10)\n"
          ]
        },
        {
          "output_type": "execute_result",
          "data": {
            "text/plain": [
              "                                           file  \\\n",
              "0   /content/maildir/dasovich-j/sent_items/911.   \n",
              "1   /content/maildir/dasovich-j/sent_items/384.   \n",
              "2   /content/maildir/dasovich-j/sent_items/981.   \n",
              "3   /content/maildir/dasovich-j/sent_items/293.   \n",
              "4  /content/maildir/dasovich-j/sent_items/2403.   \n",
              "\n",
              "                                             message  \\\n",
              "0  Message-ID: <8642360.1075851633204.JavaMail.ev...   \n",
              "1  Message-ID: <15996888.1075851619794.JavaMail.e...   \n",
              "2  Message-ID: <3389339.1075852585374.JavaMail.ev...   \n",
              "3  Message-ID: <13586391.1075851617442.JavaMail.e...   \n",
              "4  Message-ID: <8782396.1075859207216.JavaMail.ev...   \n",
              "\n",
              "                                                body                     From  \\\n",
              "0  Heeeeeeeeeeeeee Haaaaaaaaaaawww!!!!!   Gouge d...  jeff.dasovich@enron.com   \n",
              "1  I'm hooting just thinking about it.  Could we ...  jeff.dasovich@enron.com   \n",
              "2  FYI.  In case you'd like to listen in on what ...  jeff.dasovich@enron.com   \n",
              "3  Greetings Eve and Bill:\\nThis has been forward...  jeff.dasovich@enron.com   \n",
              "4  Hey.  I'm still trying to get through school a...  jeff.dasovich@enron.com   \n",
              "\n",
              "                                                  To  \\\n",
              "0                thompson@enron.com, ttt@cpuc.ca.gov   \n",
              "1                             pr <.palmer@enron.com>   \n",
              "2  susan.mara@enron.com, michael.tribolet@enron.c...   \n",
              "3              eve@a-klaws.com, cra@calretailers.com   \n",
              "4                            avram@truebluegrass.com   \n",
              "\n",
              "                                             Subject  \\\n",
              "0                                  Re: just thinkin'   \n",
              "1  RE: It seems to be unraveling for Davis--Need ...   \n",
              "2  FW: A.98-07-003 - Meet and Confer Conference Call   \n",
              "3                FW: Draft Application for Rehearing   \n",
              "4  RE: Alert- new email address for Avram Siegel,...   \n",
              "\n",
              "                                              X-From  \\\n",
              "0                                      Jeff Dasovich   \n",
              "1  Dasovich, Jeff </O=ENRON/OU=NA/CN=RECIPIENTS/C...   \n",
              "2  Dasovich, Jeff </O=ENRON/OU=NA/CN=RECIPIENTS/C...   \n",
              "3  Dasovich, Jeff </O=ENRON/OU=NA/CN=RECIPIENTS/C...   \n",
              "4  Dasovich, Jeff </O=ENRON/OU=NA/CN=RECIPIENTS/C...   \n",
              "\n",
              "                                                X-To employee_name folder_name  \n",
              "0             Thompson, Thomas W.  <ttt@cpuc.ca.gov>    dasovich-j  sent items  \n",
              "1  Palmer, Mark A. (PR) </O=ENRON/OU=NA/CN=RECIPI...    dasovich-j  sent items  \n",
              "2  Mara, Susan </O=ENRON/OU=NA/CN=RECIPIENTS/CN=S...    dasovich-j  sent items  \n",
              "3  'eve@a-klaws.com', ''Bill Dombrowski' ' <cra@c...    dasovich-j  sent items  \n",
              "4           'Avram Siegel' <avram@truebluegrass.com>    dasovich-j  sent items  "
            ],
            "text/html": [
              "\n",
              "  <div id=\"df-d32fc044-c4f5-468f-bf61-657a63f84c49\">\n",
              "    <div class=\"colab-df-container\">\n",
              "      <div>\n",
              "<style scoped>\n",
              "    .dataframe tbody tr th:only-of-type {\n",
              "        vertical-align: middle;\n",
              "    }\n",
              "\n",
              "    .dataframe tbody tr th {\n",
              "        vertical-align: top;\n",
              "    }\n",
              "\n",
              "    .dataframe thead th {\n",
              "        text-align: right;\n",
              "    }\n",
              "</style>\n",
              "<table border=\"1\" class=\"dataframe\">\n",
              "  <thead>\n",
              "    <tr style=\"text-align: right;\">\n",
              "      <th></th>\n",
              "      <th>file</th>\n",
              "      <th>message</th>\n",
              "      <th>body</th>\n",
              "      <th>From</th>\n",
              "      <th>To</th>\n",
              "      <th>Subject</th>\n",
              "      <th>X-From</th>\n",
              "      <th>X-To</th>\n",
              "      <th>employee_name</th>\n",
              "      <th>folder_name</th>\n",
              "    </tr>\n",
              "  </thead>\n",
              "  <tbody>\n",
              "    <tr>\n",
              "      <th>0</th>\n",
              "      <td>/content/maildir/dasovich-j/sent_items/911.</td>\n",
              "      <td>Message-ID: &lt;8642360.1075851633204.JavaMail.ev...</td>\n",
              "      <td>Heeeeeeeeeeeeee Haaaaaaaaaaawww!!!!!   Gouge d...</td>\n",
              "      <td>jeff.dasovich@enron.com</td>\n",
              "      <td>thompson@enron.com, ttt@cpuc.ca.gov</td>\n",
              "      <td>Re: just thinkin'</td>\n",
              "      <td>Jeff Dasovich</td>\n",
              "      <td>Thompson, Thomas W.  &lt;ttt@cpuc.ca.gov&gt;</td>\n",
              "      <td>dasovich-j</td>\n",
              "      <td>sent items</td>\n",
              "    </tr>\n",
              "    <tr>\n",
              "      <th>1</th>\n",
              "      <td>/content/maildir/dasovich-j/sent_items/384.</td>\n",
              "      <td>Message-ID: &lt;15996888.1075851619794.JavaMail.e...</td>\n",
              "      <td>I'm hooting just thinking about it.  Could we ...</td>\n",
              "      <td>jeff.dasovich@enron.com</td>\n",
              "      <td>pr &lt;.palmer@enron.com&gt;</td>\n",
              "      <td>RE: It seems to be unraveling for Davis--Need ...</td>\n",
              "      <td>Dasovich, Jeff &lt;/O=ENRON/OU=NA/CN=RECIPIENTS/C...</td>\n",
              "      <td>Palmer, Mark A. (PR) &lt;/O=ENRON/OU=NA/CN=RECIPI...</td>\n",
              "      <td>dasovich-j</td>\n",
              "      <td>sent items</td>\n",
              "    </tr>\n",
              "    <tr>\n",
              "      <th>2</th>\n",
              "      <td>/content/maildir/dasovich-j/sent_items/981.</td>\n",
              "      <td>Message-ID: &lt;3389339.1075852585374.JavaMail.ev...</td>\n",
              "      <td>FYI.  In case you'd like to listen in on what ...</td>\n",
              "      <td>jeff.dasovich@enron.com</td>\n",
              "      <td>susan.mara@enron.com, michael.tribolet@enron.c...</td>\n",
              "      <td>FW: A.98-07-003 - Meet and Confer Conference Call</td>\n",
              "      <td>Dasovich, Jeff &lt;/O=ENRON/OU=NA/CN=RECIPIENTS/C...</td>\n",
              "      <td>Mara, Susan &lt;/O=ENRON/OU=NA/CN=RECIPIENTS/CN=S...</td>\n",
              "      <td>dasovich-j</td>\n",
              "      <td>sent items</td>\n",
              "    </tr>\n",
              "    <tr>\n",
              "      <th>3</th>\n",
              "      <td>/content/maildir/dasovich-j/sent_items/293.</td>\n",
              "      <td>Message-ID: &lt;13586391.1075851617442.JavaMail.e...</td>\n",
              "      <td>Greetings Eve and Bill:\\nThis has been forward...</td>\n",
              "      <td>jeff.dasovich@enron.com</td>\n",
              "      <td>eve@a-klaws.com, cra@calretailers.com</td>\n",
              "      <td>FW: Draft Application for Rehearing</td>\n",
              "      <td>Dasovich, Jeff &lt;/O=ENRON/OU=NA/CN=RECIPIENTS/C...</td>\n",
              "      <td>'eve@a-klaws.com', ''Bill Dombrowski' ' &lt;cra@c...</td>\n",
              "      <td>dasovich-j</td>\n",
              "      <td>sent items</td>\n",
              "    </tr>\n",
              "    <tr>\n",
              "      <th>4</th>\n",
              "      <td>/content/maildir/dasovich-j/sent_items/2403.</td>\n",
              "      <td>Message-ID: &lt;8782396.1075859207216.JavaMail.ev...</td>\n",
              "      <td>Hey.  I'm still trying to get through school a...</td>\n",
              "      <td>jeff.dasovich@enron.com</td>\n",
              "      <td>avram@truebluegrass.com</td>\n",
              "      <td>RE: Alert- new email address for Avram Siegel,...</td>\n",
              "      <td>Dasovich, Jeff &lt;/O=ENRON/OU=NA/CN=RECIPIENTS/C...</td>\n",
              "      <td>'Avram Siegel' &lt;avram@truebluegrass.com&gt;</td>\n",
              "      <td>dasovich-j</td>\n",
              "      <td>sent items</td>\n",
              "    </tr>\n",
              "  </tbody>\n",
              "</table>\n",
              "</div>\n",
              "      <button class=\"colab-df-convert\" onclick=\"convertToInteractive('df-d32fc044-c4f5-468f-bf61-657a63f84c49')\"\n",
              "              title=\"Convert this dataframe to an interactive table.\"\n",
              "              style=\"display:none;\">\n",
              "        \n",
              "  <svg xmlns=\"http://www.w3.org/2000/svg\" height=\"24px\"viewBox=\"0 0 24 24\"\n",
              "       width=\"24px\">\n",
              "    <path d=\"M0 0h24v24H0V0z\" fill=\"none\"/>\n",
              "    <path d=\"M18.56 5.44l.94 2.06.94-2.06 2.06-.94-2.06-.94-.94-2.06-.94 2.06-2.06.94zm-11 1L8.5 8.5l.94-2.06 2.06-.94-2.06-.94L8.5 2.5l-.94 2.06-2.06.94zm10 10l.94 2.06.94-2.06 2.06-.94-2.06-.94-.94-2.06-.94 2.06-2.06.94z\"/><path d=\"M17.41 7.96l-1.37-1.37c-.4-.4-.92-.59-1.43-.59-.52 0-1.04.2-1.43.59L10.3 9.45l-7.72 7.72c-.78.78-.78 2.05 0 2.83L4 21.41c.39.39.9.59 1.41.59.51 0 1.02-.2 1.41-.59l7.78-7.78 2.81-2.81c.8-.78.8-2.07 0-2.86zM5.41 20L4 18.59l7.72-7.72 1.47 1.35L5.41 20z\"/>\n",
              "  </svg>\n",
              "      </button>\n",
              "      \n",
              "  <style>\n",
              "    .colab-df-container {\n",
              "      display:flex;\n",
              "      flex-wrap:wrap;\n",
              "      gap: 12px;\n",
              "    }\n",
              "\n",
              "    .colab-df-convert {\n",
              "      background-color: #E8F0FE;\n",
              "      border: none;\n",
              "      border-radius: 50%;\n",
              "      cursor: pointer;\n",
              "      display: none;\n",
              "      fill: #1967D2;\n",
              "      height: 32px;\n",
              "      padding: 0 0 0 0;\n",
              "      width: 32px;\n",
              "    }\n",
              "\n",
              "    .colab-df-convert:hover {\n",
              "      background-color: #E2EBFA;\n",
              "      box-shadow: 0px 1px 2px rgba(60, 64, 67, 0.3), 0px 1px 3px 1px rgba(60, 64, 67, 0.15);\n",
              "      fill: #174EA6;\n",
              "    }\n",
              "\n",
              "    [theme=dark] .colab-df-convert {\n",
              "      background-color: #3B4455;\n",
              "      fill: #D2E3FC;\n",
              "    }\n",
              "\n",
              "    [theme=dark] .colab-df-convert:hover {\n",
              "      background-color: #434B5C;\n",
              "      box-shadow: 0px 1px 3px 1px rgba(0, 0, 0, 0.15);\n",
              "      filter: drop-shadow(0px 1px 2px rgba(0, 0, 0, 0.3));\n",
              "      fill: #FFFFFF;\n",
              "    }\n",
              "  </style>\n",
              "\n",
              "      <script>\n",
              "        const buttonEl =\n",
              "          document.querySelector('#df-d32fc044-c4f5-468f-bf61-657a63f84c49 button.colab-df-convert');\n",
              "        buttonEl.style.display =\n",
              "          google.colab.kernel.accessAllowed ? 'block' : 'none';\n",
              "\n",
              "        async function convertToInteractive(key) {\n",
              "          const element = document.querySelector('#df-d32fc044-c4f5-468f-bf61-657a63f84c49');\n",
              "          const dataTable =\n",
              "            await google.colab.kernel.invokeFunction('convertToInteractive',\n",
              "                                                     [key], {});\n",
              "          if (!dataTable) return;\n",
              "\n",
              "          const docLinkHtml = 'Like what you see? Visit the ' +\n",
              "            '<a target=\"_blank\" href=https://colab.research.google.com/notebooks/data_table.ipynb>data table notebook</a>'\n",
              "            + ' to learn more about interactive tables.';\n",
              "          element.innerHTML = '';\n",
              "          dataTable['output_type'] = 'display_data';\n",
              "          await google.colab.output.renderOutput(dataTable, element);\n",
              "          const docLink = document.createElement('div');\n",
              "          docLink.innerHTML = docLinkHtml;\n",
              "          element.appendChild(docLink);\n",
              "        }\n",
              "      </script>\n",
              "    </div>\n",
              "  </div>\n",
              "  "
            ]
          },
          "metadata": {},
          "execution_count": 73
        }
      ]
    },
    {
      "cell_type": "code",
      "source": [
        "#copy required columns into new dataframe\n",
        "df = df_csv.filter([\"body\",\"Subject\",\"From\",\"To\",\"folder_name\"])\n",
        "df\n"
      ],
      "metadata": {
        "colab": {
          "base_uri": "https://localhost:8080/",
          "height": 607
        },
        "id": "35wew5CKkIjY",
        "outputId": "748d6bb8-1f71-4a70-c1bf-170002f87753"
      },
      "execution_count": 94,
      "outputs": [
        {
          "output_type": "execute_result",
          "data": {
            "text/plain": [
              "                                                     body  \\\n",
              "0       Heeeeeeeeeeeeee Haaaaaaaaaaawww!!!!!   Gouge d...   \n",
              "1       I'm hooting just thinking about it.  Could we ...   \n",
              "2       FYI.  In case you'd like to listen in on what ...   \n",
              "3       Greetings Eve and Bill:\\nThis has been forward...   \n",
              "4       Hey.  I'm still trying to get through school a...   \n",
              "...                                                   ...   \n",
              "476720  I could let the fluff comment fly if you were ...   \n",
              "476721   I am not worried about MY handling abilities....   \n",
              "476722  Thanks for the info...you are a wealth of know...   \n",
              "476723  Attached is a list of footnotes we have come u...   \n",
              "476724  John, I think that sounds fine.\\nI really have...   \n",
              "\n",
              "                                                  Subject  \\\n",
              "0                                       Re: just thinkin'   \n",
              "1       RE: It seems to be unraveling for Davis--Need ...   \n",
              "2       FW: A.98-07-003 - Meet and Confer Conference Call   \n",
              "3                     FW: Draft Application for Rehearing   \n",
              "4       RE: Alert- new email address for Avram Siegel,...   \n",
              "...                                                   ...   \n",
              "476720                      Re: How can you not be a fan?   \n",
              "476721                                                Re:   \n",
              "476722              Re: And this one time at band camp...   \n",
              "476723                637 Transactional Report Footnotesq   \n",
              "476724                         Re: Transwestern org chart   \n",
              "\n",
              "                           From  \\\n",
              "0       jeff.dasovich@enron.com   \n",
              "1       jeff.dasovich@enron.com   \n",
              "2       jeff.dasovich@enron.com   \n",
              "3       jeff.dasovich@enron.com   \n",
              "4       jeff.dasovich@enron.com   \n",
              "...                         ...   \n",
              "476720    susan.scott@enron.com   \n",
              "476721      ted.noble@enron.com   \n",
              "476722    susan.scott@enron.com   \n",
              "476723  linda.trevino@enron.com   \n",
              "476724    susan.scott@enron.com   \n",
              "\n",
              "                                                       To     folder_name  \n",
              "0                     thompson@enron.com, ttt@cpuc.ca.gov      sent items  \n",
              "1                                  pr <.palmer@enron.com>      sent items  \n",
              "2       susan.mara@enron.com, michael.tribolet@enron.c...      sent items  \n",
              "3                   eve@a-klaws.com, cra@calretailers.com      sent items  \n",
              "4                                 avram@truebluegrass.com      sent items  \n",
              "...                                                   ...             ...  \n",
              "476720                         benjamin.freeman@enron.com  correspondence  \n",
              "476721                              susan.scott@enron.com  correspondence  \n",
              "476722                                ted.noble@enron.com  correspondence  \n",
              "476723  frazier.king@enron.com, dari.dornan@enron.com,...       order 637  \n",
              "476724                                comp.temp@enron.com       order 637  \n",
              "\n",
              "[476725 rows x 5 columns]"
            ],
            "text/html": [
              "\n",
              "  <div id=\"df-47ab612d-5558-48c1-9e2e-6099b3169309\">\n",
              "    <div class=\"colab-df-container\">\n",
              "      <div>\n",
              "<style scoped>\n",
              "    .dataframe tbody tr th:only-of-type {\n",
              "        vertical-align: middle;\n",
              "    }\n",
              "\n",
              "    .dataframe tbody tr th {\n",
              "        vertical-align: top;\n",
              "    }\n",
              "\n",
              "    .dataframe thead th {\n",
              "        text-align: right;\n",
              "    }\n",
              "</style>\n",
              "<table border=\"1\" class=\"dataframe\">\n",
              "  <thead>\n",
              "    <tr style=\"text-align: right;\">\n",
              "      <th></th>\n",
              "      <th>body</th>\n",
              "      <th>Subject</th>\n",
              "      <th>From</th>\n",
              "      <th>To</th>\n",
              "      <th>folder_name</th>\n",
              "    </tr>\n",
              "  </thead>\n",
              "  <tbody>\n",
              "    <tr>\n",
              "      <th>0</th>\n",
              "      <td>Heeeeeeeeeeeeee Haaaaaaaaaaawww!!!!!   Gouge d...</td>\n",
              "      <td>Re: just thinkin'</td>\n",
              "      <td>jeff.dasovich@enron.com</td>\n",
              "      <td>thompson@enron.com, ttt@cpuc.ca.gov</td>\n",
              "      <td>sent items</td>\n",
              "    </tr>\n",
              "    <tr>\n",
              "      <th>1</th>\n",
              "      <td>I'm hooting just thinking about it.  Could we ...</td>\n",
              "      <td>RE: It seems to be unraveling for Davis--Need ...</td>\n",
              "      <td>jeff.dasovich@enron.com</td>\n",
              "      <td>pr &lt;.palmer@enron.com&gt;</td>\n",
              "      <td>sent items</td>\n",
              "    </tr>\n",
              "    <tr>\n",
              "      <th>2</th>\n",
              "      <td>FYI.  In case you'd like to listen in on what ...</td>\n",
              "      <td>FW: A.98-07-003 - Meet and Confer Conference Call</td>\n",
              "      <td>jeff.dasovich@enron.com</td>\n",
              "      <td>susan.mara@enron.com, michael.tribolet@enron.c...</td>\n",
              "      <td>sent items</td>\n",
              "    </tr>\n",
              "    <tr>\n",
              "      <th>3</th>\n",
              "      <td>Greetings Eve and Bill:\\nThis has been forward...</td>\n",
              "      <td>FW: Draft Application for Rehearing</td>\n",
              "      <td>jeff.dasovich@enron.com</td>\n",
              "      <td>eve@a-klaws.com, cra@calretailers.com</td>\n",
              "      <td>sent items</td>\n",
              "    </tr>\n",
              "    <tr>\n",
              "      <th>4</th>\n",
              "      <td>Hey.  I'm still trying to get through school a...</td>\n",
              "      <td>RE: Alert- new email address for Avram Siegel,...</td>\n",
              "      <td>jeff.dasovich@enron.com</td>\n",
              "      <td>avram@truebluegrass.com</td>\n",
              "      <td>sent items</td>\n",
              "    </tr>\n",
              "    <tr>\n",
              "      <th>...</th>\n",
              "      <td>...</td>\n",
              "      <td>...</td>\n",
              "      <td>...</td>\n",
              "      <td>...</td>\n",
              "      <td>...</td>\n",
              "    </tr>\n",
              "    <tr>\n",
              "      <th>476720</th>\n",
              "      <td>I could let the fluff comment fly if you were ...</td>\n",
              "      <td>Re: How can you not be a fan?</td>\n",
              "      <td>susan.scott@enron.com</td>\n",
              "      <td>benjamin.freeman@enron.com</td>\n",
              "      <td>correspondence</td>\n",
              "    </tr>\n",
              "    <tr>\n",
              "      <th>476721</th>\n",
              "      <td>I am not worried about MY handling abilities....</td>\n",
              "      <td>Re:</td>\n",
              "      <td>ted.noble@enron.com</td>\n",
              "      <td>susan.scott@enron.com</td>\n",
              "      <td>correspondence</td>\n",
              "    </tr>\n",
              "    <tr>\n",
              "      <th>476722</th>\n",
              "      <td>Thanks for the info...you are a wealth of know...</td>\n",
              "      <td>Re: And this one time at band camp...</td>\n",
              "      <td>susan.scott@enron.com</td>\n",
              "      <td>ted.noble@enron.com</td>\n",
              "      <td>correspondence</td>\n",
              "    </tr>\n",
              "    <tr>\n",
              "      <th>476723</th>\n",
              "      <td>Attached is a list of footnotes we have come u...</td>\n",
              "      <td>637 Transactional Report Footnotesq</td>\n",
              "      <td>linda.trevino@enron.com</td>\n",
              "      <td>frazier.king@enron.com, dari.dornan@enron.com,...</td>\n",
              "      <td>order 637</td>\n",
              "    </tr>\n",
              "    <tr>\n",
              "      <th>476724</th>\n",
              "      <td>John, I think that sounds fine.\\nI really have...</td>\n",
              "      <td>Re: Transwestern org chart</td>\n",
              "      <td>susan.scott@enron.com</td>\n",
              "      <td>comp.temp@enron.com</td>\n",
              "      <td>order 637</td>\n",
              "    </tr>\n",
              "  </tbody>\n",
              "</table>\n",
              "<p>476725 rows × 5 columns</p>\n",
              "</div>\n",
              "      <button class=\"colab-df-convert\" onclick=\"convertToInteractive('df-47ab612d-5558-48c1-9e2e-6099b3169309')\"\n",
              "              title=\"Convert this dataframe to an interactive table.\"\n",
              "              style=\"display:none;\">\n",
              "        \n",
              "  <svg xmlns=\"http://www.w3.org/2000/svg\" height=\"24px\"viewBox=\"0 0 24 24\"\n",
              "       width=\"24px\">\n",
              "    <path d=\"M0 0h24v24H0V0z\" fill=\"none\"/>\n",
              "    <path d=\"M18.56 5.44l.94 2.06.94-2.06 2.06-.94-2.06-.94-.94-2.06-.94 2.06-2.06.94zm-11 1L8.5 8.5l.94-2.06 2.06-.94-2.06-.94L8.5 2.5l-.94 2.06-2.06.94zm10 10l.94 2.06.94-2.06 2.06-.94-2.06-.94-.94-2.06-.94 2.06-2.06.94z\"/><path d=\"M17.41 7.96l-1.37-1.37c-.4-.4-.92-.59-1.43-.59-.52 0-1.04.2-1.43.59L10.3 9.45l-7.72 7.72c-.78.78-.78 2.05 0 2.83L4 21.41c.39.39.9.59 1.41.59.51 0 1.02-.2 1.41-.59l7.78-7.78 2.81-2.81c.8-.78.8-2.07 0-2.86zM5.41 20L4 18.59l7.72-7.72 1.47 1.35L5.41 20z\"/>\n",
              "  </svg>\n",
              "      </button>\n",
              "      \n",
              "  <style>\n",
              "    .colab-df-container {\n",
              "      display:flex;\n",
              "      flex-wrap:wrap;\n",
              "      gap: 12px;\n",
              "    }\n",
              "\n",
              "    .colab-df-convert {\n",
              "      background-color: #E8F0FE;\n",
              "      border: none;\n",
              "      border-radius: 50%;\n",
              "      cursor: pointer;\n",
              "      display: none;\n",
              "      fill: #1967D2;\n",
              "      height: 32px;\n",
              "      padding: 0 0 0 0;\n",
              "      width: 32px;\n",
              "    }\n",
              "\n",
              "    .colab-df-convert:hover {\n",
              "      background-color: #E2EBFA;\n",
              "      box-shadow: 0px 1px 2px rgba(60, 64, 67, 0.3), 0px 1px 3px 1px rgba(60, 64, 67, 0.15);\n",
              "      fill: #174EA6;\n",
              "    }\n",
              "\n",
              "    [theme=dark] .colab-df-convert {\n",
              "      background-color: #3B4455;\n",
              "      fill: #D2E3FC;\n",
              "    }\n",
              "\n",
              "    [theme=dark] .colab-df-convert:hover {\n",
              "      background-color: #434B5C;\n",
              "      box-shadow: 0px 1px 3px 1px rgba(0, 0, 0, 0.15);\n",
              "      filter: drop-shadow(0px 1px 2px rgba(0, 0, 0, 0.3));\n",
              "      fill: #FFFFFF;\n",
              "    }\n",
              "  </style>\n",
              "\n",
              "      <script>\n",
              "        const buttonEl =\n",
              "          document.querySelector('#df-47ab612d-5558-48c1-9e2e-6099b3169309 button.colab-df-convert');\n",
              "        buttonEl.style.display =\n",
              "          google.colab.kernel.accessAllowed ? 'block' : 'none';\n",
              "\n",
              "        async function convertToInteractive(key) {\n",
              "          const element = document.querySelector('#df-47ab612d-5558-48c1-9e2e-6099b3169309');\n",
              "          const dataTable =\n",
              "            await google.colab.kernel.invokeFunction('convertToInteractive',\n",
              "                                                     [key], {});\n",
              "          if (!dataTable) return;\n",
              "\n",
              "          const docLinkHtml = 'Like what you see? Visit the ' +\n",
              "            '<a target=\"_blank\" href=https://colab.research.google.com/notebooks/data_table.ipynb>data table notebook</a>'\n",
              "            + ' to learn more about interactive tables.';\n",
              "          element.innerHTML = '';\n",
              "          dataTable['output_type'] = 'display_data';\n",
              "          await google.colab.output.renderOutput(dataTable, element);\n",
              "          const docLink = document.createElement('div');\n",
              "          docLink.innerHTML = docLinkHtml;\n",
              "          element.appendChild(docLink);\n",
              "        }\n",
              "      </script>\n",
              "    </div>\n",
              "  </div>\n",
              "  "
            ]
          },
          "metadata": {},
          "execution_count": 94
        }
      ]
    },
    {
      "cell_type": "code",
      "source": [
        "df.shape"
      ],
      "metadata": {
        "colab": {
          "base_uri": "https://localhost:8080/"
        },
        "id": "Q1gLuoYXvr7C",
        "outputId": "6316eaa3-d096-49e1-ba2a-e34a0b7f8b5f"
      },
      "execution_count": 95,
      "outputs": [
        {
          "output_type": "execute_result",
          "data": {
            "text/plain": [
              "(476725, 5)"
            ]
          },
          "metadata": {},
          "execution_count": 95
        }
      ]
    },
    {
      "cell_type": "code",
      "source": [
        "#find duplicates in body\n",
        "#df['body'].duplicated().sum()\n",
        "df.duplicated().sum()"
      ],
      "metadata": {
        "colab": {
          "base_uri": "https://localhost:8080/"
        },
        "id": "lqHbSPh6un2E",
        "outputId": "00ced7e1-7677-42f5-d3d3-473d9f309fc2"
      },
      "execution_count": 96,
      "outputs": [
        {
          "output_type": "execute_result",
          "data": {
            "text/plain": [
              "32894"
            ]
          },
          "metadata": {},
          "execution_count": 96
        }
      ]
    },
    {
      "cell_type": "code",
      "source": [
        "#remove duplicate data\n",
        "print(\"before removal: \",df.shape)\n",
        "df = df.drop_duplicates()\n",
        "print(\"after removal\",df.shape)"
      ],
      "metadata": {
        "colab": {
          "base_uri": "https://localhost:8080/"
        },
        "id": "h2MaYnizvVyO",
        "outputId": "91771d74-4eb1-40d4-cbdf-74f3f98305d1"
      },
      "execution_count": 97,
      "outputs": [
        {
          "output_type": "stream",
          "name": "stdout",
          "text": [
            "before removal:  (476725, 5)\n",
            "after removal (443831, 5)\n"
          ]
        }
      ]
    },
    {
      "cell_type": "code",
      "source": [
        "print(df[\"folder_name\"].value_counts())"
      ],
      "metadata": {
        "colab": {
          "base_uri": "https://localhost:8080/"
        },
        "id": "0k8CQvZ7kKwy",
        "outputId": "cf646ee8-8fde-4cbb-f362-9f7f8c24e6ca"
      },
      "execution_count": 98,
      "outputs": [
        {
          "output_type": "stream",
          "name": "stdout",
          "text": [
            "all documents                  111954\n",
            "sent                            54671\n",
            "discussion threads              49254\n",
            "deleted items                   39204\n",
            "sent items                      35969\n",
            "                                ...  \n",
            "confirms - interest rate            1\n",
            "unread mail                         1\n",
            "tw - marketing                      1\n",
            "bancone                             1\n",
            "personnel - prc 2001 mid yr         1\n",
            "Name: folder_name, Length: 1751, dtype: int64\n"
          ]
        }
      ]
    },
    {
      "cell_type": "code",
      "source": [
        "#remove small folders which may not help us\n",
        "def remove_folders(emails, n):\n",
        "    # returns the number of folders containing more than 'n' number of emails\n",
        "    email_count = dict(df['folder_name'].value_counts())\n",
        "    small_folders = [key for key, val in email_count.items() if val<=n]\n",
        "    emails = df.loc[~df['folder_name'].isin(small_folders)]\n",
        "    return emails\n"
      ],
      "metadata": {
        "id": "Jo3iKjrEwKKx"
      },
      "execution_count": 99,
      "outputs": []
    },
    {
      "cell_type": "code",
      "source": [
        "n = 200\n",
        "df = remove_folders(df, n)"
      ],
      "metadata": {
        "id": "I-tyZWznwXjm"
      },
      "execution_count": 100,
      "outputs": []
    },
    {
      "cell_type": "code",
      "source": [
        "df[\"folder_name\"].value_counts()"
      ],
      "metadata": {
        "colab": {
          "base_uri": "https://localhost:8080/"
        },
        "id": "Gty-ngMgwl2M",
        "outputId": "36333160-da0b-47e9-ba93-dc380d385e1f"
      },
      "execution_count": 101,
      "outputs": [
        {
          "output_type": "execute_result",
          "data": {
            "text/plain": [
              "all documents         111954\n",
              "sent                   54671\n",
              "discussion threads     49254\n",
              "deleted items          39204\n",
              "sent items             35969\n",
              "                       ...  \n",
              "conferences              218\n",
              "misc                     211\n",
              "transport                209\n",
              "janie                    207\n",
              "8_00                     202\n",
              "Name: folder_name, Length: 63, dtype: int64"
            ]
          },
          "metadata": {},
          "execution_count": 101
        }
      ]
    },
    {
      "cell_type": "code",
      "source": [
        "#remove few sent folders and OOB folders as they are not user specific folders\n",
        "df = df[df.folder_name != 'sent']\n",
        "df = df[df.folder_name != 'all documents']\n",
        "df = df[df.folder_name != 'deleted items']\n",
        "df = df[df.folder_name != 'sent items']\n",
        "df = df[df.folder_name != \"'sent mail\"]\n",
        "df = df[df.folder_name != \"calendar\"]\n",
        "df = df[df.folder_name != \"'sent\"]\n",
        "df = df[df.folder_name != \"attachments\"]\n",
        "print(df.shape)\n",
        "df[\"folder_name\"].value_counts()"
      ],
      "metadata": {
        "colab": {
          "base_uri": "https://localhost:8080/"
        },
        "id": "IddtF7pcwBkY",
        "outputId": "fe95b510-591b-49f4-9c80-d7d14e811a11"
      },
      "execution_count": 102,
      "outputs": [
        {
          "output_type": "stream",
          "name": "stdout",
          "text": [
            "(140032, 5)\n"
          ]
        },
        {
          "output_type": "execute_result",
          "data": {
            "text/plain": [
              "discussion threads     49254\n",
              "inbox                  31710\n",
              "notes inbox            31000\n",
              "untitled                4073\n",
              "personal                2239\n",
              "schedule crawler        1396\n",
              "logistics               1146\n",
              "tw-commercial group     1146\n",
              "california               987\n",
              "bill williams iii        943\n",
              "deal discrepancies       878\n",
              "management               789\n",
              "esvl                     658\n",
              "tufco                    604\n",
              "resumes                  590\n",
              "e-mail bin               588\n",
              "ces                      567\n",
              "online trading           563\n",
              "junk                     543\n",
              "junk file                493\n",
              "genco-jv_ipo             458\n",
              "projects                 446\n",
              "archives                 404\n",
              "hr                       385\n",
              "universities             358\n",
              "iso_ pricecaps           357\n",
              "corporate                353\n",
              "it                       343\n",
              "wellhead                 326\n",
              "california issues        308\n",
              "europe                   287\n",
              "eesirenewableenergy      284\n",
              "ooc                      279\n",
              "read                     277\n",
              "ene_ect                  264\n",
              "ferc                     262\n",
              "regulatory               260\n",
              "info                     259\n",
              "nelson                   256\n",
              "eol                      254\n",
              "east power               254\n",
              "corporate comm           250\n",
              "gir                      250\n",
              "eci                      248\n",
              "articles                 245\n",
              "heat wave                237\n",
              "master netting           236\n",
              "industrials              231\n",
              "lm6000                   226\n",
              "volume mang.             221\n",
              "conferences              218\n",
              "misc                     211\n",
              "transport                209\n",
              "janie                    207\n",
              "8_00                     202\n",
              "Name: folder_name, dtype: int64"
            ]
          },
          "metadata": {},
          "execution_count": 102
        }
      ]
    },
    {
      "cell_type": "code",
      "source": [
        "# rename folder to \"other\" where files in that are very less\n",
        "# we will not get accuracy if we keep them as it is\n",
        "# small_folders = []\n",
        "# n = 2000\n",
        "# email_count = dict(df[\"folder_name\"].value_counts())\n",
        "# [small_folders.append(fname) for fname,count in email_count.items() if count<n ]\n",
        "# print(len(small_folders))"
      ],
      "metadata": {
        "colab": {
          "base_uri": "https://localhost:8080/"
        },
        "id": "a3F5ShS3kM3T",
        "outputId": "ff07667b-ec3f-4fc0-9445-f349b29317ee"
      },
      "execution_count": 73,
      "outputs": [
        {
          "output_type": "stream",
          "name": "stdout",
          "text": [
            "1741\n"
          ]
        }
      ]
    },
    {
      "cell_type": "code",
      "source": [
        "# new_folder_name = \"other\"\n",
        "# def rename_folder(all_folders):\n",
        "#   final_folders = []\n",
        "#   for fname in all_folders:\n",
        "#     if fname in small_folders:\n",
        "#       final_folders.append(new_folder_name)\n",
        "#     else:\n",
        "#       final_folders.append(fname)\n",
        "#   return final_folders"
      ],
      "metadata": {
        "id": "4ftneTpBkPqC"
      },
      "execution_count": 74,
      "outputs": []
    },
    {
      "cell_type": "code",
      "source": [
        "# df[\"folder_name\"] = rename_folder(df[\"folder_name\"])\n",
        "# df[\"folder_name\"].value_counts()"
      ],
      "metadata": {
        "colab": {
          "base_uri": "https://localhost:8080/"
        },
        "id": "itFXIiQ4kRUh",
        "outputId": "1fd1b426-28fa-41ba-8282-211bca846a33"
      },
      "execution_count": 75,
      "outputs": [
        {
          "output_type": "execute_result",
          "data": {
            "text/plain": [
              "all documents         120931\n",
              "other                  56478\n",
              "sent                   54709\n",
              "discussion threads     53785\n",
              "deleted items          44799\n",
              "inbox                  36182\n",
              "sent items             35970\n",
              "notes inbox            35201\n",
              "'sent mail             28207\n",
              "untitled                8114\n",
              "personal                2349\n",
              "Name: folder_name, dtype: int64"
            ]
          },
          "metadata": {},
          "execution_count": 75
        }
      ]
    },
    {
      "cell_type": "code",
      "source": [
        "# df[\"folder_name\"].value_counts()[\"other\"]"
      ],
      "metadata": {
        "colab": {
          "base_uri": "https://localhost:8080/"
        },
        "id": "YD7R2LDHkT7E",
        "outputId": "bd724c5a-9b7e-4e4d-e90d-b7e00f6b22ad"
      },
      "execution_count": 76,
      "outputs": [
        {
          "output_type": "execute_result",
          "data": {
            "text/plain": [
              "56478"
            ]
          },
          "metadata": {},
          "execution_count": 76
        }
      ]
    },
    {
      "cell_type": "code",
      "source": [
        "df.head()"
      ],
      "metadata": {
        "colab": {
          "base_uri": "https://localhost:8080/",
          "height": 206
        },
        "id": "zJc97ERWkXbe",
        "outputId": "affecb4c-9702-4f6c-af6f-eb438ed8e5cf"
      },
      "execution_count": 71,
      "outputs": [
        {
          "output_type": "execute_result",
          "data": {
            "text/plain": [
              "     folder_name                                               text\n",
              "1237       inbox  sgovenar@govadv.com smara@enron.com, jdasovic@...\n",
              "1238       inbox  rob.bradley@enron.com jeff.dasovich@enron.com ...\n",
              "1239       inbox  sue@sheltercorp.com jeff.dasovich@enron.com e ...\n",
              "1240       inbox  madeleine@madeleinetodd.com e-mail <.rob@enron...\n",
              "1241       inbox  sfalbie@msn.com eveningmba@haas.berkeley.edu F..."
            ],
            "text/html": [
              "\n",
              "  <div id=\"df-ccf0e40b-eed1-4356-842b-ba29a012bc30\">\n",
              "    <div class=\"colab-df-container\">\n",
              "      <div>\n",
              "<style scoped>\n",
              "    .dataframe tbody tr th:only-of-type {\n",
              "        vertical-align: middle;\n",
              "    }\n",
              "\n",
              "    .dataframe tbody tr th {\n",
              "        vertical-align: top;\n",
              "    }\n",
              "\n",
              "    .dataframe thead th {\n",
              "        text-align: right;\n",
              "    }\n",
              "</style>\n",
              "<table border=\"1\" class=\"dataframe\">\n",
              "  <thead>\n",
              "    <tr style=\"text-align: right;\">\n",
              "      <th></th>\n",
              "      <th>folder_name</th>\n",
              "      <th>text</th>\n",
              "    </tr>\n",
              "  </thead>\n",
              "  <tbody>\n",
              "    <tr>\n",
              "      <th>1237</th>\n",
              "      <td>inbox</td>\n",
              "      <td>sgovenar@govadv.com smara@enron.com, jdasovic@...</td>\n",
              "    </tr>\n",
              "    <tr>\n",
              "      <th>1238</th>\n",
              "      <td>inbox</td>\n",
              "      <td>rob.bradley@enron.com jeff.dasovich@enron.com ...</td>\n",
              "    </tr>\n",
              "    <tr>\n",
              "      <th>1239</th>\n",
              "      <td>inbox</td>\n",
              "      <td>sue@sheltercorp.com jeff.dasovich@enron.com e ...</td>\n",
              "    </tr>\n",
              "    <tr>\n",
              "      <th>1240</th>\n",
              "      <td>inbox</td>\n",
              "      <td>madeleine@madeleinetodd.com e-mail &lt;.rob@enron...</td>\n",
              "    </tr>\n",
              "    <tr>\n",
              "      <th>1241</th>\n",
              "      <td>inbox</td>\n",
              "      <td>sfalbie@msn.com eveningmba@haas.berkeley.edu F...</td>\n",
              "    </tr>\n",
              "  </tbody>\n",
              "</table>\n",
              "</div>\n",
              "      <button class=\"colab-df-convert\" onclick=\"convertToInteractive('df-ccf0e40b-eed1-4356-842b-ba29a012bc30')\"\n",
              "              title=\"Convert this dataframe to an interactive table.\"\n",
              "              style=\"display:none;\">\n",
              "        \n",
              "  <svg xmlns=\"http://www.w3.org/2000/svg\" height=\"24px\"viewBox=\"0 0 24 24\"\n",
              "       width=\"24px\">\n",
              "    <path d=\"M0 0h24v24H0V0z\" fill=\"none\"/>\n",
              "    <path d=\"M18.56 5.44l.94 2.06.94-2.06 2.06-.94-2.06-.94-.94-2.06-.94 2.06-2.06.94zm-11 1L8.5 8.5l.94-2.06 2.06-.94-2.06-.94L8.5 2.5l-.94 2.06-2.06.94zm10 10l.94 2.06.94-2.06 2.06-.94-2.06-.94-.94-2.06-.94 2.06-2.06.94z\"/><path d=\"M17.41 7.96l-1.37-1.37c-.4-.4-.92-.59-1.43-.59-.52 0-1.04.2-1.43.59L10.3 9.45l-7.72 7.72c-.78.78-.78 2.05 0 2.83L4 21.41c.39.39.9.59 1.41.59.51 0 1.02-.2 1.41-.59l7.78-7.78 2.81-2.81c.8-.78.8-2.07 0-2.86zM5.41 20L4 18.59l7.72-7.72 1.47 1.35L5.41 20z\"/>\n",
              "  </svg>\n",
              "      </button>\n",
              "      \n",
              "  <style>\n",
              "    .colab-df-container {\n",
              "      display:flex;\n",
              "      flex-wrap:wrap;\n",
              "      gap: 12px;\n",
              "    }\n",
              "\n",
              "    .colab-df-convert {\n",
              "      background-color: #E8F0FE;\n",
              "      border: none;\n",
              "      border-radius: 50%;\n",
              "      cursor: pointer;\n",
              "      display: none;\n",
              "      fill: #1967D2;\n",
              "      height: 32px;\n",
              "      padding: 0 0 0 0;\n",
              "      width: 32px;\n",
              "    }\n",
              "\n",
              "    .colab-df-convert:hover {\n",
              "      background-color: #E2EBFA;\n",
              "      box-shadow: 0px 1px 2px rgba(60, 64, 67, 0.3), 0px 1px 3px 1px rgba(60, 64, 67, 0.15);\n",
              "      fill: #174EA6;\n",
              "    }\n",
              "\n",
              "    [theme=dark] .colab-df-convert {\n",
              "      background-color: #3B4455;\n",
              "      fill: #D2E3FC;\n",
              "    }\n",
              "\n",
              "    [theme=dark] .colab-df-convert:hover {\n",
              "      background-color: #434B5C;\n",
              "      box-shadow: 0px 1px 3px 1px rgba(0, 0, 0, 0.15);\n",
              "      filter: drop-shadow(0px 1px 2px rgba(0, 0, 0, 0.3));\n",
              "      fill: #FFFFFF;\n",
              "    }\n",
              "  </style>\n",
              "\n",
              "      <script>\n",
              "        const buttonEl =\n",
              "          document.querySelector('#df-ccf0e40b-eed1-4356-842b-ba29a012bc30 button.colab-df-convert');\n",
              "        buttonEl.style.display =\n",
              "          google.colab.kernel.accessAllowed ? 'block' : 'none';\n",
              "\n",
              "        async function convertToInteractive(key) {\n",
              "          const element = document.querySelector('#df-ccf0e40b-eed1-4356-842b-ba29a012bc30');\n",
              "          const dataTable =\n",
              "            await google.colab.kernel.invokeFunction('convertToInteractive',\n",
              "                                                     [key], {});\n",
              "          if (!dataTable) return;\n",
              "\n",
              "          const docLinkHtml = 'Like what you see? Visit the ' +\n",
              "            '<a target=\"_blank\" href=https://colab.research.google.com/notebooks/data_table.ipynb>data table notebook</a>'\n",
              "            + ' to learn more about interactive tables.';\n",
              "          element.innerHTML = '';\n",
              "          dataTable['output_type'] = 'display_data';\n",
              "          await google.colab.output.renderOutput(dataTable, element);\n",
              "          const docLink = document.createElement('div');\n",
              "          docLink.innerHTML = docLinkHtml;\n",
              "          element.appendChild(docLink);\n",
              "        }\n",
              "      </script>\n",
              "    </div>\n",
              "  </div>\n",
              "  "
            ]
          },
          "metadata": {},
          "execution_count": 71
        }
      ]
    },
    {
      "cell_type": "code",
      "source": [
        "df[\"text\"] = df[\"From\"]+\" \"+df[\"To\"]+\" \"+df[\"Subject\"]+\" \"+df[\"body\"]\n",
        "#df[\"text\"] = df[\"Subject\"]+\" \"+df[\"body\"]\n",
        "df.head()"
      ],
      "metadata": {
        "colab": {
          "base_uri": "https://localhost:8080/",
          "height": 389
        },
        "id": "4IgQXq3gkZke",
        "outputId": "313a359b-8ded-4ce3-b374-6f9f558e3742"
      },
      "execution_count": 103,
      "outputs": [
        {
          "output_type": "execute_result",
          "data": {
            "text/plain": [
              "                                                   body  \\\n",
              "1237  I will attend the following hearing next Monda...   \n",
              "1238  Joe Pratt is the Cullen Professor of Business ...   \n",
              "1239  Jeff--I have a new e mail address:   sue@shelt...   \n",
              "1240  Sorry--Mike's email is md_mills@yahoo.com, I l...   \n",
              "1241  Fellow MBAers,\\n\\nDovetailing Ken's email rega...   \n",
              "\n",
              "                                                Subject  \\\n",
              "1237                                            Hearing   \n",
              "1238  RE: Participation in Roundtable on Lessons Lea...   \n",
              "1239                                     e mail address   \n",
              "1240   RE: Save the Date: 12/09/01 - Jeff Walker's 40th   \n",
              "1241                       Fw: CSO-This Week In Finance   \n",
              "\n",
              "                             From  \\\n",
              "1237          sgovenar@govadv.com   \n",
              "1238        rob.bradley@enron.com   \n",
              "1239          sue@sheltercorp.com   \n",
              "1240  madeleine@madeleinetodd.com   \n",
              "1241              sfalbie@msn.com   \n",
              "\n",
              "                                                     To folder_name  \\\n",
              "1237                smara@enron.com, jdasovic@enron.com       inbox   \n",
              "1238                            jeff.dasovich@enron.com       inbox   \n",
              "1239                            jeff.dasovich@enron.com       inbox   \n",
              "1240  e-mail <.rob@enron.com>, e-mail <.jeff@enron.c...       inbox   \n",
              "1241                       eveningmba@haas.berkeley.edu       inbox   \n",
              "\n",
              "                                                   text  \n",
              "1237  sgovenar@govadv.com smara@enron.com, jdasovic@...  \n",
              "1238  rob.bradley@enron.com jeff.dasovich@enron.com ...  \n",
              "1239  sue@sheltercorp.com jeff.dasovich@enron.com e ...  \n",
              "1240  madeleine@madeleinetodd.com e-mail <.rob@enron...  \n",
              "1241  sfalbie@msn.com eveningmba@haas.berkeley.edu F...  "
            ],
            "text/html": [
              "\n",
              "  <div id=\"df-788bcdd9-6b75-4089-b506-18fa5244f940\">\n",
              "    <div class=\"colab-df-container\">\n",
              "      <div>\n",
              "<style scoped>\n",
              "    .dataframe tbody tr th:only-of-type {\n",
              "        vertical-align: middle;\n",
              "    }\n",
              "\n",
              "    .dataframe tbody tr th {\n",
              "        vertical-align: top;\n",
              "    }\n",
              "\n",
              "    .dataframe thead th {\n",
              "        text-align: right;\n",
              "    }\n",
              "</style>\n",
              "<table border=\"1\" class=\"dataframe\">\n",
              "  <thead>\n",
              "    <tr style=\"text-align: right;\">\n",
              "      <th></th>\n",
              "      <th>body</th>\n",
              "      <th>Subject</th>\n",
              "      <th>From</th>\n",
              "      <th>To</th>\n",
              "      <th>folder_name</th>\n",
              "      <th>text</th>\n",
              "    </tr>\n",
              "  </thead>\n",
              "  <tbody>\n",
              "    <tr>\n",
              "      <th>1237</th>\n",
              "      <td>I will attend the following hearing next Monda...</td>\n",
              "      <td>Hearing</td>\n",
              "      <td>sgovenar@govadv.com</td>\n",
              "      <td>smara@enron.com, jdasovic@enron.com</td>\n",
              "      <td>inbox</td>\n",
              "      <td>sgovenar@govadv.com smara@enron.com, jdasovic@...</td>\n",
              "    </tr>\n",
              "    <tr>\n",
              "      <th>1238</th>\n",
              "      <td>Joe Pratt is the Cullen Professor of Business ...</td>\n",
              "      <td>RE: Participation in Roundtable on Lessons Lea...</td>\n",
              "      <td>rob.bradley@enron.com</td>\n",
              "      <td>jeff.dasovich@enron.com</td>\n",
              "      <td>inbox</td>\n",
              "      <td>rob.bradley@enron.com jeff.dasovich@enron.com ...</td>\n",
              "    </tr>\n",
              "    <tr>\n",
              "      <th>1239</th>\n",
              "      <td>Jeff--I have a new e mail address:   sue@shelt...</td>\n",
              "      <td>e mail address</td>\n",
              "      <td>sue@sheltercorp.com</td>\n",
              "      <td>jeff.dasovich@enron.com</td>\n",
              "      <td>inbox</td>\n",
              "      <td>sue@sheltercorp.com jeff.dasovich@enron.com e ...</td>\n",
              "    </tr>\n",
              "    <tr>\n",
              "      <th>1240</th>\n",
              "      <td>Sorry--Mike's email is md_mills@yahoo.com, I l...</td>\n",
              "      <td>RE: Save the Date: 12/09/01 - Jeff Walker's 40th</td>\n",
              "      <td>madeleine@madeleinetodd.com</td>\n",
              "      <td>e-mail &lt;.rob@enron.com&gt;, e-mail &lt;.jeff@enron.c...</td>\n",
              "      <td>inbox</td>\n",
              "      <td>madeleine@madeleinetodd.com e-mail &lt;.rob@enron...</td>\n",
              "    </tr>\n",
              "    <tr>\n",
              "      <th>1241</th>\n",
              "      <td>Fellow MBAers,\\n\\nDovetailing Ken's email rega...</td>\n",
              "      <td>Fw: CSO-This Week In Finance</td>\n",
              "      <td>sfalbie@msn.com</td>\n",
              "      <td>eveningmba@haas.berkeley.edu</td>\n",
              "      <td>inbox</td>\n",
              "      <td>sfalbie@msn.com eveningmba@haas.berkeley.edu F...</td>\n",
              "    </tr>\n",
              "  </tbody>\n",
              "</table>\n",
              "</div>\n",
              "      <button class=\"colab-df-convert\" onclick=\"convertToInteractive('df-788bcdd9-6b75-4089-b506-18fa5244f940')\"\n",
              "              title=\"Convert this dataframe to an interactive table.\"\n",
              "              style=\"display:none;\">\n",
              "        \n",
              "  <svg xmlns=\"http://www.w3.org/2000/svg\" height=\"24px\"viewBox=\"0 0 24 24\"\n",
              "       width=\"24px\">\n",
              "    <path d=\"M0 0h24v24H0V0z\" fill=\"none\"/>\n",
              "    <path d=\"M18.56 5.44l.94 2.06.94-2.06 2.06-.94-2.06-.94-.94-2.06-.94 2.06-2.06.94zm-11 1L8.5 8.5l.94-2.06 2.06-.94-2.06-.94L8.5 2.5l-.94 2.06-2.06.94zm10 10l.94 2.06.94-2.06 2.06-.94-2.06-.94-.94-2.06-.94 2.06-2.06.94z\"/><path d=\"M17.41 7.96l-1.37-1.37c-.4-.4-.92-.59-1.43-.59-.52 0-1.04.2-1.43.59L10.3 9.45l-7.72 7.72c-.78.78-.78 2.05 0 2.83L4 21.41c.39.39.9.59 1.41.59.51 0 1.02-.2 1.41-.59l7.78-7.78 2.81-2.81c.8-.78.8-2.07 0-2.86zM5.41 20L4 18.59l7.72-7.72 1.47 1.35L5.41 20z\"/>\n",
              "  </svg>\n",
              "      </button>\n",
              "      \n",
              "  <style>\n",
              "    .colab-df-container {\n",
              "      display:flex;\n",
              "      flex-wrap:wrap;\n",
              "      gap: 12px;\n",
              "    }\n",
              "\n",
              "    .colab-df-convert {\n",
              "      background-color: #E8F0FE;\n",
              "      border: none;\n",
              "      border-radius: 50%;\n",
              "      cursor: pointer;\n",
              "      display: none;\n",
              "      fill: #1967D2;\n",
              "      height: 32px;\n",
              "      padding: 0 0 0 0;\n",
              "      width: 32px;\n",
              "    }\n",
              "\n",
              "    .colab-df-convert:hover {\n",
              "      background-color: #E2EBFA;\n",
              "      box-shadow: 0px 1px 2px rgba(60, 64, 67, 0.3), 0px 1px 3px 1px rgba(60, 64, 67, 0.15);\n",
              "      fill: #174EA6;\n",
              "    }\n",
              "\n",
              "    [theme=dark] .colab-df-convert {\n",
              "      background-color: #3B4455;\n",
              "      fill: #D2E3FC;\n",
              "    }\n",
              "\n",
              "    [theme=dark] .colab-df-convert:hover {\n",
              "      background-color: #434B5C;\n",
              "      box-shadow: 0px 1px 3px 1px rgba(0, 0, 0, 0.15);\n",
              "      filter: drop-shadow(0px 1px 2px rgba(0, 0, 0, 0.3));\n",
              "      fill: #FFFFFF;\n",
              "    }\n",
              "  </style>\n",
              "\n",
              "      <script>\n",
              "        const buttonEl =\n",
              "          document.querySelector('#df-788bcdd9-6b75-4089-b506-18fa5244f940 button.colab-df-convert');\n",
              "        buttonEl.style.display =\n",
              "          google.colab.kernel.accessAllowed ? 'block' : 'none';\n",
              "\n",
              "        async function convertToInteractive(key) {\n",
              "          const element = document.querySelector('#df-788bcdd9-6b75-4089-b506-18fa5244f940');\n",
              "          const dataTable =\n",
              "            await google.colab.kernel.invokeFunction('convertToInteractive',\n",
              "                                                     [key], {});\n",
              "          if (!dataTable) return;\n",
              "\n",
              "          const docLinkHtml = 'Like what you see? Visit the ' +\n",
              "            '<a target=\"_blank\" href=https://colab.research.google.com/notebooks/data_table.ipynb>data table notebook</a>'\n",
              "            + ' to learn more about interactive tables.';\n",
              "          element.innerHTML = '';\n",
              "          dataTable['output_type'] = 'display_data';\n",
              "          await google.colab.output.renderOutput(dataTable, element);\n",
              "          const docLink = document.createElement('div');\n",
              "          docLink.innerHTML = docLinkHtml;\n",
              "          element.appendChild(docLink);\n",
              "        }\n",
              "      </script>\n",
              "    </div>\n",
              "  </div>\n",
              "  "
            ]
          },
          "metadata": {},
          "execution_count": 103
        }
      ]
    },
    {
      "cell_type": "code",
      "source": [
        "#remove other columns\n",
        "remove_cols = [\"Subject\",\"From\",\"To\",\"body\"]\n",
        "df.drop(axis=1,inplace=True,columns=remove_cols)\n",
        "print(df.shape)\n",
        "df.head()"
      ],
      "metadata": {
        "colab": {
          "base_uri": "https://localhost:8080/",
          "height": 224
        },
        "id": "NJbt6VihkdhF",
        "outputId": "4fa5c4c6-29d5-4a7f-e8d9-174c224f4dd6"
      },
      "execution_count": 104,
      "outputs": [
        {
          "output_type": "stream",
          "name": "stdout",
          "text": [
            "(140032, 2)\n"
          ]
        },
        {
          "output_type": "execute_result",
          "data": {
            "text/plain": [
              "     folder_name                                               text\n",
              "1237       inbox  sgovenar@govadv.com smara@enron.com, jdasovic@...\n",
              "1238       inbox  rob.bradley@enron.com jeff.dasovich@enron.com ...\n",
              "1239       inbox  sue@sheltercorp.com jeff.dasovich@enron.com e ...\n",
              "1240       inbox  madeleine@madeleinetodd.com e-mail <.rob@enron...\n",
              "1241       inbox  sfalbie@msn.com eveningmba@haas.berkeley.edu F..."
            ],
            "text/html": [
              "\n",
              "  <div id=\"df-3bb379a8-7e5e-4a9c-9843-93c70527d0e6\">\n",
              "    <div class=\"colab-df-container\">\n",
              "      <div>\n",
              "<style scoped>\n",
              "    .dataframe tbody tr th:only-of-type {\n",
              "        vertical-align: middle;\n",
              "    }\n",
              "\n",
              "    .dataframe tbody tr th {\n",
              "        vertical-align: top;\n",
              "    }\n",
              "\n",
              "    .dataframe thead th {\n",
              "        text-align: right;\n",
              "    }\n",
              "</style>\n",
              "<table border=\"1\" class=\"dataframe\">\n",
              "  <thead>\n",
              "    <tr style=\"text-align: right;\">\n",
              "      <th></th>\n",
              "      <th>folder_name</th>\n",
              "      <th>text</th>\n",
              "    </tr>\n",
              "  </thead>\n",
              "  <tbody>\n",
              "    <tr>\n",
              "      <th>1237</th>\n",
              "      <td>inbox</td>\n",
              "      <td>sgovenar@govadv.com smara@enron.com, jdasovic@...</td>\n",
              "    </tr>\n",
              "    <tr>\n",
              "      <th>1238</th>\n",
              "      <td>inbox</td>\n",
              "      <td>rob.bradley@enron.com jeff.dasovich@enron.com ...</td>\n",
              "    </tr>\n",
              "    <tr>\n",
              "      <th>1239</th>\n",
              "      <td>inbox</td>\n",
              "      <td>sue@sheltercorp.com jeff.dasovich@enron.com e ...</td>\n",
              "    </tr>\n",
              "    <tr>\n",
              "      <th>1240</th>\n",
              "      <td>inbox</td>\n",
              "      <td>madeleine@madeleinetodd.com e-mail &lt;.rob@enron...</td>\n",
              "    </tr>\n",
              "    <tr>\n",
              "      <th>1241</th>\n",
              "      <td>inbox</td>\n",
              "      <td>sfalbie@msn.com eveningmba@haas.berkeley.edu F...</td>\n",
              "    </tr>\n",
              "  </tbody>\n",
              "</table>\n",
              "</div>\n",
              "      <button class=\"colab-df-convert\" onclick=\"convertToInteractive('df-3bb379a8-7e5e-4a9c-9843-93c70527d0e6')\"\n",
              "              title=\"Convert this dataframe to an interactive table.\"\n",
              "              style=\"display:none;\">\n",
              "        \n",
              "  <svg xmlns=\"http://www.w3.org/2000/svg\" height=\"24px\"viewBox=\"0 0 24 24\"\n",
              "       width=\"24px\">\n",
              "    <path d=\"M0 0h24v24H0V0z\" fill=\"none\"/>\n",
              "    <path d=\"M18.56 5.44l.94 2.06.94-2.06 2.06-.94-2.06-.94-.94-2.06-.94 2.06-2.06.94zm-11 1L8.5 8.5l.94-2.06 2.06-.94-2.06-.94L8.5 2.5l-.94 2.06-2.06.94zm10 10l.94 2.06.94-2.06 2.06-.94-2.06-.94-.94-2.06-.94 2.06-2.06.94z\"/><path d=\"M17.41 7.96l-1.37-1.37c-.4-.4-.92-.59-1.43-.59-.52 0-1.04.2-1.43.59L10.3 9.45l-7.72 7.72c-.78.78-.78 2.05 0 2.83L4 21.41c.39.39.9.59 1.41.59.51 0 1.02-.2 1.41-.59l7.78-7.78 2.81-2.81c.8-.78.8-2.07 0-2.86zM5.41 20L4 18.59l7.72-7.72 1.47 1.35L5.41 20z\"/>\n",
              "  </svg>\n",
              "      </button>\n",
              "      \n",
              "  <style>\n",
              "    .colab-df-container {\n",
              "      display:flex;\n",
              "      flex-wrap:wrap;\n",
              "      gap: 12px;\n",
              "    }\n",
              "\n",
              "    .colab-df-convert {\n",
              "      background-color: #E8F0FE;\n",
              "      border: none;\n",
              "      border-radius: 50%;\n",
              "      cursor: pointer;\n",
              "      display: none;\n",
              "      fill: #1967D2;\n",
              "      height: 32px;\n",
              "      padding: 0 0 0 0;\n",
              "      width: 32px;\n",
              "    }\n",
              "\n",
              "    .colab-df-convert:hover {\n",
              "      background-color: #E2EBFA;\n",
              "      box-shadow: 0px 1px 2px rgba(60, 64, 67, 0.3), 0px 1px 3px 1px rgba(60, 64, 67, 0.15);\n",
              "      fill: #174EA6;\n",
              "    }\n",
              "\n",
              "    [theme=dark] .colab-df-convert {\n",
              "      background-color: #3B4455;\n",
              "      fill: #D2E3FC;\n",
              "    }\n",
              "\n",
              "    [theme=dark] .colab-df-convert:hover {\n",
              "      background-color: #434B5C;\n",
              "      box-shadow: 0px 1px 3px 1px rgba(0, 0, 0, 0.15);\n",
              "      filter: drop-shadow(0px 1px 2px rgba(0, 0, 0, 0.3));\n",
              "      fill: #FFFFFF;\n",
              "    }\n",
              "  </style>\n",
              "\n",
              "      <script>\n",
              "        const buttonEl =\n",
              "          document.querySelector('#df-3bb379a8-7e5e-4a9c-9843-93c70527d0e6 button.colab-df-convert');\n",
              "        buttonEl.style.display =\n",
              "          google.colab.kernel.accessAllowed ? 'block' : 'none';\n",
              "\n",
              "        async function convertToInteractive(key) {\n",
              "          const element = document.querySelector('#df-3bb379a8-7e5e-4a9c-9843-93c70527d0e6');\n",
              "          const dataTable =\n",
              "            await google.colab.kernel.invokeFunction('convertToInteractive',\n",
              "                                                     [key], {});\n",
              "          if (!dataTable) return;\n",
              "\n",
              "          const docLinkHtml = 'Like what you see? Visit the ' +\n",
              "            '<a target=\"_blank\" href=https://colab.research.google.com/notebooks/data_table.ipynb>data table notebook</a>'\n",
              "            + ' to learn more about interactive tables.';\n",
              "          element.innerHTML = '';\n",
              "          dataTable['output_type'] = 'display_data';\n",
              "          await google.colab.output.renderOutput(dataTable, element);\n",
              "          const docLink = document.createElement('div');\n",
              "          docLink.innerHTML = docLinkHtml;\n",
              "          element.appendChild(docLink);\n",
              "        }\n",
              "      </script>\n",
              "    </div>\n",
              "  </div>\n",
              "  "
            ]
          },
          "metadata": {},
          "execution_count": 104
        }
      ]
    },
    {
      "cell_type": "code",
      "source": [
        "#pre-process and remove unwanted chars and spaces and new lines\n",
        "def pre_process_data(all_recs):\n",
        "  resp = []\n",
        "  for rec in all_recs:\n",
        "    rec = rec.lower() #Converting to Lower case\n",
        "    rec = re.sub('<.*?>',' ',rec) # remove html tags\n",
        "    #rec = re.sub('[^a-zA-Z]',' ',rec) #remove non-alphabet\n",
        "    #rec = re.sub(r'\\s+[a-zA-Z]\\s+',' ',rec) #remove single character\n",
        "    rec = re.sub(r'\\n+', ' ',rec) # remove extra new lines\n",
        "    #rec = re.sub(\"[\"+string.punctuation+\"]\",\" \",rec) #removing all punctuations and replaing with  empty space\n",
        "    rec = re.sub(r'\\s+',' ',rec) #remove extra spaces\n",
        "\n",
        "    resp.append(rec)\n",
        "  return resp"
      ],
      "metadata": {
        "id": "qYZmrTzkkeH3"
      },
      "execution_count": 105,
      "outputs": []
    },
    {
      "cell_type": "code",
      "source": [
        "import time"
      ],
      "metadata": {
        "id": "6wdzN7Kj24ZS"
      },
      "execution_count": 106,
      "outputs": []
    },
    {
      "cell_type": "code",
      "source": [
        "start = time.time()\n",
        "df[\"text\"] = pre_process_data(df[\"text\"])\n",
        "end = time.time()\n",
        "print(\"Execution time (sec): \",(end - start))"
      ],
      "metadata": {
        "id": "CFxg1oe9kf9B",
        "colab": {
          "base_uri": "https://localhost:8080/"
        },
        "outputId": "8bf91c0b-6716-44cc-8195-382b731952a5"
      },
      "execution_count": 107,
      "outputs": [
        {
          "output_type": "stream",
          "name": "stdout",
          "text": [
            "Execution time (sec):  22.76037907600403\n"
          ]
        }
      ]
    },
    {
      "cell_type": "code",
      "source": [
        "# '''\n",
        "# all documents         120931\n",
        "# other                  56478\n",
        "# sent                   54709\n",
        "# discussion threads     53785\n",
        "# deleted items          44799\n",
        "# inbox                  36182\n",
        "# sent items             35970\n",
        "# notes inbox            35201\n",
        "# 'sent mail             28207\n",
        "# untitled                8114\n",
        "# personal                2349\n",
        "# '''\n",
        "# df = df[df.folder_name != 'untitled']\n",
        "# df = df[df.folder_name != 'personal']\n",
        "# df = df[df.folder_name != 'other']\n",
        "# df[\"folder_name\"].value_counts()"
      ],
      "metadata": {
        "colab": {
          "base_uri": "https://localhost:8080/"
        },
        "id": "Ceo2J_Uskhjt",
        "outputId": "12008930-9c64-421a-a9c6-7fc9cda3d7a8"
      },
      "execution_count": 83,
      "outputs": [
        {
          "output_type": "execute_result",
          "data": {
            "text/plain": [
              "all documents         120931\n",
              "sent                   54709\n",
              "discussion threads     53785\n",
              "deleted items          44799\n",
              "inbox                  36182\n",
              "sent items             35970\n",
              "notes inbox            35201\n",
              "'sent mail             28207\n",
              "Name: folder_name, dtype: int64"
            ]
          },
          "metadata": {},
          "execution_count": 83
        }
      ]
    },
    {
      "cell_type": "code",
      "source": [
        "# df_0 = df[df['folder_name']==\"all documents\"]\n",
        "# #df_1 = df[df['folder_name']==\"other\"]\n",
        "# df_2 = df[df['folder_name']==\"sent\"]\n",
        "# df_3 = df[df['folder_name']==\"discussion threads\"]\n",
        "# df_4 = df[df['folder_name']==\"deleted items\"]\n",
        "# df_5 = df[df['folder_name']==\"inbox\"]\n",
        "# df_6 = df[df['folder_name']==\"sent items\"]\n",
        "# df_7 = df[df['folder_name']==\"notes inbox\"]\n",
        "# df_8 = df[df['folder_name']==\"'sent mail\"]\n"
      ],
      "metadata": {
        "id": "3x9we1DViHAn"
      },
      "execution_count": 84,
      "outputs": []
    },
    {
      "cell_type": "code",
      "source": [
        "# print(df_0.shape)\n",
        "# #print(df_1.shape)\n",
        "# print(df_2.shape)\n",
        "# print(df_3.shape)\n",
        "# print(df_4.shape)\n",
        "# print(df_5.shape)\n",
        "# print(df_6.shape)\n",
        "# print(df_7.shape)\n",
        "# print(df_8.shape)"
      ],
      "metadata": {
        "colab": {
          "base_uri": "https://localhost:8080/"
        },
        "id": "nou3q7goisVn",
        "outputId": "12d57db6-6350-474f-d8f4-7f6a670eb3ce"
      },
      "execution_count": 85,
      "outputs": [
        {
          "output_type": "stream",
          "name": "stdout",
          "text": [
            "(120931, 2)\n",
            "(54709, 2)\n",
            "(53785, 2)\n",
            "(44799, 2)\n",
            "(36182, 2)\n",
            "(35970, 2)\n",
            "(35201, 2)\n",
            "(28207, 2)\n"
          ]
        }
      ]
    },
    {
      "cell_type": "code",
      "source": [
        "# df_len = df_8.shape[0]\n",
        "# df_0_ds = df_0.sample(df_len)\n",
        "# #df_1_ds = df_1.sample(df_len)\n",
        "# df_2_ds = df_2.sample(df_len)\n",
        "# df_3_ds = df_3.sample(df_len)\n",
        "# df_4_ds = df_4.sample(df_len)\n",
        "# df_5_ds = df_5.sample(df_len)\n",
        "# df_6_ds = df_6.sample(df_len)\n",
        "# df_7_ds = df_7.sample(df_len)\n",
        "# df_8_ds = df_8.sample(df_len)\n"
      ],
      "metadata": {
        "id": "XyJdC5Bziue3"
      },
      "execution_count": 86,
      "outputs": []
    },
    {
      "cell_type": "code",
      "source": [
        "# print(df_3_ds.shape)\n",
        "# #print(df_1_ds.shape)\n",
        "# print(df_2_ds.shape)\n",
        "# print(df_0_ds.shape)\n",
        "# print(df_4_ds.shape)\n",
        "# print(df_5_ds.shape)\n",
        "# print(df_6_ds.shape)\n",
        "# print(df_7_ds.shape)\n",
        "# print(df_8_ds.shape)\n"
      ],
      "metadata": {
        "colab": {
          "base_uri": "https://localhost:8080/"
        },
        "id": "OaZaQgKvivEk",
        "outputId": "c5f0bda3-1fbc-4f8a-86d4-5943f73a895f"
      },
      "execution_count": 87,
      "outputs": [
        {
          "output_type": "stream",
          "name": "stdout",
          "text": [
            "(28207, 2)\n",
            "(28207, 2)\n",
            "(28207, 2)\n",
            "(28207, 2)\n",
            "(28207, 2)\n",
            "(28207, 2)\n",
            "(28207, 2)\n",
            "(28207, 2)\n"
          ]
        }
      ]
    },
    {
      "cell_type": "code",
      "source": [
        "# df = pd.concat([df_0_ds,df_2_ds,df_3_ds,df_4_ds,df_5_ds,df_6_ds,df_7_ds,df_8_ds])\n",
        "# print(df.shape)\n",
        "# df.head(3)"
      ],
      "metadata": {
        "colab": {
          "base_uri": "https://localhost:8080/",
          "height": 161
        },
        "id": "uVbmK7tSiyzW",
        "outputId": "4502724f-9496-4d7e-e42d-0fb49ec3f507"
      },
      "execution_count": 88,
      "outputs": [
        {
          "output_type": "stream",
          "name": "stdout",
          "text": [
            "(225656, 2)\n"
          ]
        },
        {
          "output_type": "execute_result",
          "data": {
            "text/plain": [
              "          folder_name                                               text\n",
              "96931   all documents  re erequests can someone call me at i in the m...\n",
              "149453  all documents  re isda agreement between enron canada corp an...\n",
              "4911    all documents  re thanks steve ll coordinate with rosie best ..."
            ],
            "text/html": [
              "\n",
              "  <div id=\"df-c27a0c4d-5899-4039-b9c8-ad2302feadaf\">\n",
              "    <div class=\"colab-df-container\">\n",
              "      <div>\n",
              "<style scoped>\n",
              "    .dataframe tbody tr th:only-of-type {\n",
              "        vertical-align: middle;\n",
              "    }\n",
              "\n",
              "    .dataframe tbody tr th {\n",
              "        vertical-align: top;\n",
              "    }\n",
              "\n",
              "    .dataframe thead th {\n",
              "        text-align: right;\n",
              "    }\n",
              "</style>\n",
              "<table border=\"1\" class=\"dataframe\">\n",
              "  <thead>\n",
              "    <tr style=\"text-align: right;\">\n",
              "      <th></th>\n",
              "      <th>folder_name</th>\n",
              "      <th>text</th>\n",
              "    </tr>\n",
              "  </thead>\n",
              "  <tbody>\n",
              "    <tr>\n",
              "      <th>96931</th>\n",
              "      <td>all documents</td>\n",
              "      <td>re erequests can someone call me at i in the m...</td>\n",
              "    </tr>\n",
              "    <tr>\n",
              "      <th>149453</th>\n",
              "      <td>all documents</td>\n",
              "      <td>re isda agreement between enron canada corp an...</td>\n",
              "    </tr>\n",
              "    <tr>\n",
              "      <th>4911</th>\n",
              "      <td>all documents</td>\n",
              "      <td>re thanks steve ll coordinate with rosie best ...</td>\n",
              "    </tr>\n",
              "  </tbody>\n",
              "</table>\n",
              "</div>\n",
              "      <button class=\"colab-df-convert\" onclick=\"convertToInteractive('df-c27a0c4d-5899-4039-b9c8-ad2302feadaf')\"\n",
              "              title=\"Convert this dataframe to an interactive table.\"\n",
              "              style=\"display:none;\">\n",
              "        \n",
              "  <svg xmlns=\"http://www.w3.org/2000/svg\" height=\"24px\"viewBox=\"0 0 24 24\"\n",
              "       width=\"24px\">\n",
              "    <path d=\"M0 0h24v24H0V0z\" fill=\"none\"/>\n",
              "    <path d=\"M18.56 5.44l.94 2.06.94-2.06 2.06-.94-2.06-.94-.94-2.06-.94 2.06-2.06.94zm-11 1L8.5 8.5l.94-2.06 2.06-.94-2.06-.94L8.5 2.5l-.94 2.06-2.06.94zm10 10l.94 2.06.94-2.06 2.06-.94-2.06-.94-.94-2.06-.94 2.06-2.06.94z\"/><path d=\"M17.41 7.96l-1.37-1.37c-.4-.4-.92-.59-1.43-.59-.52 0-1.04.2-1.43.59L10.3 9.45l-7.72 7.72c-.78.78-.78 2.05 0 2.83L4 21.41c.39.39.9.59 1.41.59.51 0 1.02-.2 1.41-.59l7.78-7.78 2.81-2.81c.8-.78.8-2.07 0-2.86zM5.41 20L4 18.59l7.72-7.72 1.47 1.35L5.41 20z\"/>\n",
              "  </svg>\n",
              "      </button>\n",
              "      \n",
              "  <style>\n",
              "    .colab-df-container {\n",
              "      display:flex;\n",
              "      flex-wrap:wrap;\n",
              "      gap: 12px;\n",
              "    }\n",
              "\n",
              "    .colab-df-convert {\n",
              "      background-color: #E8F0FE;\n",
              "      border: none;\n",
              "      border-radius: 50%;\n",
              "      cursor: pointer;\n",
              "      display: none;\n",
              "      fill: #1967D2;\n",
              "      height: 32px;\n",
              "      padding: 0 0 0 0;\n",
              "      width: 32px;\n",
              "    }\n",
              "\n",
              "    .colab-df-convert:hover {\n",
              "      background-color: #E2EBFA;\n",
              "      box-shadow: 0px 1px 2px rgba(60, 64, 67, 0.3), 0px 1px 3px 1px rgba(60, 64, 67, 0.15);\n",
              "      fill: #174EA6;\n",
              "    }\n",
              "\n",
              "    [theme=dark] .colab-df-convert {\n",
              "      background-color: #3B4455;\n",
              "      fill: #D2E3FC;\n",
              "    }\n",
              "\n",
              "    [theme=dark] .colab-df-convert:hover {\n",
              "      background-color: #434B5C;\n",
              "      box-shadow: 0px 1px 3px 1px rgba(0, 0, 0, 0.15);\n",
              "      filter: drop-shadow(0px 1px 2px rgba(0, 0, 0, 0.3));\n",
              "      fill: #FFFFFF;\n",
              "    }\n",
              "  </style>\n",
              "\n",
              "      <script>\n",
              "        const buttonEl =\n",
              "          document.querySelector('#df-c27a0c4d-5899-4039-b9c8-ad2302feadaf button.colab-df-convert');\n",
              "        buttonEl.style.display =\n",
              "          google.colab.kernel.accessAllowed ? 'block' : 'none';\n",
              "\n",
              "        async function convertToInteractive(key) {\n",
              "          const element = document.querySelector('#df-c27a0c4d-5899-4039-b9c8-ad2302feadaf');\n",
              "          const dataTable =\n",
              "            await google.colab.kernel.invokeFunction('convertToInteractive',\n",
              "                                                     [key], {});\n",
              "          if (!dataTable) return;\n",
              "\n",
              "          const docLinkHtml = 'Like what you see? Visit the ' +\n",
              "            '<a target=\"_blank\" href=https://colab.research.google.com/notebooks/data_table.ipynb>data table notebook</a>'\n",
              "            + ' to learn more about interactive tables.';\n",
              "          element.innerHTML = '';\n",
              "          dataTable['output_type'] = 'display_data';\n",
              "          await google.colab.output.renderOutput(dataTable, element);\n",
              "          const docLink = document.createElement('div');\n",
              "          docLink.innerHTML = docLinkHtml;\n",
              "          element.appendChild(docLink);\n",
              "        }\n",
              "      </script>\n",
              "    </div>\n",
              "  </div>\n",
              "  "
            ]
          },
          "metadata": {},
          "execution_count": 88
        }
      ]
    },
    {
      "cell_type": "code",
      "source": [
        "# print(df.shape)"
      ],
      "metadata": {
        "colab": {
          "base_uri": "https://localhost:8080/"
        },
        "id": "-YqFMNg-xb2w",
        "outputId": "22ad14f2-170d-4791-f2ee-78c4115ad938"
      },
      "execution_count": 89,
      "outputs": [
        {
          "output_type": "stream",
          "name": "stdout",
          "text": [
            "(225656, 2)\n"
          ]
        }
      ]
    },
    {
      "cell_type": "markdown",
      "source": [
        "#RoBERTa\n",
        "https://arxiv.org/pdf/1907.11692.pdf"
      ],
      "metadata": {
        "id": "crFOQPIZlLXc"
      }
    },
    {
      "cell_type": "code",
      "source": [
        "!pip3 install tensorflow"
      ],
      "metadata": {
        "colab": {
          "base_uri": "https://localhost:8080/"
        },
        "id": "vWNSKYQaxg5p",
        "outputId": "41c00e93-9506-4f34-9d37-c2902e116dd9"
      },
      "execution_count": 30,
      "outputs": [
        {
          "output_type": "stream",
          "name": "stdout",
          "text": [
            "Looking in indexes: https://pypi.org/simple, https://us-python.pkg.dev/colab-wheels/public/simple/\n",
            "Requirement already satisfied: tensorflow in /usr/local/lib/python3.8/dist-packages (2.9.2)\n",
            "Requirement already satisfied: numpy>=1.20 in /usr/local/lib/python3.8/dist-packages (from tensorflow) (1.21.6)\n",
            "Requirement already satisfied: opt-einsum>=2.3.2 in /usr/local/lib/python3.8/dist-packages (from tensorflow) (3.3.0)\n",
            "Requirement already satisfied: gast<=0.4.0,>=0.2.1 in /usr/local/lib/python3.8/dist-packages (from tensorflow) (0.4.0)\n",
            "Requirement already satisfied: libclang>=13.0.0 in /usr/local/lib/python3.8/dist-packages (from tensorflow) (15.0.6.1)\n",
            "Requirement already satisfied: six>=1.12.0 in /usr/local/lib/python3.8/dist-packages (from tensorflow) (1.15.0)\n",
            "Requirement already satisfied: tensorflow-estimator<2.10.0,>=2.9.0rc0 in /usr/local/lib/python3.8/dist-packages (from tensorflow) (2.9.0)\n",
            "Requirement already satisfied: keras-preprocessing>=1.1.1 in /usr/local/lib/python3.8/dist-packages (from tensorflow) (1.1.2)\n",
            "Requirement already satisfied: tensorflow-io-gcs-filesystem>=0.23.1 in /usr/local/lib/python3.8/dist-packages (from tensorflow) (0.29.0)\n",
            "Requirement already satisfied: google-pasta>=0.1.1 in /usr/local/lib/python3.8/dist-packages (from tensorflow) (0.2.0)\n",
            "Requirement already satisfied: grpcio<2.0,>=1.24.3 in /usr/local/lib/python3.8/dist-packages (from tensorflow) (1.51.1)\n",
            "Requirement already satisfied: packaging in /usr/local/lib/python3.8/dist-packages (from tensorflow) (21.3)\n",
            "Requirement already satisfied: setuptools in /usr/local/lib/python3.8/dist-packages (from tensorflow) (57.4.0)\n",
            "Requirement already satisfied: termcolor>=1.1.0 in /usr/local/lib/python3.8/dist-packages (from tensorflow) (2.2.0)\n",
            "Requirement already satisfied: wrapt>=1.11.0 in /usr/local/lib/python3.8/dist-packages (from tensorflow) (1.14.1)\n",
            "Requirement already satisfied: protobuf<3.20,>=3.9.2 in /usr/local/lib/python3.8/dist-packages (from tensorflow) (3.19.6)\n",
            "Requirement already satisfied: typing-extensions>=3.6.6 in /usr/local/lib/python3.8/dist-packages (from tensorflow) (4.4.0)\n",
            "Requirement already satisfied: keras<2.10.0,>=2.9.0rc0 in /usr/local/lib/python3.8/dist-packages (from tensorflow) (2.9.0)\n",
            "Requirement already satisfied: absl-py>=1.0.0 in /usr/local/lib/python3.8/dist-packages (from tensorflow) (1.3.0)\n",
            "Requirement already satisfied: flatbuffers<2,>=1.12 in /usr/local/lib/python3.8/dist-packages (from tensorflow) (1.12)\n",
            "Requirement already satisfied: tensorboard<2.10,>=2.9 in /usr/local/lib/python3.8/dist-packages (from tensorflow) (2.9.1)\n",
            "Requirement already satisfied: astunparse>=1.6.0 in /usr/local/lib/python3.8/dist-packages (from tensorflow) (1.6.3)\n",
            "Requirement already satisfied: h5py>=2.9.0 in /usr/local/lib/python3.8/dist-packages (from tensorflow) (3.1.0)\n",
            "Requirement already satisfied: wheel<1.0,>=0.23.0 in /usr/local/lib/python3.8/dist-packages (from astunparse>=1.6.0->tensorflow) (0.38.4)\n",
            "Requirement already satisfied: markdown>=2.6.8 in /usr/local/lib/python3.8/dist-packages (from tensorboard<2.10,>=2.9->tensorflow) (3.4.1)\n",
            "Requirement already satisfied: requests<3,>=2.21.0 in /usr/local/lib/python3.8/dist-packages (from tensorboard<2.10,>=2.9->tensorflow) (2.25.1)\n",
            "Requirement already satisfied: werkzeug>=1.0.1 in /usr/local/lib/python3.8/dist-packages (from tensorboard<2.10,>=2.9->tensorflow) (1.0.1)\n",
            "Requirement already satisfied: google-auth<3,>=1.6.3 in /usr/local/lib/python3.8/dist-packages (from tensorboard<2.10,>=2.9->tensorflow) (2.16.0)\n",
            "Requirement already satisfied: google-auth-oauthlib<0.5,>=0.4.1 in /usr/local/lib/python3.8/dist-packages (from tensorboard<2.10,>=2.9->tensorflow) (0.4.6)\n",
            "Requirement already satisfied: tensorboard-data-server<0.7.0,>=0.6.0 in /usr/local/lib/python3.8/dist-packages (from tensorboard<2.10,>=2.9->tensorflow) (0.6.1)\n",
            "Requirement already satisfied: tensorboard-plugin-wit>=1.6.0 in /usr/local/lib/python3.8/dist-packages (from tensorboard<2.10,>=2.9->tensorflow) (1.8.1)\n",
            "Requirement already satisfied: pyparsing!=3.0.5,>=2.0.2 in /usr/local/lib/python3.8/dist-packages (from packaging->tensorflow) (3.0.9)\n",
            "Requirement already satisfied: cachetools<6.0,>=2.0.0 in /usr/local/lib/python3.8/dist-packages (from google-auth<3,>=1.6.3->tensorboard<2.10,>=2.9->tensorflow) (5.2.1)\n",
            "Requirement already satisfied: rsa<5,>=3.1.4 in /usr/local/lib/python3.8/dist-packages (from google-auth<3,>=1.6.3->tensorboard<2.10,>=2.9->tensorflow) (4.9)\n",
            "Requirement already satisfied: pyasn1-modules>=0.2.1 in /usr/local/lib/python3.8/dist-packages (from google-auth<3,>=1.6.3->tensorboard<2.10,>=2.9->tensorflow) (0.2.8)\n",
            "Requirement already satisfied: requests-oauthlib>=0.7.0 in /usr/local/lib/python3.8/dist-packages (from google-auth-oauthlib<0.5,>=0.4.1->tensorboard<2.10,>=2.9->tensorflow) (1.3.1)\n",
            "Requirement already satisfied: importlib-metadata>=4.4 in /usr/local/lib/python3.8/dist-packages (from markdown>=2.6.8->tensorboard<2.10,>=2.9->tensorflow) (6.0.0)\n",
            "Requirement already satisfied: certifi>=2017.4.17 in /usr/local/lib/python3.8/dist-packages (from requests<3,>=2.21.0->tensorboard<2.10,>=2.9->tensorflow) (2022.12.7)\n",
            "Requirement already satisfied: urllib3<1.27,>=1.21.1 in /usr/local/lib/python3.8/dist-packages (from requests<3,>=2.21.0->tensorboard<2.10,>=2.9->tensorflow) (1.24.3)\n",
            "Requirement already satisfied: idna<3,>=2.5 in /usr/local/lib/python3.8/dist-packages (from requests<3,>=2.21.0->tensorboard<2.10,>=2.9->tensorflow) (2.10)\n",
            "Requirement already satisfied: chardet<5,>=3.0.2 in /usr/local/lib/python3.8/dist-packages (from requests<3,>=2.21.0->tensorboard<2.10,>=2.9->tensorflow) (4.0.0)\n",
            "Requirement already satisfied: zipp>=0.5 in /usr/local/lib/python3.8/dist-packages (from importlib-metadata>=4.4->markdown>=2.6.8->tensorboard<2.10,>=2.9->tensorflow) (3.11.0)\n",
            "Requirement already satisfied: pyasn1<0.5.0,>=0.4.6 in /usr/local/lib/python3.8/dist-packages (from pyasn1-modules>=0.2.1->google-auth<3,>=1.6.3->tensorboard<2.10,>=2.9->tensorflow) (0.4.8)\n",
            "Requirement already satisfied: oauthlib>=3.0.0 in /usr/local/lib/python3.8/dist-packages (from requests-oauthlib>=0.7.0->google-auth-oauthlib<0.5,>=0.4.1->tensorboard<2.10,>=2.9->tensorflow) (3.2.2)\n"
          ]
        }
      ]
    },
    {
      "cell_type": "code",
      "source": [
        "!pip3 install tokenizers"
      ],
      "metadata": {
        "colab": {
          "base_uri": "https://localhost:8080/"
        },
        "id": "PnA4Z6FUx1E2",
        "outputId": "40068cdf-d484-4779-b944-c1e3f35239f7"
      },
      "execution_count": 31,
      "outputs": [
        {
          "output_type": "stream",
          "name": "stdout",
          "text": [
            "Looking in indexes: https://pypi.org/simple, https://us-python.pkg.dev/colab-wheels/public/simple/\n",
            "Collecting tokenizers\n",
            "  Downloading tokenizers-0.13.2-cp38-cp38-manylinux_2_17_x86_64.manylinux2014_x86_64.whl (7.6 MB)\n",
            "\u001b[2K     \u001b[90m━━━━━━━━━━━━━━━━━━━━━━━━━━━━━━━━━━━━━━━━\u001b[0m \u001b[32m7.6/7.6 MB\u001b[0m \u001b[31m47.0 MB/s\u001b[0m eta \u001b[36m0:00:00\u001b[0m\n",
            "\u001b[?25hInstalling collected packages: tokenizers\n",
            "Successfully installed tokenizers-0.13.2\n"
          ]
        }
      ]
    },
    {
      "cell_type": "code",
      "source": [
        "!pip3 install transformers"
      ],
      "metadata": {
        "colab": {
          "base_uri": "https://localhost:8080/"
        },
        "id": "JknZSLXDx9sD",
        "outputId": "a5a879d0-4831-48b9-b45a-880ab87d6397"
      },
      "execution_count": 32,
      "outputs": [
        {
          "output_type": "stream",
          "name": "stdout",
          "text": [
            "Looking in indexes: https://pypi.org/simple, https://us-python.pkg.dev/colab-wheels/public/simple/\n",
            "Collecting transformers\n",
            "  Downloading transformers-4.25.1-py3-none-any.whl (5.8 MB)\n",
            "\u001b[2K     \u001b[90m━━━━━━━━━━━━━━━━━━━━━━━━━━━━━━━━━━━━━━━━\u001b[0m \u001b[32m5.8/5.8 MB\u001b[0m \u001b[31m48.5 MB/s\u001b[0m eta \u001b[36m0:00:00\u001b[0m\n",
            "\u001b[?25hRequirement already satisfied: filelock in /usr/local/lib/python3.8/dist-packages (from transformers) (3.9.0)\n",
            "Requirement already satisfied: tokenizers!=0.11.3,<0.14,>=0.11.1 in /usr/local/lib/python3.8/dist-packages (from transformers) (0.13.2)\n",
            "Requirement already satisfied: packaging>=20.0 in /usr/local/lib/python3.8/dist-packages (from transformers) (21.3)\n",
            "Requirement already satisfied: numpy>=1.17 in /usr/local/lib/python3.8/dist-packages (from transformers) (1.21.6)\n",
            "Requirement already satisfied: tqdm>=4.27 in /usr/local/lib/python3.8/dist-packages (from transformers) (4.64.1)\n",
            "Collecting huggingface-hub<1.0,>=0.10.0\n",
            "  Downloading huggingface_hub-0.11.1-py3-none-any.whl (182 kB)\n",
            "\u001b[2K     \u001b[90m━━━━━━━━━━━━━━━━━━━━━━━━━━━━━━━━━━━━━━\u001b[0m \u001b[32m182.4/182.4 KB\u001b[0m \u001b[31m19.2 MB/s\u001b[0m eta \u001b[36m0:00:00\u001b[0m\n",
            "\u001b[?25hRequirement already satisfied: requests in /usr/local/lib/python3.8/dist-packages (from transformers) (2.25.1)\n",
            "Requirement already satisfied: regex!=2019.12.17 in /usr/local/lib/python3.8/dist-packages (from transformers) (2022.6.2)\n",
            "Requirement already satisfied: pyyaml>=5.1 in /usr/local/lib/python3.8/dist-packages (from transformers) (6.0)\n",
            "Requirement already satisfied: typing-extensions>=3.7.4.3 in /usr/local/lib/python3.8/dist-packages (from huggingface-hub<1.0,>=0.10.0->transformers) (4.4.0)\n",
            "Requirement already satisfied: pyparsing!=3.0.5,>=2.0.2 in /usr/local/lib/python3.8/dist-packages (from packaging>=20.0->transformers) (3.0.9)\n",
            "Requirement already satisfied: idna<3,>=2.5 in /usr/local/lib/python3.8/dist-packages (from requests->transformers) (2.10)\n",
            "Requirement already satisfied: chardet<5,>=3.0.2 in /usr/local/lib/python3.8/dist-packages (from requests->transformers) (4.0.0)\n",
            "Requirement already satisfied: certifi>=2017.4.17 in /usr/local/lib/python3.8/dist-packages (from requests->transformers) (2022.12.7)\n",
            "Requirement already satisfied: urllib3<1.27,>=1.21.1 in /usr/local/lib/python3.8/dist-packages (from requests->transformers) (1.24.3)\n",
            "Installing collected packages: huggingface-hub, transformers\n",
            "Successfully installed huggingface-hub-0.11.1 transformers-4.25.1\n"
          ]
        }
      ]
    },
    {
      "cell_type": "code",
      "source": [
        "!pip3 install tensorflow_text"
      ],
      "metadata": {
        "colab": {
          "base_uri": "https://localhost:8080/",
          "height": 1000
        },
        "id": "Mgffxreb8_Lt",
        "outputId": "50cd74d1-5bce-4dea-b4b7-cedb62c5be28"
      },
      "execution_count": 5,
      "outputs": [
        {
          "output_type": "stream",
          "name": "stdout",
          "text": [
            "Looking in indexes: https://pypi.org/simple, https://us-python.pkg.dev/colab-wheels/public/simple/\n",
            "Collecting tensorflow_text\n",
            "  Downloading tensorflow_text-2.11.0-cp38-cp38-manylinux_2_17_x86_64.manylinux2014_x86_64.whl (5.8 MB)\n",
            "\u001b[2K     \u001b[90m━━━━━━━━━━━━━━━━━━━━━━━━━━━━━━━━━━━━━━━━\u001b[0m \u001b[32m5.8/5.8 MB\u001b[0m \u001b[31m46.9 MB/s\u001b[0m eta \u001b[36m0:00:00\u001b[0m\n",
            "\u001b[?25hCollecting tensorflow<2.12,>=2.11.0\n",
            "  Downloading tensorflow-2.11.0-cp38-cp38-manylinux_2_17_x86_64.manylinux2014_x86_64.whl (588.3 MB)\n",
            "\u001b[2K     \u001b[90m━━━━━━━━━━━━━━━━━━━━━━━━━━━━━━━━━━━━━━━\u001b[0m \u001b[32m588.3/588.3 MB\u001b[0m \u001b[31m2.1 MB/s\u001b[0m eta \u001b[36m0:00:00\u001b[0m\n",
            "\u001b[?25hRequirement already satisfied: tensorflow-hub>=0.8.0 in /usr/local/lib/python3.8/dist-packages (from tensorflow_text) (0.12.0)\n",
            "Requirement already satisfied: wrapt>=1.11.0 in /usr/local/lib/python3.8/dist-packages (from tensorflow<2.12,>=2.11.0->tensorflow_text) (1.14.1)\n",
            "Collecting tensorboard<2.12,>=2.11\n",
            "  Downloading tensorboard-2.11.2-py3-none-any.whl (6.0 MB)\n",
            "\u001b[2K     \u001b[90m━━━━━━━━━━━━━━━━━━━━━━━━━━━━━━━━━━━━━━━━\u001b[0m \u001b[32m6.0/6.0 MB\u001b[0m \u001b[31m60.8 MB/s\u001b[0m eta \u001b[36m0:00:00\u001b[0m\n",
            "\u001b[?25hRequirement already satisfied: tensorflow-io-gcs-filesystem>=0.23.1 in /usr/local/lib/python3.8/dist-packages (from tensorflow<2.12,>=2.11.0->tensorflow_text) (0.29.0)\n",
            "Requirement already satisfied: packaging in /usr/local/lib/python3.8/dist-packages (from tensorflow<2.12,>=2.11.0->tensorflow_text) (21.3)\n",
            "Requirement already satisfied: opt-einsum>=2.3.2 in /usr/local/lib/python3.8/dist-packages (from tensorflow<2.12,>=2.11.0->tensorflow_text) (3.3.0)\n",
            "Requirement already satisfied: astunparse>=1.6.0 in /usr/local/lib/python3.8/dist-packages (from tensorflow<2.12,>=2.11.0->tensorflow_text) (1.6.3)\n",
            "Requirement already satisfied: libclang>=13.0.0 in /usr/local/lib/python3.8/dist-packages (from tensorflow<2.12,>=2.11.0->tensorflow_text) (15.0.6.1)\n",
            "Collecting keras<2.12,>=2.11.0\n",
            "  Downloading keras-2.11.0-py2.py3-none-any.whl (1.7 MB)\n",
            "\u001b[2K     \u001b[90m━━━━━━━━━━━━━━━━━━━━━━━━━━━━━━━━━━━━━━━━\u001b[0m \u001b[32m1.7/1.7 MB\u001b[0m \u001b[31m52.3 MB/s\u001b[0m eta \u001b[36m0:00:00\u001b[0m\n",
            "\u001b[?25hCollecting flatbuffers>=2.0\n",
            "  Downloading flatbuffers-23.1.4-py2.py3-none-any.whl (26 kB)\n",
            "Requirement already satisfied: protobuf<3.20,>=3.9.2 in /usr/local/lib/python3.8/dist-packages (from tensorflow<2.12,>=2.11.0->tensorflow_text) (3.19.6)\n",
            "Requirement already satisfied: grpcio<2.0,>=1.24.3 in /usr/local/lib/python3.8/dist-packages (from tensorflow<2.12,>=2.11.0->tensorflow_text) (1.51.1)\n",
            "Requirement already satisfied: setuptools in /usr/local/lib/python3.8/dist-packages (from tensorflow<2.12,>=2.11.0->tensorflow_text) (57.4.0)\n",
            "Requirement already satisfied: absl-py>=1.0.0 in /usr/local/lib/python3.8/dist-packages (from tensorflow<2.12,>=2.11.0->tensorflow_text) (1.3.0)\n",
            "Requirement already satisfied: six>=1.12.0 in /usr/local/lib/python3.8/dist-packages (from tensorflow<2.12,>=2.11.0->tensorflow_text) (1.15.0)\n",
            "Collecting tensorflow-estimator<2.12,>=2.11.0\n",
            "  Downloading tensorflow_estimator-2.11.0-py2.py3-none-any.whl (439 kB)\n",
            "\u001b[2K     \u001b[90m━━━━━━━━━━━━━━━━━━━━━━━━━━━━━━━━━━━━━━\u001b[0m \u001b[32m439.2/439.2 KB\u001b[0m \u001b[31m17.4 MB/s\u001b[0m eta \u001b[36m0:00:00\u001b[0m\n",
            "\u001b[?25hRequirement already satisfied: h5py>=2.9.0 in /usr/local/lib/python3.8/dist-packages (from tensorflow<2.12,>=2.11.0->tensorflow_text) (3.1.0)\n",
            "Requirement already satisfied: termcolor>=1.1.0 in /usr/local/lib/python3.8/dist-packages (from tensorflow<2.12,>=2.11.0->tensorflow_text) (2.2.0)\n",
            "Requirement already satisfied: gast<=0.4.0,>=0.2.1 in /usr/local/lib/python3.8/dist-packages (from tensorflow<2.12,>=2.11.0->tensorflow_text) (0.4.0)\n",
            "Requirement already satisfied: numpy>=1.20 in /usr/local/lib/python3.8/dist-packages (from tensorflow<2.12,>=2.11.0->tensorflow_text) (1.21.6)\n",
            "Requirement already satisfied: typing-extensions>=3.6.6 in /usr/local/lib/python3.8/dist-packages (from tensorflow<2.12,>=2.11.0->tensorflow_text) (4.4.0)\n",
            "Requirement already satisfied: google-pasta>=0.1.1 in /usr/local/lib/python3.8/dist-packages (from tensorflow<2.12,>=2.11.0->tensorflow_text) (0.2.0)\n",
            "Requirement already satisfied: wheel<1.0,>=0.23.0 in /usr/local/lib/python3.8/dist-packages (from astunparse>=1.6.0->tensorflow<2.12,>=2.11.0->tensorflow_text) (0.38.4)\n",
            "Requirement already satisfied: markdown>=2.6.8 in /usr/local/lib/python3.8/dist-packages (from tensorboard<2.12,>=2.11->tensorflow<2.12,>=2.11.0->tensorflow_text) (3.4.1)\n",
            "Requirement already satisfied: google-auth<3,>=1.6.3 in /usr/local/lib/python3.8/dist-packages (from tensorboard<2.12,>=2.11->tensorflow<2.12,>=2.11.0->tensorflow_text) (2.16.0)\n",
            "Requirement already satisfied: tensorboard-data-server<0.7.0,>=0.6.0 in /usr/local/lib/python3.8/dist-packages (from tensorboard<2.12,>=2.11->tensorflow<2.12,>=2.11.0->tensorflow_text) (0.6.1)\n",
            "Requirement already satisfied: werkzeug>=1.0.1 in /usr/local/lib/python3.8/dist-packages (from tensorboard<2.12,>=2.11->tensorflow<2.12,>=2.11.0->tensorflow_text) (1.0.1)\n",
            "Requirement already satisfied: google-auth-oauthlib<0.5,>=0.4.1 in /usr/local/lib/python3.8/dist-packages (from tensorboard<2.12,>=2.11->tensorflow<2.12,>=2.11.0->tensorflow_text) (0.4.6)\n",
            "Requirement already satisfied: tensorboard-plugin-wit>=1.6.0 in /usr/local/lib/python3.8/dist-packages (from tensorboard<2.12,>=2.11->tensorflow<2.12,>=2.11.0->tensorflow_text) (1.8.1)\n",
            "Requirement already satisfied: requests<3,>=2.21.0 in /usr/local/lib/python3.8/dist-packages (from tensorboard<2.12,>=2.11->tensorflow<2.12,>=2.11.0->tensorflow_text) (2.25.1)\n",
            "Requirement already satisfied: pyparsing!=3.0.5,>=2.0.2 in /usr/local/lib/python3.8/dist-packages (from packaging->tensorflow<2.12,>=2.11.0->tensorflow_text) (3.0.9)\n",
            "Requirement already satisfied: cachetools<6.0,>=2.0.0 in /usr/local/lib/python3.8/dist-packages (from google-auth<3,>=1.6.3->tensorboard<2.12,>=2.11->tensorflow<2.12,>=2.11.0->tensorflow_text) (5.2.1)\n",
            "Requirement already satisfied: pyasn1-modules>=0.2.1 in /usr/local/lib/python3.8/dist-packages (from google-auth<3,>=1.6.3->tensorboard<2.12,>=2.11->tensorflow<2.12,>=2.11.0->tensorflow_text) (0.2.8)\n",
            "Requirement already satisfied: rsa<5,>=3.1.4 in /usr/local/lib/python3.8/dist-packages (from google-auth<3,>=1.6.3->tensorboard<2.12,>=2.11->tensorflow<2.12,>=2.11.0->tensorflow_text) (4.9)\n",
            "Requirement already satisfied: requests-oauthlib>=0.7.0 in /usr/local/lib/python3.8/dist-packages (from google-auth-oauthlib<0.5,>=0.4.1->tensorboard<2.12,>=2.11->tensorflow<2.12,>=2.11.0->tensorflow_text) (1.3.1)\n",
            "Requirement already satisfied: importlib-metadata>=4.4 in /usr/local/lib/python3.8/dist-packages (from markdown>=2.6.8->tensorboard<2.12,>=2.11->tensorflow<2.12,>=2.11.0->tensorflow_text) (6.0.0)\n",
            "Requirement already satisfied: chardet<5,>=3.0.2 in /usr/local/lib/python3.8/dist-packages (from requests<3,>=2.21.0->tensorboard<2.12,>=2.11->tensorflow<2.12,>=2.11.0->tensorflow_text) (4.0.0)\n",
            "Requirement already satisfied: urllib3<1.27,>=1.21.1 in /usr/local/lib/python3.8/dist-packages (from requests<3,>=2.21.0->tensorboard<2.12,>=2.11->tensorflow<2.12,>=2.11.0->tensorflow_text) (1.24.3)\n",
            "Requirement already satisfied: certifi>=2017.4.17 in /usr/local/lib/python3.8/dist-packages (from requests<3,>=2.21.0->tensorboard<2.12,>=2.11->tensorflow<2.12,>=2.11.0->tensorflow_text) (2022.12.7)\n",
            "Requirement already satisfied: idna<3,>=2.5 in /usr/local/lib/python3.8/dist-packages (from requests<3,>=2.21.0->tensorboard<2.12,>=2.11->tensorflow<2.12,>=2.11.0->tensorflow_text) (2.10)\n",
            "Requirement already satisfied: zipp>=0.5 in /usr/local/lib/python3.8/dist-packages (from importlib-metadata>=4.4->markdown>=2.6.8->tensorboard<2.12,>=2.11->tensorflow<2.12,>=2.11.0->tensorflow_text) (3.11.0)\n",
            "Requirement already satisfied: pyasn1<0.5.0,>=0.4.6 in /usr/local/lib/python3.8/dist-packages (from pyasn1-modules>=0.2.1->google-auth<3,>=1.6.3->tensorboard<2.12,>=2.11->tensorflow<2.12,>=2.11.0->tensorflow_text) (0.4.8)\n",
            "Requirement already satisfied: oauthlib>=3.0.0 in /usr/local/lib/python3.8/dist-packages (from requests-oauthlib>=0.7.0->google-auth-oauthlib<0.5,>=0.4.1->tensorboard<2.12,>=2.11->tensorflow<2.12,>=2.11.0->tensorflow_text) (3.2.2)\n",
            "Installing collected packages: flatbuffers, tensorflow-estimator, keras, tensorboard, tensorflow, tensorflow_text\n",
            "  Attempting uninstall: flatbuffers\n",
            "    Found existing installation: flatbuffers 1.12\n",
            "    Uninstalling flatbuffers-1.12:\n",
            "      Successfully uninstalled flatbuffers-1.12\n",
            "  Attempting uninstall: tensorflow-estimator\n",
            "    Found existing installation: tensorflow-estimator 2.9.0\n",
            "    Uninstalling tensorflow-estimator-2.9.0:\n",
            "      Successfully uninstalled tensorflow-estimator-2.9.0\n",
            "  Attempting uninstall: keras\n",
            "    Found existing installation: keras 2.9.0\n",
            "    Uninstalling keras-2.9.0:\n",
            "      Successfully uninstalled keras-2.9.0\n",
            "  Attempting uninstall: tensorboard\n",
            "    Found existing installation: tensorboard 2.9.1\n",
            "    Uninstalling tensorboard-2.9.1:\n",
            "      Successfully uninstalled tensorboard-2.9.1\n",
            "  Attempting uninstall: tensorflow\n",
            "    Found existing installation: tensorflow 2.9.2\n",
            "    Uninstalling tensorflow-2.9.2:\n",
            "      Successfully uninstalled tensorflow-2.9.2\n",
            "Successfully installed flatbuffers-23.1.4 keras-2.11.0 tensorboard-2.11.2 tensorflow-2.11.0 tensorflow-estimator-2.11.0 tensorflow_text-2.11.0\n"
          ]
        },
        {
          "output_type": "display_data",
          "data": {
            "application/vnd.colab-display-data+json": {
              "pip_warning": {
                "packages": [
                  "flatbuffers",
                  "keras",
                  "tensorboard",
                  "tensorflow"
                ]
              }
            }
          },
          "metadata": {}
        }
      ]
    },
    {
      "cell_type": "code",
      "source": [
        "import numpy as np\n",
        "import regex as re\n",
        "import pandas as pd\n",
        "import matplotlib.pyplot as plt\n",
        "import seaborn as sns\n",
        "import statistics\n",
        "import math\n",
        "import os\n",
        "\n",
        "from sklearn.model_selection import StratifiedKFold\n",
        "from sklearn.metrics import accuracy_score\n",
        "from sklearn.model_selection import train_test_split\n",
        "\n",
        "import tensorflow as tf\n",
        "import tensorflow.keras.backend as K\n",
        "import tokenizers\n",
        "from transformers import RobertaTokenizer, TFRobertaModel\n",
        "\n",
        "from collections import Counter\n",
        "\n",
        "import warnings\n",
        "warnings.filterwarnings(\"ignore\")"
      ],
      "metadata": {
        "id": "5E1Pnybekm9M"
      },
      "execution_count": 33,
      "outputs": []
    },
    {
      "cell_type": "code",
      "source": [
        "#tpu = tf.distribute.cluster_resolver.TPUClusterResolver(tpu='grpc://' + os.environ['COLAB_TPU_ADDR'])"
      ],
      "metadata": {
        "id": "KVhGSr1a-pYB"
      },
      "execution_count": 7,
      "outputs": []
    },
    {
      "cell_type": "code",
      "source": [
        "# Detect hardware, return appropriate distribution strategy \n",
        "try:\n",
        "    # TPU detection. No parameters necessary if TPU_NAME environment variable is set (always set in Kaggle)\n",
        "    tpu = tf.distribute.cluster_resolver.TPUClusterResolver(tpu='grpc://' + os.environ['COLAB_TPU_ADDR'])\n",
        "    tf.config.experimental_connect_to_cluster(tpu)\n",
        "    tf.tpu.experimental.initialize_tpu_system(tpu)\n",
        "    #strategy = tf.distribute.experimental.TPUStrategy(tpu)\n",
        "    strategy = tf.distribute.TPUStrategy(tpu)\n",
        "    print('Running on TPU ', tpu.master())\n",
        "except ValueError:\n",
        "    # Default distribution strategy in Tensorflow. Works on CPU and single GPU.\n",
        "    print(\"inside exception\",ValueError)\n",
        "    strategy = tf.distribute.get_strategy()\n",
        "\n",
        "print('Number of replicas:', strategy.num_replicas_in_sync)"
      ],
      "metadata": {
        "colab": {
          "base_uri": "https://localhost:8080/"
        },
        "id": "rjNRrkHNpGVw",
        "outputId": "b3e5c499-f4bf-41bf-d8d2-e4fbac0c529f"
      },
      "execution_count": 34,
      "outputs": [
        {
          "output_type": "stream",
          "name": "stdout",
          "text": [
            "Running on TPU  grpc://10.54.89.146:8470\n",
            "Number of replicas: 8\n"
          ]
        }
      ]
    },
    {
      "cell_type": "code",
      "source": [
        "MODEL_NAME = 'roberta-base'\n",
        "MAX_LEN = 256\n",
        "ARTIFACTS_PATH = '../artifacts/'\n",
        "\n",
        "BATCH_SIZE = 8 * strategy.num_replicas_in_sync\n",
        "EPOCHS = 15\n",
        "\n",
        "if not os.path.exists(ARTIFACTS_PATH):\n",
        "    os.makedirs(ARTIFACTS_PATH)"
      ],
      "metadata": {
        "id": "A9kNkbzLpUMR"
      },
      "execution_count": 108,
      "outputs": []
    },
    {
      "cell_type": "code",
      "source": [
        "X_data = df[['text']].to_numpy().reshape(-1)\n",
        "y_data = df[['folder_name']].to_numpy().reshape(-1)"
      ],
      "metadata": {
        "id": "dTvvg108pqC6"
      },
      "execution_count": 109,
      "outputs": []
    },
    {
      "cell_type": "code",
      "source": [
        "n_texts = len(X_data)\n",
        "print('Texts in dataset: %d' % n_texts)\n",
        "\n",
        "folders = df['folder_name'].unique()\n",
        "n_folders = len(folders)\n",
        "print('Number of folders: %d' % n_folders)\n",
        "\n"
      ],
      "metadata": {
        "colab": {
          "base_uri": "https://localhost:8080/"
        },
        "id": "rN7Uhc36pv1H",
        "outputId": "13409899-efea-4607-bb76-653eba45820c"
      },
      "execution_count": 110,
      "outputs": [
        {
          "output_type": "stream",
          "name": "stdout",
          "text": [
            "Texts in dataset: 140032\n",
            "Number of folders: 55\n"
          ]
        }
      ]
    },
    {
      "cell_type": "code",
      "source": [
        "def roberta_encode(texts, tokenizer):\n",
        "    ct = len(texts)\n",
        "    input_ids = np.ones((ct, MAX_LEN), dtype='int32')\n",
        "    attention_mask = np.zeros((ct, MAX_LEN), dtype='int32')\n",
        "    token_type_ids = np.zeros((ct, MAX_LEN), dtype='int32') # Not used in text classification\n",
        "\n",
        "    for k, text in enumerate(texts):\n",
        "        # Tokenize\n",
        "        tok_text = tokenizer.tokenize(text)\n",
        "        \n",
        "        # Truncate and convert tokens to numerical IDs\n",
        "        enc_text = tokenizer.convert_tokens_to_ids(tok_text[:(MAX_LEN-2)])\n",
        "        \n",
        "        input_length = len(enc_text) + 2\n",
        "        input_length = input_length if input_length < MAX_LEN else MAX_LEN\n",
        "        \n",
        "        # Add tokens [CLS] and [SEP] at the beginning and the end\n",
        "        input_ids[k,:input_length] = np.asarray([0] + enc_text + [2], dtype='int32')\n",
        "        \n",
        "        # Set to 1s in the attention input\n",
        "        attention_mask[k,:input_length] = 1\n",
        "\n",
        "    return {\n",
        "        'input_word_ids': input_ids,\n",
        "        'input_mask': attention_mask,\n",
        "        'input_type_ids': token_type_ids\n",
        "    }"
      ],
      "metadata": {
        "id": "9cTUIEQgriqA"
      },
      "execution_count": 111,
      "outputs": []
    },
    {
      "cell_type": "code",
      "source": [
        "# Transform folder into numbers\n",
        "folder_to_id = {}\n",
        "folder_to_name = {}\n",
        "\n",
        "for index, c in enumerate(y_data):\n",
        "    if c in folder_to_id:\n",
        "        folder_id = folder_to_id[c]\n",
        "    else:\n",
        "        folder_id = len(folder_to_id)\n",
        "        folder_to_id[c] = folder_id\n",
        "        folder_to_name[folder_id] = c\n",
        "    \n",
        "    y_data[index] = folder_id\n",
        "\n",
        "# Display dictionary\n",
        "folder_to_name"
      ],
      "metadata": {
        "colab": {
          "base_uri": "https://localhost:8080/"
        },
        "id": "DFpw7RsbrsCY",
        "outputId": "a1a3cb58-d280-4c1f-9b17-838c78fbf4cb"
      },
      "execution_count": 112,
      "outputs": [
        {
          "output_type": "execute_result",
          "data": {
            "text/plain": [
              "{0: 'inbox',\n",
              " 1: 'personal',\n",
              " 2: 'eci',\n",
              " 3: 'notes inbox',\n",
              " 4: 'discussion threads',\n",
              " 5: 'transport',\n",
              " 6: 'eol',\n",
              " 7: 'ces',\n",
              " 8: 'resumes',\n",
              " 9: 'junk',\n",
              " 10: 'untitled',\n",
              " 11: 'volume mang.',\n",
              " 12: 'info',\n",
              " 13: 'regulatory',\n",
              " 14: 'archives',\n",
              " 15: 'misc',\n",
              " 16: 'janie',\n",
              " 17: 'projects',\n",
              " 18: 'eesirenewableenergy',\n",
              " 19: 'california',\n",
              " 20: 'ferc',\n",
              " 21: 'california issues',\n",
              " 22: 'online trading',\n",
              " 23: '8_00',\n",
              " 24: 'it',\n",
              " 25: 'corporate',\n",
              " 26: 'articles',\n",
              " 27: 'tw-commercial group',\n",
              " 28: 'schedule crawler',\n",
              " 29: 'hr',\n",
              " 30: 'bill williams iii',\n",
              " 31: 'heat wave',\n",
              " 32: 'europe',\n",
              " 33: 'wellhead',\n",
              " 34: 'tufco',\n",
              " 35: 'industrials',\n",
              " 36: 'logistics',\n",
              " 37: 'ene_ect',\n",
              " 38: 'management',\n",
              " 39: 'conferences',\n",
              " 40: 'universities',\n",
              " 41: 'nelson',\n",
              " 42: 'e-mail bin',\n",
              " 43: 'esvl',\n",
              " 44: 'ooc',\n",
              " 45: 'east power',\n",
              " 46: 'iso_ pricecaps',\n",
              " 47: 'read',\n",
              " 48: 'junk file',\n",
              " 49: 'lm6000',\n",
              " 50: 'master netting',\n",
              " 51: 'genco-jv_ipo',\n",
              " 52: 'deal discrepancies',\n",
              " 53: 'corporate comm',\n",
              " 54: 'gir'}"
            ]
          },
          "metadata": {},
          "execution_count": 112
        }
      ]
    },
    {
      "cell_type": "code",
      "source": [
        "# Split into train and test datasets\n",
        "X_train, X_test, y_train, y_test = train_test_split(X_data, y_data, test_size=0.3, random_state=777) "
      ],
      "metadata": {
        "id": "1OrHxENKsYgT"
      },
      "execution_count": 113,
      "outputs": []
    },
    {
      "cell_type": "code",
      "source": [
        "# Import tokenizer from HuggingFace\n",
        "tokenizer = RobertaTokenizer.from_pretrained(MODEL_NAME)"
      ],
      "metadata": {
        "id": "p5F3cRu6tCd3"
      },
      "execution_count": 114,
      "outputs": []
    },
    {
      "cell_type": "code",
      "source": [
        "X_train = roberta_encode(X_train, tokenizer)\n",
        "X_test = roberta_encode(X_test, tokenizer)\n",
        "\n",
        "y_train = np.asarray(y_train, dtype='int32')\n",
        "y_test = np.asarray(y_test, dtype='int32')"
      ],
      "metadata": {
        "id": "4xgxn7LetGPO"
      },
      "execution_count": 115,
      "outputs": []
    },
    {
      "cell_type": "code",
      "source": [
        "def build_model(n_folders):\n",
        "    with strategy.scope():\n",
        "        input_word_ids = tf.keras.Input(shape=(MAX_LEN,), dtype=tf.int32, name='input_word_ids')\n",
        "        input_mask = tf.keras.Input(shape=(MAX_LEN,), dtype=tf.int32, name='input_mask')\n",
        "        input_type_ids = tf.keras.Input(shape=(MAX_LEN,), dtype=tf.int32, name='input_type_ids')\n",
        "\n",
        "        # Import RoBERTa model from HuggingFace\n",
        "        roberta_model = TFRobertaModel.from_pretrained(MODEL_NAME)\n",
        "        x = roberta_model(input_word_ids, attention_mask=input_mask, token_type_ids=input_type_ids)\n",
        "\n",
        "        # Huggingface transformers have multiple outputs, embeddings are the first one,\n",
        "        # so let's slice out the first position\n",
        "        x = x[0]\n",
        "\n",
        "        x = tf.keras.layers.Dropout(0.1)(x)\n",
        "        x = tf.keras.layers.Flatten()(x)\n",
        "        x = tf.keras.layers.Dense(256, activation='relu')(x)\n",
        "        x = tf.keras.layers.Dense(n_folders, activation='softmax')(x)\n",
        "\n",
        "        model = tf.keras.Model(inputs=[input_word_ids, input_mask, input_type_ids], outputs=x)\n",
        "        #lr=1e-5,\n",
        "        model.compile(\n",
        "            optimizer=tf.keras.optimizers.Adam(learning_rate=1e-7),\n",
        "            loss='sparse_categorical_crossentropy',\n",
        "            metrics=['accuracy'])\n",
        "\n",
        "        return model"
      ],
      "metadata": {
        "id": "33zgPDLEtKXf"
      },
      "execution_count": 116,
      "outputs": []
    },
    {
      "cell_type": "code",
      "source": [
        "with strategy.scope():\n",
        "    model = build_model(n_folders)\n",
        "    model.summary()"
      ],
      "metadata": {
        "id": "tQxjH74BtXkl",
        "colab": {
          "base_uri": "https://localhost:8080/"
        },
        "outputId": "3f578809-30c8-4df1-9bad-d8930090fb36"
      },
      "execution_count": 117,
      "outputs": [
        {
          "output_type": "stream",
          "name": "stderr",
          "text": [
            "Some layers from the model checkpoint at roberta-base were not used when initializing TFRobertaModel: ['lm_head']\n",
            "- This IS expected if you are initializing TFRobertaModel from the checkpoint of a model trained on another task or with another architecture (e.g. initializing a BertForSequenceClassification model from a BertForPreTraining model).\n",
            "- This IS NOT expected if you are initializing TFRobertaModel from the checkpoint of a model that you expect to be exactly identical (initializing a BertForSequenceClassification model from a BertForSequenceClassification model).\n",
            "All the layers of TFRobertaModel were initialized from the model checkpoint at roberta-base.\n",
            "If your task is similar to the task the model of the checkpoint was trained on, you can already use TFRobertaModel for predictions without further training.\n"
          ]
        },
        {
          "output_type": "stream",
          "name": "stdout",
          "text": [
            "Model: \"model_2\"\n",
            "__________________________________________________________________________________________________\n",
            " Layer (type)                   Output Shape         Param #     Connected to                     \n",
            "==================================================================================================\n",
            " input_word_ids (InputLayer)    [(None, 256)]        0           []                               \n",
            "                                                                                                  \n",
            " input_mask (InputLayer)        [(None, 256)]        0           []                               \n",
            "                                                                                                  \n",
            " input_type_ids (InputLayer)    [(None, 256)]        0           []                               \n",
            "                                                                                                  \n",
            " tf_roberta_model_2 (TFRobertaM  TFBaseModelOutputWi  124645632  ['input_word_ids[0][0]',         \n",
            " odel)                          thPoolingAndCrossAt               'input_mask[0][0]',             \n",
            "                                tentions(last_hidde               'input_type_ids[0][0]']         \n",
            "                                n_state=(None, 256,                                               \n",
            "                                 768),                                                            \n",
            "                                 pooler_output=(Non                                               \n",
            "                                e, 768),                                                          \n",
            "                                 past_key_values=No                                               \n",
            "                                ne, hidden_states=N                                               \n",
            "                                one, attentions=Non                                               \n",
            "                                e, cross_attentions                                               \n",
            "                                =None)                                                            \n",
            "                                                                                                  \n",
            " dropout_113 (Dropout)          (None, 256, 768)     0           ['tf_roberta_model_2[0][0]']     \n",
            "                                                                                                  \n",
            " flatten_2 (Flatten)            (None, 196608)       0           ['dropout_113[0][0]']            \n",
            "                                                                                                  \n",
            " dense_4 (Dense)                (None, 256)          50331904    ['flatten_2[0][0]']              \n",
            "                                                                                                  \n",
            " dense_5 (Dense)                (None, 55)           14135       ['dense_4[0][0]']                \n",
            "                                                                                                  \n",
            "==================================================================================================\n",
            "Total params: 174,991,671\n",
            "Trainable params: 174,991,671\n",
            "Non-trainable params: 0\n",
            "__________________________________________________________________________________________________\n"
          ]
        }
      ]
    },
    {
      "cell_type": "code",
      "source": [
        "#train model\n",
        "with strategy.scope():\n",
        "    print('Training...')\n",
        "    history = model.fit(X_train,\n",
        "                        y_train,\n",
        "                        epochs=EPOCHS,\n",
        "                        batch_size=BATCH_SIZE,\n",
        "                        verbose=1,\n",
        "                        validation_data=(X_test, y_test))"
      ],
      "metadata": {
        "id": "WUWvz-72tdMY",
        "colab": {
          "base_uri": "https://localhost:8080/"
        },
        "outputId": "ebc0d2b2-c551-46a7-dc3a-6d615bf7dbc1"
      },
      "execution_count": 118,
      "outputs": [
        {
          "output_type": "stream",
          "name": "stdout",
          "text": [
            "Training...\n",
            "Epoch 1/15\n"
          ]
        },
        {
          "output_type": "stream",
          "name": "stderr",
          "text": [
            "WARNING:tensorflow:Gradients do not exist for variables ['tf_roberta_model_2/roberta/pooler/dense/kernel:0', 'tf_roberta_model_2/roberta/pooler/dense/bias:0'] when minimizing the loss. If you're using `model.compile()`, did you forget to provide a `loss`argument?\n",
            "WARNING:tensorflow:Gradients do not exist for variables ['tf_roberta_model_2/roberta/pooler/dense/kernel:0', 'tf_roberta_model_2/roberta/pooler/dense/bias:0'] when minimizing the loss. If you're using `model.compile()`, did you forget to provide a `loss`argument?\n"
          ]
        },
        {
          "output_type": "stream",
          "name": "stdout",
          "text": [
            "1532/1532 [==============================] - 419s 219ms/step - loss: 2.3866 - accuracy: 0.3199 - val_loss: 2.0852 - val_accuracy: 0.3647\n",
            "Epoch 2/15\n",
            "1532/1532 [==============================] - 275s 179ms/step - loss: 2.0639 - accuracy: 0.3688 - val_loss: 1.9820 - val_accuracy: 0.4019\n",
            "Epoch 3/15\n",
            "1532/1532 [==============================] - 275s 180ms/step - loss: 1.9694 - accuracy: 0.4079 - val_loss: 1.8979 - val_accuracy: 0.4415\n",
            "Epoch 4/15\n",
            "1532/1532 [==============================] - 275s 180ms/step - loss: 1.8867 - accuracy: 0.4461 - val_loss: 1.8178 - val_accuracy: 0.4724\n",
            "Epoch 5/15\n",
            "1532/1532 [==============================] - 275s 180ms/step - loss: 1.8137 - accuracy: 0.4744 - val_loss: 1.7492 - val_accuracy: 0.4963\n",
            "Epoch 6/15\n",
            "1532/1532 [==============================] - 275s 180ms/step - loss: 1.7449 - accuracy: 0.4984 - val_loss: 1.6802 - val_accuracy: 0.5171\n",
            "Epoch 7/15\n",
            "1532/1532 [==============================] - 275s 180ms/step - loss: 1.6841 - accuracy: 0.5170 - val_loss: 1.6140 - val_accuracy: 0.5352\n",
            "Epoch 8/15\n",
            "1532/1532 [==============================] - 275s 180ms/step - loss: 1.6209 - accuracy: 0.5342 - val_loss: 1.5621 - val_accuracy: 0.5485\n",
            "Epoch 9/15\n",
            "1532/1532 [==============================] - 275s 180ms/step - loss: 1.5640 - accuracy: 0.5480 - val_loss: 1.5084 - val_accuracy: 0.5593\n",
            "Epoch 10/15\n",
            "1532/1532 [==============================] - 275s 180ms/step - loss: 1.5135 - accuracy: 0.5578 - val_loss: 1.4588 - val_accuracy: 0.5669\n",
            "Epoch 11/15\n",
            "1532/1532 [==============================] - 275s 180ms/step - loss: 1.4644 - accuracy: 0.5659 - val_loss: 1.4165 - val_accuracy: 0.5721\n",
            "Epoch 12/15\n",
            "1532/1532 [==============================] - 275s 180ms/step - loss: 1.4184 - accuracy: 0.5739 - val_loss: 1.3751 - val_accuracy: 0.5785\n",
            "Epoch 13/15\n",
            "1532/1532 [==============================] - 275s 179ms/step - loss: 1.3772 - accuracy: 0.5785 - val_loss: 1.3322 - val_accuracy: 0.5843\n",
            "Epoch 14/15\n",
            "1532/1532 [==============================] - 275s 180ms/step - loss: 1.3413 - accuracy: 0.5870 - val_loss: 1.2955 - val_accuracy: 0.5889\n",
            "Epoch 15/15\n",
            "1532/1532 [==============================] - 275s 180ms/step - loss: 1.3054 - accuracy: 0.5914 - val_loss: 1.2695 - val_accuracy: 0.5914\n"
          ]
        }
      ]
    },
    {
      "cell_type": "code",
      "source": [
        "# This plot will look much better if we train models with more epochs, but anyway here is\n",
        "plt.figure(figsize=(10, 10))\n",
        "plt.title('Accuracy')\n",
        "\n",
        "xaxis = np.arange(len(history.history['accuracy']))\n",
        "plt.plot(xaxis, history.history['accuracy'], label='Train set')\n",
        "plt.plot(xaxis, history.history['val_accuracy'], label='Validation set')\n",
        "plt.legend()"
      ],
      "metadata": {
        "id": "AiSCIy7ltfhD",
        "colab": {
          "base_uri": "https://localhost:8080/",
          "height": 624
        },
        "outputId": "126a71bb-b6d0-4019-c7bd-1f66406fc4b5"
      },
      "execution_count": 119,
      "outputs": [
        {
          "output_type": "execute_result",
          "data": {
            "text/plain": [
              "<matplotlib.legend.Legend at 0x7f2fc93c0df0>"
            ]
          },
          "metadata": {},
          "execution_count": 119
        },
        {
          "output_type": "display_data",
          "data": {
            "text/plain": [
              "<Figure size 720x720 with 1 Axes>"
            ],
            "image/png": "[encoded data removed]"
          },
          "metadata": {
            "needs_background": "light"
          }
        }
      ]
    },
    {
      "cell_type": "code",
      "source": [
        "scores = model.evaluate(X_test, y_test, verbose=0)\n",
        "print(\"Accuracy: %.2f%%\" % (scores[1] * 100))"
      ],
      "metadata": {
        "id": "JeUi4OwEuHqw",
        "colab": {
          "base_uri": "https://localhost:8080/"
        },
        "outputId": "189483bc-fa60-4b11-b6a8-df54f392b36d"
      },
      "execution_count": 120,
      "outputs": [
        {
          "output_type": "stream",
          "name": "stdout",
          "text": [
            "Accuracy: 59.14%\n"
          ]
        }
      ]
    }
  ]
}