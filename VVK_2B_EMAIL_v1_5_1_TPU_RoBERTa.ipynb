{
  "nbformat": 4,
  "nbformat_minor": 0,
  "metadata": {
    "colab": {
      "provenance": []
    },
    "kernelspec": {
      "name": "python3",
      "display_name": "Python 3"
    },
    "language_info": {
      "name": "python"
    },
    "accelerator": "TPU",
    "gpuClass": "standard",
    "widgets": {
      "application/vnd.jupyter.widget-state+json": {
        "dd52585a3cc948769cc500b4047fbad5": {
          "model_module": "@jupyter-widgets/controls",
          "model_name": "HBoxModel",
          "model_module_version": "1.5.0",
          "state": {
            "_dom_classes": [],
            "_model_module": "@jupyter-widgets/controls",
            "_model_module_version": "1.5.0",
            "_model_name": "HBoxModel",
            "_view_count": null,
            "_view_module": "@jupyter-widgets/controls",
            "_view_module_version": "1.5.0",
            "_view_name": "HBoxView",
            "box_style": "",
            "children": [
              "IPY_MODEL_11212114a5c74b40a9147e4cf881b5e4",
              "IPY_MODEL_ea47a5588d6941f5806cb2abf5baf352",
              "IPY_MODEL_4602a5e9dd4d459e82498c2d6ec6750c"
            ],
            "layout": "IPY_MODEL_467e577accf24dc39493b0f54dac527e"
          }
        },
        "11212114a5c74b40a9147e4cf881b5e4": {
          "model_module": "@jupyter-widgets/controls",
          "model_name": "HTMLModel",
          "model_module_version": "1.5.0",
          "state": {
            "_dom_classes": [],
            "_model_module": "@jupyter-widgets/controls",
            "_model_module_version": "1.5.0",
            "_model_name": "HTMLModel",
            "_view_count": null,
            "_view_module": "@jupyter-widgets/controls",
            "_view_module_version": "1.5.0",
            "_view_name": "HTMLView",
            "description": "",
            "description_tooltip": null,
            "layout": "IPY_MODEL_508f2e6867b54652b578cbd635e8b9d0",
            "placeholder": "​",
            "style": "IPY_MODEL_ec29bcca536c43faa0059223d45b9a0a",
            "value": "Downloading: 100%"
          }
        },
        "ea47a5588d6941f5806cb2abf5baf352": {
          "model_module": "@jupyter-widgets/controls",
          "model_name": "FloatProgressModel",
          "model_module_version": "1.5.0",
          "state": {
            "_dom_classes": [],
            "_model_module": "@jupyter-widgets/controls",
            "_model_module_version": "1.5.0",
            "_model_name": "FloatProgressModel",
            "_view_count": null,
            "_view_module": "@jupyter-widgets/controls",
            "_view_module_version": "1.5.0",
            "_view_name": "ProgressView",
            "bar_style": "success",
            "description": "",
            "description_tooltip": null,
            "layout": "IPY_MODEL_1116fccc26a041589d866224c2f015a4",
            "max": 898823,
            "min": 0,
            "orientation": "horizontal",
            "style": "IPY_MODEL_41f36be0917241989fe2e21d8359094b",
            "value": 898823
          }
        },
        "4602a5e9dd4d459e82498c2d6ec6750c": {
          "model_module": "@jupyter-widgets/controls",
          "model_name": "HTMLModel",
          "model_module_version": "1.5.0",
          "state": {
            "_dom_classes": [],
            "_model_module": "@jupyter-widgets/controls",
            "_model_module_version": "1.5.0",
            "_model_name": "HTMLModel",
            "_view_count": null,
            "_view_module": "@jupyter-widgets/controls",
            "_view_module_version": "1.5.0",
            "_view_name": "HTMLView",
            "description": "",
            "description_tooltip": null,
            "layout": "IPY_MODEL_9de0f13036b542f092b4a4ca5d9b81d7",
            "placeholder": "​",
            "style": "IPY_MODEL_83d473d612d34f3da95f27e1a1b98113",
            "value": " 899k/899k [00:00&lt;00:00, 1.79MB/s]"
          }
        },
        "467e577accf24dc39493b0f54dac527e": {
          "model_module": "@jupyter-widgets/base",
          "model_name": "LayoutModel",
          "model_module_version": "1.2.0",
          "state": {
            "_model_module": "@jupyter-widgets/base",
            "_model_module_version": "1.2.0",
            "_model_name": "LayoutModel",
            "_view_count": null,
            "_view_module": "@jupyter-widgets/base",
            "_view_module_version": "1.2.0",
            "_view_name": "LayoutView",
            "align_content": null,
            "align_items": null,
            "align_self": null,
            "border": null,
            "bottom": null,
            "display": null,
            "flex": null,
            "flex_flow": null,
            "grid_area": null,
            "grid_auto_columns": null,
            "grid_auto_flow": null,
            "grid_auto_rows": null,
            "grid_column": null,
            "grid_gap": null,
            "grid_row": null,
            "grid_template_areas": null,
            "grid_template_columns": null,
            "grid_template_rows": null,
            "height": null,
            "justify_content": null,
            "justify_items": null,
            "left": null,
            "margin": null,
            "max_height": null,
            "max_width": null,
            "min_height": null,
            "min_width": null,
            "object_fit": null,
            "object_position": null,
            "order": null,
            "overflow": null,
            "overflow_x": null,
            "overflow_y": null,
            "padding": null,
            "right": null,
            "top": null,
            "visibility": null,
            "width": null
          }
        },
        "508f2e6867b54652b578cbd635e8b9d0": {
          "model_module": "@jupyter-widgets/base",
          "model_name": "LayoutModel",
          "model_module_version": "1.2.0",
          "state": {
            "_model_module": "@jupyter-widgets/base",
            "_model_module_version": "1.2.0",
            "_model_name": "LayoutModel",
            "_view_count": null,
            "_view_module": "@jupyter-widgets/base",
            "_view_module_version": "1.2.0",
            "_view_name": "LayoutView",
            "align_content": null,
            "align_items": null,
            "align_self": null,
            "border": null,
            "bottom": null,
            "display": null,
            "flex": null,
            "flex_flow": null,
            "grid_area": null,
            "grid_auto_columns": null,
            "grid_auto_flow": null,
            "grid_auto_rows": null,
            "grid_column": null,
            "grid_gap": null,
            "grid_row": null,
            "grid_template_areas": null,
            "grid_template_columns": null,
            "grid_template_rows": null,
            "height": null,
            "justify_content": null,
            "justify_items": null,
            "left": null,
            "margin": null,
            "max_height": null,
            "max_width": null,
            "min_height": null,
            "min_width": null,
            "object_fit": null,
            "object_position": null,
            "order": null,
            "overflow": null,
            "overflow_x": null,
            "overflow_y": null,
            "padding": null,
            "right": null,
            "top": null,
            "visibility": null,
            "width": null
          }
        },
        "ec29bcca536c43faa0059223d45b9a0a": {
          "model_module": "@jupyter-widgets/controls",
          "model_name": "DescriptionStyleModel",
          "model_module_version": "1.5.0",
          "state": {
            "_model_module": "@jupyter-widgets/controls",
            "_model_module_version": "1.5.0",
            "_model_name": "DescriptionStyleModel",
            "_view_count": null,
            "_view_module": "@jupyter-widgets/base",
            "_view_module_version": "1.2.0",
            "_view_name": "StyleView",
            "description_width": ""
          }
        },
        "1116fccc26a041589d866224c2f015a4": {
          "model_module": "@jupyter-widgets/base",
          "model_name": "LayoutModel",
          "model_module_version": "1.2.0",
          "state": {
            "_model_module": "@jupyter-widgets/base",
            "_model_module_version": "1.2.0",
            "_model_name": "LayoutModel",
            "_view_count": null,
            "_view_module": "@jupyter-widgets/base",
            "_view_module_version": "1.2.0",
            "_view_name": "LayoutView",
            "align_content": null,
            "align_items": null,
            "align_self": null,
            "border": null,
            "bottom": null,
            "display": null,
            "flex": null,
            "flex_flow": null,
            "grid_area": null,
            "grid_auto_columns": null,
            "grid_auto_flow": null,
            "grid_auto_rows": null,
            "grid_column": null,
            "grid_gap": null,
            "grid_row": null,
            "grid_template_areas": null,
            "grid_template_columns": null,
            "grid_template_rows": null,
            "height": null,
            "justify_content": null,
            "justify_items": null,
            "left": null,
            "margin": null,
            "max_height": null,
            "max_width": null,
            "min_height": null,
            "min_width": null,
            "object_fit": null,
            "object_position": null,
            "order": null,
            "overflow": null,
            "overflow_x": null,
            "overflow_y": null,
            "padding": null,
            "right": null,
            "top": null,
            "visibility": null,
            "width": null
          }
        },
        "41f36be0917241989fe2e21d8359094b": {
          "model_module": "@jupyter-widgets/controls",
          "model_name": "ProgressStyleModel",
          "model_module_version": "1.5.0",
          "state": {
            "_model_module": "@jupyter-widgets/controls",
            "_model_module_version": "1.5.0",
            "_model_name": "ProgressStyleModel",
            "_view_count": null,
            "_view_module": "@jupyter-widgets/base",
            "_view_module_version": "1.2.0",
            "_view_name": "StyleView",
            "bar_color": null,
            "description_width": ""
          }
        },
        "9de0f13036b542f092b4a4ca5d9b81d7": {
          "model_module": "@jupyter-widgets/base",
          "model_name": "LayoutModel",
          "model_module_version": "1.2.0",
          "state": {
            "_model_module": "@jupyter-widgets/base",
            "_model_module_version": "1.2.0",
            "_model_name": "LayoutModel",
            "_view_count": null,
            "_view_module": "@jupyter-widgets/base",
            "_view_module_version": "1.2.0",
            "_view_name": "LayoutView",
            "align_content": null,
            "align_items": null,
            "align_self": null,
            "border": null,
            "bottom": null,
            "display": null,
            "flex": null,
            "flex_flow": null,
            "grid_area": null,
            "grid_auto_columns": null,
            "grid_auto_flow": null,
            "grid_auto_rows": null,
            "grid_column": null,
            "grid_gap": null,
            "grid_row": null,
            "grid_template_areas": null,
            "grid_template_columns": null,
            "grid_template_rows": null,
            "height": null,
            "justify_content": null,
            "justify_items": null,
            "left": null,
            "margin": null,
            "max_height": null,
            "max_width": null,
            "min_height": null,
            "min_width": null,
            "object_fit": null,
            "object_position": null,
            "order": null,
            "overflow": null,
            "overflow_x": null,
            "overflow_y": null,
            "padding": null,
            "right": null,
            "top": null,
            "visibility": null,
            "width": null
          }
        },
        "83d473d612d34f3da95f27e1a1b98113": {
          "model_module": "@jupyter-widgets/controls",
          "model_name": "DescriptionStyleModel",
          "model_module_version": "1.5.0",
          "state": {
            "_model_module": "@jupyter-widgets/controls",
            "_model_module_version": "1.5.0",
            "_model_name": "DescriptionStyleModel",
            "_view_count": null,
            "_view_module": "@jupyter-widgets/base",
            "_view_module_version": "1.2.0",
            "_view_name": "StyleView",
            "description_width": ""
          }
        },
        "43e65dd1e3e84d5f9494cb4b6aa1afab": {
          "model_module": "@jupyter-widgets/controls",
          "model_name": "HBoxModel",
          "model_module_version": "1.5.0",
          "state": {
            "_dom_classes": [],
            "_model_module": "@jupyter-widgets/controls",
            "_model_module_version": "1.5.0",
            "_model_name": "HBoxModel",
            "_view_count": null,
            "_view_module": "@jupyter-widgets/controls",
            "_view_module_version": "1.5.0",
            "_view_name": "HBoxView",
            "box_style": "",
            "children": [
              "IPY_MODEL_091f1ef0aaf24a56b9fea489a404068a",
              "IPY_MODEL_1cc23423de464e408531388cb2a63577",
              "IPY_MODEL_7c03df19754a44149c520a35f39406bb"
            ],
            "layout": "IPY_MODEL_bc1648162f2e4970b3aca9f6d39ab3a9"
          }
        },
        "091f1ef0aaf24a56b9fea489a404068a": {
          "model_module": "@jupyter-widgets/controls",
          "model_name": "HTMLModel",
          "model_module_version": "1.5.0",
          "state": {
            "_dom_classes": [],
            "_model_module": "@jupyter-widgets/controls",
            "_model_module_version": "1.5.0",
            "_model_name": "HTMLModel",
            "_view_count": null,
            "_view_module": "@jupyter-widgets/controls",
            "_view_module_version": "1.5.0",
            "_view_name": "HTMLView",
            "description": "",
            "description_tooltip": null,
            "layout": "IPY_MODEL_ad060bc7236e4633a95ea75754edbd89",
            "placeholder": "​",
            "style": "IPY_MODEL_4fab79b1db62426293e6272a772e25e2",
            "value": "Downloading: 100%"
          }
        },
        "1cc23423de464e408531388cb2a63577": {
          "model_module": "@jupyter-widgets/controls",
          "model_name": "FloatProgressModel",
          "model_module_version": "1.5.0",
          "state": {
            "_dom_classes": [],
            "_model_module": "@jupyter-widgets/controls",
            "_model_module_version": "1.5.0",
            "_model_name": "FloatProgressModel",
            "_view_count": null,
            "_view_module": "@jupyter-widgets/controls",
            "_view_module_version": "1.5.0",
            "_view_name": "ProgressView",
            "bar_style": "success",
            "description": "",
            "description_tooltip": null,
            "layout": "IPY_MODEL_4871f80215d24db599c64ee5ca7e34cf",
            "max": 456318,
            "min": 0,
            "orientation": "horizontal",
            "style": "IPY_MODEL_83f48551b2624e608a5a3bbeb7bb6216",
            "value": 456318
          }
        },
        "7c03df19754a44149c520a35f39406bb": {
          "model_module": "@jupyter-widgets/controls",
          "model_name": "HTMLModel",
          "model_module_version": "1.5.0",
          "state": {
            "_dom_classes": [],
            "_model_module": "@jupyter-widgets/controls",
            "_model_module_version": "1.5.0",
            "_model_name": "HTMLModel",
            "_view_count": null,
            "_view_module": "@jupyter-widgets/controls",
            "_view_module_version": "1.5.0",
            "_view_name": "HTMLView",
            "description": "",
            "description_tooltip": null,
            "layout": "IPY_MODEL_c525e4e4eb934a50a82b09e6de14ed5d",
            "placeholder": "​",
            "style": "IPY_MODEL_ab684e1ab767424197d319116b861d33",
            "value": " 456k/456k [00:00&lt;00:00, 1.82MB/s]"
          }
        },
        "bc1648162f2e4970b3aca9f6d39ab3a9": {
          "model_module": "@jupyter-widgets/base",
          "model_name": "LayoutModel",
          "model_module_version": "1.2.0",
          "state": {
            "_model_module": "@jupyter-widgets/base",
            "_model_module_version": "1.2.0",
            "_model_name": "LayoutModel",
            "_view_count": null,
            "_view_module": "@jupyter-widgets/base",
            "_view_module_version": "1.2.0",
            "_view_name": "LayoutView",
            "align_content": null,
            "align_items": null,
            "align_self": null,
            "border": null,
            "bottom": null,
            "display": null,
            "flex": null,
            "flex_flow": null,
            "grid_area": null,
            "grid_auto_columns": null,
            "grid_auto_flow": null,
            "grid_auto_rows": null,
            "grid_column": null,
            "grid_gap": null,
            "grid_row": null,
            "grid_template_areas": null,
            "grid_template_columns": null,
            "grid_template_rows": null,
            "height": null,
            "justify_content": null,
            "justify_items": null,
            "left": null,
            "margin": null,
            "max_height": null,
            "max_width": null,
            "min_height": null,
            "min_width": null,
            "object_fit": null,
            "object_position": null,
            "order": null,
            "overflow": null,
            "overflow_x": null,
            "overflow_y": null,
            "padding": null,
            "right": null,
            "top": null,
            "visibility": null,
            "width": null
          }
        },
        "ad060bc7236e4633a95ea75754edbd89": {
          "model_module": "@jupyter-widgets/base",
          "model_name": "LayoutModel",
          "model_module_version": "1.2.0",
          "state": {
            "_model_module": "@jupyter-widgets/base",
            "_model_module_version": "1.2.0",
            "_model_name": "LayoutModel",
            "_view_count": null,
            "_view_module": "@jupyter-widgets/base",
            "_view_module_version": "1.2.0",
            "_view_name": "LayoutView",
            "align_content": null,
            "align_items": null,
            "align_self": null,
            "border": null,
            "bottom": null,
            "display": null,
            "flex": null,
            "flex_flow": null,
            "grid_area": null,
            "grid_auto_columns": null,
            "grid_auto_flow": null,
            "grid_auto_rows": null,
            "grid_column": null,
            "grid_gap": null,
            "grid_row": null,
            "grid_template_areas": null,
            "grid_template_columns": null,
            "grid_template_rows": null,
            "height": null,
            "justify_content": null,
            "justify_items": null,
            "left": null,
            "margin": null,
            "max_height": null,
            "max_width": null,
            "min_height": null,
            "min_width": null,
            "object_fit": null,
            "object_position": null,
            "order": null,
            "overflow": null,
            "overflow_x": null,
            "overflow_y": null,
            "padding": null,
            "right": null,
            "top": null,
            "visibility": null,
            "width": null
          }
        },
        "4fab79b1db62426293e6272a772e25e2": {
          "model_module": "@jupyter-widgets/controls",
          "model_name": "DescriptionStyleModel",
          "model_module_version": "1.5.0",
          "state": {
            "_model_module": "@jupyter-widgets/controls",
            "_model_module_version": "1.5.0",
            "_model_name": "DescriptionStyleModel",
            "_view_count": null,
            "_view_module": "@jupyter-widgets/base",
            "_view_module_version": "1.2.0",
            "_view_name": "StyleView",
            "description_width": ""
          }
        },
        "4871f80215d24db599c64ee5ca7e34cf": {
          "model_module": "@jupyter-widgets/base",
          "model_name": "LayoutModel",
          "model_module_version": "1.2.0",
          "state": {
            "_model_module": "@jupyter-widgets/base",
            "_model_module_version": "1.2.0",
            "_model_name": "LayoutModel",
            "_view_count": null,
            "_view_module": "@jupyter-widgets/base",
            "_view_module_version": "1.2.0",
            "_view_name": "LayoutView",
            "align_content": null,
            "align_items": null,
            "align_self": null,
            "border": null,
            "bottom": null,
            "display": null,
            "flex": null,
            "flex_flow": null,
            "grid_area": null,
            "grid_auto_columns": null,
            "grid_auto_flow": null,
            "grid_auto_rows": null,
            "grid_column": null,
            "grid_gap": null,
            "grid_row": null,
            "grid_template_areas": null,
            "grid_template_columns": null,
            "grid_template_rows": null,
            "height": null,
            "justify_content": null,
            "justify_items": null,
            "left": null,
            "margin": null,
            "max_height": null,
            "max_width": null,
            "min_height": null,
            "min_width": null,
            "object_fit": null,
            "object_position": null,
            "order": null,
            "overflow": null,
            "overflow_x": null,
            "overflow_y": null,
            "padding": null,
            "right": null,
            "top": null,
            "visibility": null,
            "width": null
          }
        },
        "83f48551b2624e608a5a3bbeb7bb6216": {
          "model_module": "@jupyter-widgets/controls",
          "model_name": "ProgressStyleModel",
          "model_module_version": "1.5.0",
          "state": {
            "_model_module": "@jupyter-widgets/controls",
            "_model_module_version": "1.5.0",
            "_model_name": "ProgressStyleModel",
            "_view_count": null,
            "_view_module": "@jupyter-widgets/base",
            "_view_module_version": "1.2.0",
            "_view_name": "StyleView",
            "bar_color": null,
            "description_width": ""
          }
        },
        "c525e4e4eb934a50a82b09e6de14ed5d": {
          "model_module": "@jupyter-widgets/base",
          "model_name": "LayoutModel",
          "model_module_version": "1.2.0",
          "state": {
            "_model_module": "@jupyter-widgets/base",
            "_model_module_version": "1.2.0",
            "_model_name": "LayoutModel",
            "_view_count": null,
            "_view_module": "@jupyter-widgets/base",
            "_view_module_version": "1.2.0",
            "_view_name": "LayoutView",
            "align_content": null,
            "align_items": null,
            "align_self": null,
            "border": null,
            "bottom": null,
            "display": null,
            "flex": null,
            "flex_flow": null,
            "grid_area": null,
            "grid_auto_columns": null,
            "grid_auto_flow": null,
            "grid_auto_rows": null,
            "grid_column": null,
            "grid_gap": null,
            "grid_row": null,
            "grid_template_areas": null,
            "grid_template_columns": null,
            "grid_template_rows": null,
            "height": null,
            "justify_content": null,
            "justify_items": null,
            "left": null,
            "margin": null,
            "max_height": null,
            "max_width": null,
            "min_height": null,
            "min_width": null,
            "object_fit": null,
            "object_position": null,
            "order": null,
            "overflow": null,
            "overflow_x": null,
            "overflow_y": null,
            "padding": null,
            "right": null,
            "top": null,
            "visibility": null,
            "width": null
          }
        },
        "ab684e1ab767424197d319116b861d33": {
          "model_module": "@jupyter-widgets/controls",
          "model_name": "DescriptionStyleModel",
          "model_module_version": "1.5.0",
          "state": {
            "_model_module": "@jupyter-widgets/controls",
            "_model_module_version": "1.5.0",
            "_model_name": "DescriptionStyleModel",
            "_view_count": null,
            "_view_module": "@jupyter-widgets/base",
            "_view_module_version": "1.2.0",
            "_view_name": "StyleView",
            "description_width": ""
          }
        },
        "2b6df41e7c9848deb3d64170038e9281": {
          "model_module": "@jupyter-widgets/controls",
          "model_name": "HBoxModel",
          "model_module_version": "1.5.0",
          "state": {
            "_dom_classes": [],
            "_model_module": "@jupyter-widgets/controls",
            "_model_module_version": "1.5.0",
            "_model_name": "HBoxModel",
            "_view_count": null,
            "_view_module": "@jupyter-widgets/controls",
            "_view_module_version": "1.5.0",
            "_view_name": "HBoxView",
            "box_style": "",
            "children": [
              "IPY_MODEL_913d5bcda55b40c888a659fd955c9cd4",
              "IPY_MODEL_64180889ec1647309bf11cd504b1b209",
              "IPY_MODEL_aa01a14d8822492280b08e8cfad721b3"
            ],
            "layout": "IPY_MODEL_1a9663e8fdb14b579be803b2e03e7b69"
          }
        },
        "913d5bcda55b40c888a659fd955c9cd4": {
          "model_module": "@jupyter-widgets/controls",
          "model_name": "HTMLModel",
          "model_module_version": "1.5.0",
          "state": {
            "_dom_classes": [],
            "_model_module": "@jupyter-widgets/controls",
            "_model_module_version": "1.5.0",
            "_model_name": "HTMLModel",
            "_view_count": null,
            "_view_module": "@jupyter-widgets/controls",
            "_view_module_version": "1.5.0",
            "_view_name": "HTMLView",
            "description": "",
            "description_tooltip": null,
            "layout": "IPY_MODEL_bd3e1aba4dd9449ea26710e123f6ef5f",
            "placeholder": "​",
            "style": "IPY_MODEL_6fa0506f533a40e1ada2f800c1f9a43d",
            "value": "Downloading: 100%"
          }
        },
        "64180889ec1647309bf11cd504b1b209": {
          "model_module": "@jupyter-widgets/controls",
          "model_name": "FloatProgressModel",
          "model_module_version": "1.5.0",
          "state": {
            "_dom_classes": [],
            "_model_module": "@jupyter-widgets/controls",
            "_model_module_version": "1.5.0",
            "_model_name": "FloatProgressModel",
            "_view_count": null,
            "_view_module": "@jupyter-widgets/controls",
            "_view_module_version": "1.5.0",
            "_view_name": "ProgressView",
            "bar_style": "success",
            "description": "",
            "description_tooltip": null,
            "layout": "IPY_MODEL_284a3bdbd3434e5c8ba558465c5a8dec",
            "max": 481,
            "min": 0,
            "orientation": "horizontal",
            "style": "IPY_MODEL_2d0313a912f648d48bc7b0045ad039ac",
            "value": 481
          }
        },
        "aa01a14d8822492280b08e8cfad721b3": {
          "model_module": "@jupyter-widgets/controls",
          "model_name": "HTMLModel",
          "model_module_version": "1.5.0",
          "state": {
            "_dom_classes": [],
            "_model_module": "@jupyter-widgets/controls",
            "_model_module_version": "1.5.0",
            "_model_name": "HTMLModel",
            "_view_count": null,
            "_view_module": "@jupyter-widgets/controls",
            "_view_module_version": "1.5.0",
            "_view_name": "HTMLView",
            "description": "",
            "description_tooltip": null,
            "layout": "IPY_MODEL_0589bedcd39b447bb09871fafedfc077",
            "placeholder": "​",
            "style": "IPY_MODEL_d5146a7719034fcca843e01186665427",
            "value": " 481/481 [00:00&lt;00:00, 18.5kB/s]"
          }
        },
        "1a9663e8fdb14b579be803b2e03e7b69": {
          "model_module": "@jupyter-widgets/base",
          "model_name": "LayoutModel",
          "model_module_version": "1.2.0",
          "state": {
            "_model_module": "@jupyter-widgets/base",
            "_model_module_version": "1.2.0",
            "_model_name": "LayoutModel",
            "_view_count": null,
            "_view_module": "@jupyter-widgets/base",
            "_view_module_version": "1.2.0",
            "_view_name": "LayoutView",
            "align_content": null,
            "align_items": null,
            "align_self": null,
            "border": null,
            "bottom": null,
            "display": null,
            "flex": null,
            "flex_flow": null,
            "grid_area": null,
            "grid_auto_columns": null,
            "grid_auto_flow": null,
            "grid_auto_rows": null,
            "grid_column": null,
            "grid_gap": null,
            "grid_row": null,
            "grid_template_areas": null,
            "grid_template_columns": null,
            "grid_template_rows": null,
            "height": null,
            "justify_content": null,
            "justify_items": null,
            "left": null,
            "margin": null,
            "max_height": null,
            "max_width": null,
            "min_height": null,
            "min_width": null,
            "object_fit": null,
            "object_position": null,
            "order": null,
            "overflow": null,
            "overflow_x": null,
            "overflow_y": null,
            "padding": null,
            "right": null,
            "top": null,
            "visibility": null,
            "width": null
          }
        },
        "bd3e1aba4dd9449ea26710e123f6ef5f": {
          "model_module": "@jupyter-widgets/base",
          "model_name": "LayoutModel",
          "model_module_version": "1.2.0",
          "state": {
            "_model_module": "@jupyter-widgets/base",
            "_model_module_version": "1.2.0",
            "_model_name": "LayoutModel",
            "_view_count": null,
            "_view_module": "@jupyter-widgets/base",
            "_view_module_version": "1.2.0",
            "_view_name": "LayoutView",
            "align_content": null,
            "align_items": null,
            "align_self": null,
            "border": null,
            "bottom": null,
            "display": null,
            "flex": null,
            "flex_flow": null,
            "grid_area": null,
            "grid_auto_columns": null,
            "grid_auto_flow": null,
            "grid_auto_rows": null,
            "grid_column": null,
            "grid_gap": null,
            "grid_row": null,
            "grid_template_areas": null,
            "grid_template_columns": null,
            "grid_template_rows": null,
            "height": null,
            "justify_content": null,
            "justify_items": null,
            "left": null,
            "margin": null,
            "max_height": null,
            "max_width": null,
            "min_height": null,
            "min_width": null,
            "object_fit": null,
            "object_position": null,
            "order": null,
            "overflow": null,
            "overflow_x": null,
            "overflow_y": null,
            "padding": null,
            "right": null,
            "top": null,
            "visibility": null,
            "width": null
          }
        },
        "6fa0506f533a40e1ada2f800c1f9a43d": {
          "model_module": "@jupyter-widgets/controls",
          "model_name": "DescriptionStyleModel",
          "model_module_version": "1.5.0",
          "state": {
            "_model_module": "@jupyter-widgets/controls",
            "_model_module_version": "1.5.0",
            "_model_name": "DescriptionStyleModel",
            "_view_count": null,
            "_view_module": "@jupyter-widgets/base",
            "_view_module_version": "1.2.0",
            "_view_name": "StyleView",
            "description_width": ""
          }
        },
        "284a3bdbd3434e5c8ba558465c5a8dec": {
          "model_module": "@jupyter-widgets/base",
          "model_name": "LayoutModel",
          "model_module_version": "1.2.0",
          "state": {
            "_model_module": "@jupyter-widgets/base",
            "_model_module_version": "1.2.0",
            "_model_name": "LayoutModel",
            "_view_count": null,
            "_view_module": "@jupyter-widgets/base",
            "_view_module_version": "1.2.0",
            "_view_name": "LayoutView",
            "align_content": null,
            "align_items": null,
            "align_self": null,
            "border": null,
            "bottom": null,
            "display": null,
            "flex": null,
            "flex_flow": null,
            "grid_area": null,
            "grid_auto_columns": null,
            "grid_auto_flow": null,
            "grid_auto_rows": null,
            "grid_column": null,
            "grid_gap": null,
            "grid_row": null,
            "grid_template_areas": null,
            "grid_template_columns": null,
            "grid_template_rows": null,
            "height": null,
            "justify_content": null,
            "justify_items": null,
            "left": null,
            "margin": null,
            "max_height": null,
            "max_width": null,
            "min_height": null,
            "min_width": null,
            "object_fit": null,
            "object_position": null,
            "order": null,
            "overflow": null,
            "overflow_x": null,
            "overflow_y": null,
            "padding": null,
            "right": null,
            "top": null,
            "visibility": null,
            "width": null
          }
        },
        "2d0313a912f648d48bc7b0045ad039ac": {
          "model_module": "@jupyter-widgets/controls",
          "model_name": "ProgressStyleModel",
          "model_module_version": "1.5.0",
          "state": {
            "_model_module": "@jupyter-widgets/controls",
            "_model_module_version": "1.5.0",
            "_model_name": "ProgressStyleModel",
            "_view_count": null,
            "_view_module": "@jupyter-widgets/base",
            "_view_module_version": "1.2.0",
            "_view_name": "StyleView",
            "bar_color": null,
            "description_width": ""
          }
        },
        "0589bedcd39b447bb09871fafedfc077": {
          "model_module": "@jupyter-widgets/base",
          "model_name": "LayoutModel",
          "model_module_version": "1.2.0",
          "state": {
            "_model_module": "@jupyter-widgets/base",
            "_model_module_version": "1.2.0",
            "_model_name": "LayoutModel",
            "_view_count": null,
            "_view_module": "@jupyter-widgets/base",
            "_view_module_version": "1.2.0",
            "_view_name": "LayoutView",
            "align_content": null,
            "align_items": null,
            "align_self": null,
            "border": null,
            "bottom": null,
            "display": null,
            "flex": null,
            "flex_flow": null,
            "grid_area": null,
            "grid_auto_columns": null,
            "grid_auto_flow": null,
            "grid_auto_rows": null,
            "grid_column": null,
            "grid_gap": null,
            "grid_row": null,
            "grid_template_areas": null,
            "grid_template_columns": null,
            "grid_template_rows": null,
            "height": null,
            "justify_content": null,
            "justify_items": null,
            "left": null,
            "margin": null,
            "max_height": null,
            "max_width": null,
            "min_height": null,
            "min_width": null,
            "object_fit": null,
            "object_position": null,
            "order": null,
            "overflow": null,
            "overflow_x": null,
            "overflow_y": null,
            "padding": null,
            "right": null,
            "top": null,
            "visibility": null,
            "width": null
          }
        },
        "d5146a7719034fcca843e01186665427": {
          "model_module": "@jupyter-widgets/controls",
          "model_name": "DescriptionStyleModel",
          "model_module_version": "1.5.0",
          "state": {
            "_model_module": "@jupyter-widgets/controls",
            "_model_module_version": "1.5.0",
            "_model_name": "DescriptionStyleModel",
            "_view_count": null,
            "_view_module": "@jupyter-widgets/base",
            "_view_module_version": "1.2.0",
            "_view_name": "StyleView",
            "description_width": ""
          }
        },
        "1460fc91aef94d9fb68a687b50b2a287": {
          "model_module": "@jupyter-widgets/controls",
          "model_name": "HBoxModel",
          "model_module_version": "1.5.0",
          "state": {
            "_dom_classes": [],
            "_model_module": "@jupyter-widgets/controls",
            "_model_module_version": "1.5.0",
            "_model_name": "HBoxModel",
            "_view_count": null,
            "_view_module": "@jupyter-widgets/controls",
            "_view_module_version": "1.5.0",
            "_view_name": "HBoxView",
            "box_style": "",
            "children": [
              "IPY_MODEL_63c7a5a7eda44c99872f35fd14356326",
              "IPY_MODEL_1808da6f22dd42968f43b9a210592d1e",
              "IPY_MODEL_7908d4792f8d40bf92813105ae6872b2"
            ],
            "layout": "IPY_MODEL_3534ed2740ae4b28ad8cb4a64394a003"
          }
        },
        "63c7a5a7eda44c99872f35fd14356326": {
          "model_module": "@jupyter-widgets/controls",
          "model_name": "HTMLModel",
          "model_module_version": "1.5.0",
          "state": {
            "_dom_classes": [],
            "_model_module": "@jupyter-widgets/controls",
            "_model_module_version": "1.5.0",
            "_model_name": "HTMLModel",
            "_view_count": null,
            "_view_module": "@jupyter-widgets/controls",
            "_view_module_version": "1.5.0",
            "_view_name": "HTMLView",
            "description": "",
            "description_tooltip": null,
            "layout": "IPY_MODEL_1f490c3d8a5347de9502dc8b2b0bbe52",
            "placeholder": "​",
            "style": "IPY_MODEL_c42e6bee45dd4b62a50c6a352968c1ee",
            "value": "Downloading: 100%"
          }
        },
        "1808da6f22dd42968f43b9a210592d1e": {
          "model_module": "@jupyter-widgets/controls",
          "model_name": "FloatProgressModel",
          "model_module_version": "1.5.0",
          "state": {
            "_dom_classes": [],
            "_model_module": "@jupyter-widgets/controls",
            "_model_module_version": "1.5.0",
            "_model_name": "FloatProgressModel",
            "_view_count": null,
            "_view_module": "@jupyter-widgets/controls",
            "_view_module_version": "1.5.0",
            "_view_name": "ProgressView",
            "bar_style": "success",
            "description": "",
            "description_tooltip": null,
            "layout": "IPY_MODEL_9b150aa97b1149e7a20b3bd98cfccb36",
            "max": 657434796,
            "min": 0,
            "orientation": "horizontal",
            "style": "IPY_MODEL_befe48d7426446b5a8e4c9dca2380e36",
            "value": 657434796
          }
        },
        "7908d4792f8d40bf92813105ae6872b2": {
          "model_module": "@jupyter-widgets/controls",
          "model_name": "HTMLModel",
          "model_module_version": "1.5.0",
          "state": {
            "_dom_classes": [],
            "_model_module": "@jupyter-widgets/controls",
            "_model_module_version": "1.5.0",
            "_model_name": "HTMLModel",
            "_view_count": null,
            "_view_module": "@jupyter-widgets/controls",
            "_view_module_version": "1.5.0",
            "_view_name": "HTMLView",
            "description": "",
            "description_tooltip": null,
            "layout": "IPY_MODEL_01ba0cd435394627953189a1944b3084",
            "placeholder": "​",
            "style": "IPY_MODEL_d73e10ecf33c4c3f854801aea1c8a194",
            "value": " 657M/657M [00:11&lt;00:00, 61.5MB/s]"
          }
        },
        "3534ed2740ae4b28ad8cb4a64394a003": {
          "model_module": "@jupyter-widgets/base",
          "model_name": "LayoutModel",
          "model_module_version": "1.2.0",
          "state": {
            "_model_module": "@jupyter-widgets/base",
            "_model_module_version": "1.2.0",
            "_model_name": "LayoutModel",
            "_view_count": null,
            "_view_module": "@jupyter-widgets/base",
            "_view_module_version": "1.2.0",
            "_view_name": "LayoutView",
            "align_content": null,
            "align_items": null,
            "align_self": null,
            "border": null,
            "bottom": null,
            "display": null,
            "flex": null,
            "flex_flow": null,
            "grid_area": null,
            "grid_auto_columns": null,
            "grid_auto_flow": null,
            "grid_auto_rows": null,
            "grid_column": null,
            "grid_gap": null,
            "grid_row": null,
            "grid_template_areas": null,
            "grid_template_columns": null,
            "grid_template_rows": null,
            "height": null,
            "justify_content": null,
            "justify_items": null,
            "left": null,
            "margin": null,
            "max_height": null,
            "max_width": null,
            "min_height": null,
            "min_width": null,
            "object_fit": null,
            "object_position": null,
            "order": null,
            "overflow": null,
            "overflow_x": null,
            "overflow_y": null,
            "padding": null,
            "right": null,
            "top": null,
            "visibility": null,
            "width": null
          }
        },
        "1f490c3d8a5347de9502dc8b2b0bbe52": {
          "model_module": "@jupyter-widgets/base",
          "model_name": "LayoutModel",
          "model_module_version": "1.2.0",
          "state": {
            "_model_module": "@jupyter-widgets/base",
            "_model_module_version": "1.2.0",
            "_model_name": "LayoutModel",
            "_view_count": null,
            "_view_module": "@jupyter-widgets/base",
            "_view_module_version": "1.2.0",
            "_view_name": "LayoutView",
            "align_content": null,
            "align_items": null,
            "align_self": null,
            "border": null,
            "bottom": null,
            "display": null,
            "flex": null,
            "flex_flow": null,
            "grid_area": null,
            "grid_auto_columns": null,
            "grid_auto_flow": null,
            "grid_auto_rows": null,
            "grid_column": null,
            "grid_gap": null,
            "grid_row": null,
            "grid_template_areas": null,
            "grid_template_columns": null,
            "grid_template_rows": null,
            "height": null,
            "justify_content": null,
            "justify_items": null,
            "left": null,
            "margin": null,
            "max_height": null,
            "max_width": null,
            "min_height": null,
            "min_width": null,
            "object_fit": null,
            "object_position": null,
            "order": null,
            "overflow": null,
            "overflow_x": null,
            "overflow_y": null,
            "padding": null,
            "right": null,
            "top": null,
            "visibility": null,
            "width": null
          }
        },
        "c42e6bee45dd4b62a50c6a352968c1ee": {
          "model_module": "@jupyter-widgets/controls",
          "model_name": "DescriptionStyleModel",
          "model_module_version": "1.5.0",
          "state": {
            "_model_module": "@jupyter-widgets/controls",
            "_model_module_version": "1.5.0",
            "_model_name": "DescriptionStyleModel",
            "_view_count": null,
            "_view_module": "@jupyter-widgets/base",
            "_view_module_version": "1.2.0",
            "_view_name": "StyleView",
            "description_width": ""
          }
        },
        "9b150aa97b1149e7a20b3bd98cfccb36": {
          "model_module": "@jupyter-widgets/base",
          "model_name": "LayoutModel",
          "model_module_version": "1.2.0",
          "state": {
            "_model_module": "@jupyter-widgets/base",
            "_model_module_version": "1.2.0",
            "_model_name": "LayoutModel",
            "_view_count": null,
            "_view_module": "@jupyter-widgets/base",
            "_view_module_version": "1.2.0",
            "_view_name": "LayoutView",
            "align_content": null,
            "align_items": null,
            "align_self": null,
            "border": null,
            "bottom": null,
            "display": null,
            "flex": null,
            "flex_flow": null,
            "grid_area": null,
            "grid_auto_columns": null,
            "grid_auto_flow": null,
            "grid_auto_rows": null,
            "grid_column": null,
            "grid_gap": null,
            "grid_row": null,
            "grid_template_areas": null,
            "grid_template_columns": null,
            "grid_template_rows": null,
            "height": null,
            "justify_content": null,
            "justify_items": null,
            "left": null,
            "margin": null,
            "max_height": null,
            "max_width": null,
            "min_height": null,
            "min_width": null,
            "object_fit": null,
            "object_position": null,
            "order": null,
            "overflow": null,
            "overflow_x": null,
            "overflow_y": null,
            "padding": null,
            "right": null,
            "top": null,
            "visibility": null,
            "width": null
          }
        },
        "befe48d7426446b5a8e4c9dca2380e36": {
          "model_module": "@jupyter-widgets/controls",
          "model_name": "ProgressStyleModel",
          "model_module_version": "1.5.0",
          "state": {
            "_model_module": "@jupyter-widgets/controls",
            "_model_module_version": "1.5.0",
            "_model_name": "ProgressStyleModel",
            "_view_count": null,
            "_view_module": "@jupyter-widgets/base",
            "_view_module_version": "1.2.0",
            "_view_name": "StyleView",
            "bar_color": null,
            "description_width": ""
          }
        },
        "01ba0cd435394627953189a1944b3084": {
          "model_module": "@jupyter-widgets/base",
          "model_name": "LayoutModel",
          "model_module_version": "1.2.0",
          "state": {
            "_model_module": "@jupyter-widgets/base",
            "_model_module_version": "1.2.0",
            "_model_name": "LayoutModel",
            "_view_count": null,
            "_view_module": "@jupyter-widgets/base",
            "_view_module_version": "1.2.0",
            "_view_name": "LayoutView",
            "align_content": null,
            "align_items": null,
            "align_self": null,
            "border": null,
            "bottom": null,
            "display": null,
            "flex": null,
            "flex_flow": null,
            "grid_area": null,
            "grid_auto_columns": null,
            "grid_auto_flow": null,
            "grid_auto_rows": null,
            "grid_column": null,
            "grid_gap": null,
            "grid_row": null,
            "grid_template_areas": null,
            "grid_template_columns": null,
            "grid_template_rows": null,
            "height": null,
            "justify_content": null,
            "justify_items": null,
            "left": null,
            "margin": null,
            "max_height": null,
            "max_width": null,
            "min_height": null,
            "min_width": null,
            "object_fit": null,
            "object_position": null,
            "order": null,
            "overflow": null,
            "overflow_x": null,
            "overflow_y": null,
            "padding": null,
            "right": null,
            "top": null,
            "visibility": null,
            "width": null
          }
        },
        "d73e10ecf33c4c3f854801aea1c8a194": {
          "model_module": "@jupyter-widgets/controls",
          "model_name": "DescriptionStyleModel",
          "model_module_version": "1.5.0",
          "state": {
            "_model_module": "@jupyter-widgets/controls",
            "_model_module_version": "1.5.0",
            "_model_name": "DescriptionStyleModel",
            "_view_count": null,
            "_view_module": "@jupyter-widgets/base",
            "_view_module_version": "1.2.0",
            "_view_name": "StyleView",
            "description_width": ""
          }
        }
      }
    }
  },
  "cells": [
    {
      "cell_type": "code",
      "execution_count": 1,
      "metadata": {
        "colab": {
          "base_uri": "https://localhost:8080/"
        },
        "id": "RcDnzz0Oj0w4",
        "outputId": "eccc3044-37e7-4160-cdf7-16d22767bf5d"
      },
      "outputs": [
        {
          "output_type": "stream",
          "name": "stdout",
          "text": [
            "Mounted at /content/drive\n"
          ]
        }
      ],
      "source": [
        "from google.colab import drive\n",
        "drive.mount('/content/drive')"
      ]
    },
    {
      "cell_type": "code",
      "source": [
        "!tar -xvzf \"/content/drive/MyDrive/Colab Notebooks/Processed_CSV/cleaned_email_data.tar.gz\""
      ],
      "metadata": {
        "colab": {
          "base_uri": "https://localhost:8080/"
        },
        "id": "9Pgf8K4Wj-vB",
        "outputId": "ad12355f-e6b2-4104-9089-135e72ea2b21"
      },
      "execution_count": 2,
      "outputs": [
        {
          "output_type": "stream",
          "name": "stdout",
          "text": [
            "content/cleaned_email_data.csv\n"
          ]
        }
      ]
    },
    {
      "cell_type": "code",
      "source": [
        "csv_file_path = \"/content/content/cleaned_email_data.csv\""
      ],
      "metadata": {
        "id": "Sm41dgaWj_Mm"
      },
      "execution_count": 3,
      "outputs": []
    },
    {
      "cell_type": "code",
      "source": [
        "import nltk\n",
        "nltk.download('gutenberg')\n",
        "nltk.download('punkt')\n",
        "\n",
        "import re\n",
        "import pandas as pd\n",
        "import warnings\n",
        "warnings.filterwarnings('ignore')\n",
        "\n",
        "from nltk.tokenize import sent_tokenize\n",
        "from nltk.tokenize import word_tokenize\n",
        "from nltk.corpus import stopwords\n",
        "nltk.download('stopwords')\n",
        "import numpy as np\n",
        "from sklearn.preprocessing import StandardScaler\n",
        "from sklearn.model_selection import train_test_split\n",
        "from sklearn.neighbors import KNeighborsClassifier\n",
        "from sklearn.linear_model import SGDClassifier\n",
        "from sklearn.tree import DecisionTreeClassifier\n",
        "from sklearn.svm import SVC\n",
        "from sklearn.metrics import accuracy_score\n",
        "from sklearn.ensemble import RandomForestClassifier\n",
        "from sklearn.linear_model import LogisticRegression\n",
        "from sklearn.feature_extraction.text import CountVectorizer\n",
        "from sklearn.feature_extraction.text import TfidfVectorizer\n",
        "import gensim\n",
        "import os\n",
        "import glob\n",
        "import string"
      ],
      "metadata": {
        "colab": {
          "base_uri": "https://localhost:8080/"
        },
        "id": "DfSAn8JwkCbU",
        "outputId": "8c66026c-70ca-4e78-97e3-5d3f85e17858"
      },
      "execution_count": 4,
      "outputs": [
        {
          "output_type": "stream",
          "name": "stderr",
          "text": [
            "[nltk_data] Downloading package gutenberg to /root/nltk_data...\n",
            "[nltk_data]   Unzipping corpora/gutenberg.zip.\n",
            "[nltk_data] Downloading package punkt to /root/nltk_data...\n",
            "[nltk_data]   Unzipping tokenizers/punkt.zip.\n",
            "[nltk_data] Downloading package stopwords to /root/nltk_data...\n",
            "[nltk_data]   Unzipping corpora/stopwords.zip.\n"
          ]
        }
      ]
    },
    {
      "cell_type": "code",
      "source": [
        "import multiprocessing\n",
        "import seaborn as sns\n",
        "import email\n",
        "import matplotlib.pyplot as plt"
      ],
      "metadata": {
        "id": "2uVaN6JRkDGU"
      },
      "execution_count": 5,
      "outputs": []
    },
    {
      "cell_type": "code",
      "source": [
        "df_csv = pd.read_csv(csv_file_path)\n",
        "print(df_csv.shape)\n",
        "df_csv.head()"
      ],
      "metadata": {
        "colab": {
          "base_uri": "https://localhost:8080/",
          "height": 617
        },
        "id": "fBbhBCvskFSq",
        "outputId": "46ec8b55-c283-40c3-954f-539722745daa"
      },
      "execution_count": 6,
      "outputs": [
        {
          "output_type": "stream",
          "name": "stdout",
          "text": [
            "(476725, 10)\n"
          ]
        },
        {
          "output_type": "execute_result",
          "data": {
            "text/plain": [
              "                                           file  \\\n",
              "0   /content/maildir/dasovich-j/sent_items/911.   \n",
              "1   /content/maildir/dasovich-j/sent_items/384.   \n",
              "2   /content/maildir/dasovich-j/sent_items/981.   \n",
              "3   /content/maildir/dasovich-j/sent_items/293.   \n",
              "4  /content/maildir/dasovich-j/sent_items/2403.   \n",
              "\n",
              "                                             message  \\\n",
              "0  Message-ID: <8642360.1075851633204.JavaMail.ev...   \n",
              "1  Message-ID: <15996888.1075851619794.JavaMail.e...   \n",
              "2  Message-ID: <3389339.1075852585374.JavaMail.ev...   \n",
              "3  Message-ID: <13586391.1075851617442.JavaMail.e...   \n",
              "4  Message-ID: <8782396.1075859207216.JavaMail.ev...   \n",
              "\n",
              "                                                body                     From  \\\n",
              "0  Heeeeeeeeeeeeee Haaaaaaaaaaawww!!!!!   Gouge d...  jeff.dasovich@enron.com   \n",
              "1  I'm hooting just thinking about it.  Could we ...  jeff.dasovich@enron.com   \n",
              "2  FYI.  In case you'd like to listen in on what ...  jeff.dasovich@enron.com   \n",
              "3  Greetings Eve and Bill:\\nThis has been forward...  jeff.dasovich@enron.com   \n",
              "4  Hey.  I'm still trying to get through school a...  jeff.dasovich@enron.com   \n",
              "\n",
              "                                                  To  \\\n",
              "0                thompson@enron.com, ttt@cpuc.ca.gov   \n",
              "1                             pr <.palmer@enron.com>   \n",
              "2  susan.mara@enron.com, michael.tribolet@enron.c...   \n",
              "3              eve@a-klaws.com, cra@calretailers.com   \n",
              "4                            avram@truebluegrass.com   \n",
              "\n",
              "                                             Subject  \\\n",
              "0                                  Re: just thinkin'   \n",
              "1  RE: It seems to be unraveling for Davis--Need ...   \n",
              "2  FW: A.98-07-003 - Meet and Confer Conference Call   \n",
              "3                FW: Draft Application for Rehearing   \n",
              "4  RE: Alert- new email address for Avram Siegel,...   \n",
              "\n",
              "                                              X-From  \\\n",
              "0                                      Jeff Dasovich   \n",
              "1  Dasovich, Jeff </O=ENRON/OU=NA/CN=RECIPIENTS/C...   \n",
              "2  Dasovich, Jeff </O=ENRON/OU=NA/CN=RECIPIENTS/C...   \n",
              "3  Dasovich, Jeff </O=ENRON/OU=NA/CN=RECIPIENTS/C...   \n",
              "4  Dasovich, Jeff </O=ENRON/OU=NA/CN=RECIPIENTS/C...   \n",
              "\n",
              "                                                X-To employee_name folder_name  \n",
              "0             Thompson, Thomas W.  <ttt@cpuc.ca.gov>    dasovich-j  sent items  \n",
              "1  Palmer, Mark A. (PR) </O=ENRON/OU=NA/CN=RECIPI...    dasovich-j  sent items  \n",
              "2  Mara, Susan </O=ENRON/OU=NA/CN=RECIPIENTS/CN=S...    dasovich-j  sent items  \n",
              "3  'eve@a-klaws.com', ''Bill Dombrowski' ' <cra@c...    dasovich-j  sent items  \n",
              "4           'Avram Siegel' <avram@truebluegrass.com>    dasovich-j  sent items  "
            ],
            "text/html": [
              "\n",
              "  <div id=\"df-d8fe1183-9f7d-44ce-a919-250a187042c3\">\n",
              "    <div class=\"colab-df-container\">\n",
              "      <div>\n",
              "<style scoped>\n",
              "    .dataframe tbody tr th:only-of-type {\n",
              "        vertical-align: middle;\n",
              "    }\n",
              "\n",
              "    .dataframe tbody tr th {\n",
              "        vertical-align: top;\n",
              "    }\n",
              "\n",
              "    .dataframe thead th {\n",
              "        text-align: right;\n",
              "    }\n",
              "</style>\n",
              "<table border=\"1\" class=\"dataframe\">\n",
              "  <thead>\n",
              "    <tr style=\"text-align: right;\">\n",
              "      <th></th>\n",
              "      <th>file</th>\n",
              "      <th>message</th>\n",
              "      <th>body</th>\n",
              "      <th>From</th>\n",
              "      <th>To</th>\n",
              "      <th>Subject</th>\n",
              "      <th>X-From</th>\n",
              "      <th>X-To</th>\n",
              "      <th>employee_name</th>\n",
              "      <th>folder_name</th>\n",
              "    </tr>\n",
              "  </thead>\n",
              "  <tbody>\n",
              "    <tr>\n",
              "      <th>0</th>\n",
              "      <td>/content/maildir/dasovich-j/sent_items/911.</td>\n",
              "      <td>Message-ID: &lt;8642360.1075851633204.JavaMail.ev...</td>\n",
              "      <td>Heeeeeeeeeeeeee Haaaaaaaaaaawww!!!!!   Gouge d...</td>\n",
              "      <td>jeff.dasovich@enron.com</td>\n",
              "      <td>thompson@enron.com, ttt@cpuc.ca.gov</td>\n",
              "      <td>Re: just thinkin'</td>\n",
              "      <td>Jeff Dasovich</td>\n",
              "      <td>Thompson, Thomas W.  &lt;ttt@cpuc.ca.gov&gt;</td>\n",
              "      <td>dasovich-j</td>\n",
              "      <td>sent items</td>\n",
              "    </tr>\n",
              "    <tr>\n",
              "      <th>1</th>\n",
              "      <td>/content/maildir/dasovich-j/sent_items/384.</td>\n",
              "      <td>Message-ID: &lt;15996888.1075851619794.JavaMail.e...</td>\n",
              "      <td>I'm hooting just thinking about it.  Could we ...</td>\n",
              "      <td>jeff.dasovich@enron.com</td>\n",
              "      <td>pr &lt;.palmer@enron.com&gt;</td>\n",
              "      <td>RE: It seems to be unraveling for Davis--Need ...</td>\n",
              "      <td>Dasovich, Jeff &lt;/O=ENRON/OU=NA/CN=RECIPIENTS/C...</td>\n",
              "      <td>Palmer, Mark A. (PR) &lt;/O=ENRON/OU=NA/CN=RECIPI...</td>\n",
              "      <td>dasovich-j</td>\n",
              "      <td>sent items</td>\n",
              "    </tr>\n",
              "    <tr>\n",
              "      <th>2</th>\n",
              "      <td>/content/maildir/dasovich-j/sent_items/981.</td>\n",
              "      <td>Message-ID: &lt;3389339.1075852585374.JavaMail.ev...</td>\n",
              "      <td>FYI.  In case you'd like to listen in on what ...</td>\n",
              "      <td>jeff.dasovich@enron.com</td>\n",
              "      <td>susan.mara@enron.com, michael.tribolet@enron.c...</td>\n",
              "      <td>FW: A.98-07-003 - Meet and Confer Conference Call</td>\n",
              "      <td>Dasovich, Jeff &lt;/O=ENRON/OU=NA/CN=RECIPIENTS/C...</td>\n",
              "      <td>Mara, Susan &lt;/O=ENRON/OU=NA/CN=RECIPIENTS/CN=S...</td>\n",
              "      <td>dasovich-j</td>\n",
              "      <td>sent items</td>\n",
              "    </tr>\n",
              "    <tr>\n",
              "      <th>3</th>\n",
              "      <td>/content/maildir/dasovich-j/sent_items/293.</td>\n",
              "      <td>Message-ID: &lt;13586391.1075851617442.JavaMail.e...</td>\n",
              "      <td>Greetings Eve and Bill:\\nThis has been forward...</td>\n",
              "      <td>jeff.dasovich@enron.com</td>\n",
              "      <td>eve@a-klaws.com, cra@calretailers.com</td>\n",
              "      <td>FW: Draft Application for Rehearing</td>\n",
              "      <td>Dasovich, Jeff &lt;/O=ENRON/OU=NA/CN=RECIPIENTS/C...</td>\n",
              "      <td>'eve@a-klaws.com', ''Bill Dombrowski' ' &lt;cra@c...</td>\n",
              "      <td>dasovich-j</td>\n",
              "      <td>sent items</td>\n",
              "    </tr>\n",
              "    <tr>\n",
              "      <th>4</th>\n",
              "      <td>/content/maildir/dasovich-j/sent_items/2403.</td>\n",
              "      <td>Message-ID: &lt;8782396.1075859207216.JavaMail.ev...</td>\n",
              "      <td>Hey.  I'm still trying to get through school a...</td>\n",
              "      <td>jeff.dasovich@enron.com</td>\n",
              "      <td>avram@truebluegrass.com</td>\n",
              "      <td>RE: Alert- new email address for Avram Siegel,...</td>\n",
              "      <td>Dasovich, Jeff &lt;/O=ENRON/OU=NA/CN=RECIPIENTS/C...</td>\n",
              "      <td>'Avram Siegel' &lt;avram@truebluegrass.com&gt;</td>\n",
              "      <td>dasovich-j</td>\n",
              "      <td>sent items</td>\n",
              "    </tr>\n",
              "  </tbody>\n",
              "</table>\n",
              "</div>\n",
              "      <button class=\"colab-df-convert\" onclick=\"convertToInteractive('df-d8fe1183-9f7d-44ce-a919-250a187042c3')\"\n",
              "              title=\"Convert this dataframe to an interactive table.\"\n",
              "              style=\"display:none;\">\n",
              "        \n",
              "  <svg xmlns=\"http://www.w3.org/2000/svg\" height=\"24px\"viewBox=\"0 0 24 24\"\n",
              "       width=\"24px\">\n",
              "    <path d=\"M0 0h24v24H0V0z\" fill=\"none\"/>\n",
              "    <path d=\"M18.56 5.44l.94 2.06.94-2.06 2.06-.94-2.06-.94-.94-2.06-.94 2.06-2.06.94zm-11 1L8.5 8.5l.94-2.06 2.06-.94-2.06-.94L8.5 2.5l-.94 2.06-2.06.94zm10 10l.94 2.06.94-2.06 2.06-.94-2.06-.94-.94-2.06-.94 2.06-2.06.94z\"/><path d=\"M17.41 7.96l-1.37-1.37c-.4-.4-.92-.59-1.43-.59-.52 0-1.04.2-1.43.59L10.3 9.45l-7.72 7.72c-.78.78-.78 2.05 0 2.83L4 21.41c.39.39.9.59 1.41.59.51 0 1.02-.2 1.41-.59l7.78-7.78 2.81-2.81c.8-.78.8-2.07 0-2.86zM5.41 20L4 18.59l7.72-7.72 1.47 1.35L5.41 20z\"/>\n",
              "  </svg>\n",
              "      </button>\n",
              "      \n",
              "  <style>\n",
              "    .colab-df-container {\n",
              "      display:flex;\n",
              "      flex-wrap:wrap;\n",
              "      gap: 12px;\n",
              "    }\n",
              "\n",
              "    .colab-df-convert {\n",
              "      background-color: #E8F0FE;\n",
              "      border: none;\n",
              "      border-radius: 50%;\n",
              "      cursor: pointer;\n",
              "      display: none;\n",
              "      fill: #1967D2;\n",
              "      height: 32px;\n",
              "      padding: 0 0 0 0;\n",
              "      width: 32px;\n",
              "    }\n",
              "\n",
              "    .colab-df-convert:hover {\n",
              "      background-color: #E2EBFA;\n",
              "      box-shadow: 0px 1px 2px rgba(60, 64, 67, 0.3), 0px 1px 3px 1px rgba(60, 64, 67, 0.15);\n",
              "      fill: #174EA6;\n",
              "    }\n",
              "\n",
              "    [theme=dark] .colab-df-convert {\n",
              "      background-color: #3B4455;\n",
              "      fill: #D2E3FC;\n",
              "    }\n",
              "\n",
              "    [theme=dark] .colab-df-convert:hover {\n",
              "      background-color: #434B5C;\n",
              "      box-shadow: 0px 1px 3px 1px rgba(0, 0, 0, 0.15);\n",
              "      filter: drop-shadow(0px 1px 2px rgba(0, 0, 0, 0.3));\n",
              "      fill: #FFFFFF;\n",
              "    }\n",
              "  </style>\n",
              "\n",
              "      <script>\n",
              "        const buttonEl =\n",
              "          document.querySelector('#df-d8fe1183-9f7d-44ce-a919-250a187042c3 button.colab-df-convert');\n",
              "        buttonEl.style.display =\n",
              "          google.colab.kernel.accessAllowed ? 'block' : 'none';\n",
              "\n",
              "        async function convertToInteractive(key) {\n",
              "          const element = document.querySelector('#df-d8fe1183-9f7d-44ce-a919-250a187042c3');\n",
              "          const dataTable =\n",
              "            await google.colab.kernel.invokeFunction('convertToInteractive',\n",
              "                                                     [key], {});\n",
              "          if (!dataTable) return;\n",
              "\n",
              "          const docLinkHtml = 'Like what you see? Visit the ' +\n",
              "            '<a target=\"_blank\" href=https://colab.research.google.com/notebooks/data_table.ipynb>data table notebook</a>'\n",
              "            + ' to learn more about interactive tables.';\n",
              "          element.innerHTML = '';\n",
              "          dataTable['output_type'] = 'display_data';\n",
              "          await google.colab.output.renderOutput(dataTable, element);\n",
              "          const docLink = document.createElement('div');\n",
              "          docLink.innerHTML = docLinkHtml;\n",
              "          element.appendChild(docLink);\n",
              "        }\n",
              "      </script>\n",
              "    </div>\n",
              "  </div>\n",
              "  "
            ]
          },
          "metadata": {},
          "execution_count": 6
        }
      ]
    },
    {
      "cell_type": "code",
      "source": [
        "#copy required columns into new dataframe\n",
        "df = df_csv.filter([\"body\",\"Subject\",\"From\",\"To\",\"folder_name\"])\n",
        "df\n"
      ],
      "metadata": {
        "colab": {
          "base_uri": "https://localhost:8080/",
          "height": 589
        },
        "id": "35wew5CKkIjY",
        "outputId": "af0c3471-910e-47aa-cc5c-b135846384b9"
      },
      "execution_count": 7,
      "outputs": [
        {
          "output_type": "execute_result",
          "data": {
            "text/plain": [
              "                                                     body  \\\n",
              "0       Heeeeeeeeeeeeee Haaaaaaaaaaawww!!!!!   Gouge d...   \n",
              "1       I'm hooting just thinking about it.  Could we ...   \n",
              "2       FYI.  In case you'd like to listen in on what ...   \n",
              "3       Greetings Eve and Bill:\\nThis has been forward...   \n",
              "4       Hey.  I'm still trying to get through school a...   \n",
              "...                                                   ...   \n",
              "476720  I could let the fluff comment fly if you were ...   \n",
              "476721   I am not worried about MY handling abilities....   \n",
              "476722  Thanks for the info...you are a wealth of know...   \n",
              "476723  Attached is a list of footnotes we have come u...   \n",
              "476724  John, I think that sounds fine.\\nI really have...   \n",
              "\n",
              "                                                  Subject  \\\n",
              "0                                       Re: just thinkin'   \n",
              "1       RE: It seems to be unraveling for Davis--Need ...   \n",
              "2       FW: A.98-07-003 - Meet and Confer Conference Call   \n",
              "3                     FW: Draft Application for Rehearing   \n",
              "4       RE: Alert- new email address for Avram Siegel,...   \n",
              "...                                                   ...   \n",
              "476720                      Re: How can you not be a fan?   \n",
              "476721                                                Re:   \n",
              "476722              Re: And this one time at band camp...   \n",
              "476723                637 Transactional Report Footnotesq   \n",
              "476724                         Re: Transwestern org chart   \n",
              "\n",
              "                           From  \\\n",
              "0       jeff.dasovich@enron.com   \n",
              "1       jeff.dasovich@enron.com   \n",
              "2       jeff.dasovich@enron.com   \n",
              "3       jeff.dasovich@enron.com   \n",
              "4       jeff.dasovich@enron.com   \n",
              "...                         ...   \n",
              "476720    susan.scott@enron.com   \n",
              "476721      ted.noble@enron.com   \n",
              "476722    susan.scott@enron.com   \n",
              "476723  linda.trevino@enron.com   \n",
              "476724    susan.scott@enron.com   \n",
              "\n",
              "                                                       To     folder_name  \n",
              "0                     thompson@enron.com, ttt@cpuc.ca.gov      sent items  \n",
              "1                                  pr <.palmer@enron.com>      sent items  \n",
              "2       susan.mara@enron.com, michael.tribolet@enron.c...      sent items  \n",
              "3                   eve@a-klaws.com, cra@calretailers.com      sent items  \n",
              "4                                 avram@truebluegrass.com      sent items  \n",
              "...                                                   ...             ...  \n",
              "476720                         benjamin.freeman@enron.com  correspondence  \n",
              "476721                              susan.scott@enron.com  correspondence  \n",
              "476722                                ted.noble@enron.com  correspondence  \n",
              "476723  frazier.king@enron.com, dari.dornan@enron.com,...       order 637  \n",
              "476724                                comp.temp@enron.com       order 637  \n",
              "\n",
              "[476725 rows x 5 columns]"
            ],
            "text/html": [
              "\n",
              "  <div id=\"df-1e09f5fa-03f6-4a4f-8d52-03f7f0650a89\">\n",
              "    <div class=\"colab-df-container\">\n",
              "      <div>\n",
              "<style scoped>\n",
              "    .dataframe tbody tr th:only-of-type {\n",
              "        vertical-align: middle;\n",
              "    }\n",
              "\n",
              "    .dataframe tbody tr th {\n",
              "        vertical-align: top;\n",
              "    }\n",
              "\n",
              "    .dataframe thead th {\n",
              "        text-align: right;\n",
              "    }\n",
              "</style>\n",
              "<table border=\"1\" class=\"dataframe\">\n",
              "  <thead>\n",
              "    <tr style=\"text-align: right;\">\n",
              "      <th></th>\n",
              "      <th>body</th>\n",
              "      <th>Subject</th>\n",
              "      <th>From</th>\n",
              "      <th>To</th>\n",
              "      <th>folder_name</th>\n",
              "    </tr>\n",
              "  </thead>\n",
              "  <tbody>\n",
              "    <tr>\n",
              "      <th>0</th>\n",
              "      <td>Heeeeeeeeeeeeee Haaaaaaaaaaawww!!!!!   Gouge d...</td>\n",
              "      <td>Re: just thinkin'</td>\n",
              "      <td>jeff.dasovich@enron.com</td>\n",
              "      <td>thompson@enron.com, ttt@cpuc.ca.gov</td>\n",
              "      <td>sent items</td>\n",
              "    </tr>\n",
              "    <tr>\n",
              "      <th>1</th>\n",
              "      <td>I'm hooting just thinking about it.  Could we ...</td>\n",
              "      <td>RE: It seems to be unraveling for Davis--Need ...</td>\n",
              "      <td>jeff.dasovich@enron.com</td>\n",
              "      <td>pr &lt;.palmer@enron.com&gt;</td>\n",
              "      <td>sent items</td>\n",
              "    </tr>\n",
              "    <tr>\n",
              "      <th>2</th>\n",
              "      <td>FYI.  In case you'd like to listen in on what ...</td>\n",
              "      <td>FW: A.98-07-003 - Meet and Confer Conference Call</td>\n",
              "      <td>jeff.dasovich@enron.com</td>\n",
              "      <td>susan.mara@enron.com, michael.tribolet@enron.c...</td>\n",
              "      <td>sent items</td>\n",
              "    </tr>\n",
              "    <tr>\n",
              "      <th>3</th>\n",
              "      <td>Greetings Eve and Bill:\\nThis has been forward...</td>\n",
              "      <td>FW: Draft Application for Rehearing</td>\n",
              "      <td>jeff.dasovich@enron.com</td>\n",
              "      <td>eve@a-klaws.com, cra@calretailers.com</td>\n",
              "      <td>sent items</td>\n",
              "    </tr>\n",
              "    <tr>\n",
              "      <th>4</th>\n",
              "      <td>Hey.  I'm still trying to get through school a...</td>\n",
              "      <td>RE: Alert- new email address for Avram Siegel,...</td>\n",
              "      <td>jeff.dasovich@enron.com</td>\n",
              "      <td>avram@truebluegrass.com</td>\n",
              "      <td>sent items</td>\n",
              "    </tr>\n",
              "    <tr>\n",
              "      <th>...</th>\n",
              "      <td>...</td>\n",
              "      <td>...</td>\n",
              "      <td>...</td>\n",
              "      <td>...</td>\n",
              "      <td>...</td>\n",
              "    </tr>\n",
              "    <tr>\n",
              "      <th>476720</th>\n",
              "      <td>I could let the fluff comment fly if you were ...</td>\n",
              "      <td>Re: How can you not be a fan?</td>\n",
              "      <td>susan.scott@enron.com</td>\n",
              "      <td>benjamin.freeman@enron.com</td>\n",
              "      <td>correspondence</td>\n",
              "    </tr>\n",
              "    <tr>\n",
              "      <th>476721</th>\n",
              "      <td>I am not worried about MY handling abilities....</td>\n",
              "      <td>Re:</td>\n",
              "      <td>ted.noble@enron.com</td>\n",
              "      <td>susan.scott@enron.com</td>\n",
              "      <td>correspondence</td>\n",
              "    </tr>\n",
              "    <tr>\n",
              "      <th>476722</th>\n",
              "      <td>Thanks for the info...you are a wealth of know...</td>\n",
              "      <td>Re: And this one time at band camp...</td>\n",
              "      <td>susan.scott@enron.com</td>\n",
              "      <td>ted.noble@enron.com</td>\n",
              "      <td>correspondence</td>\n",
              "    </tr>\n",
              "    <tr>\n",
              "      <th>476723</th>\n",
              "      <td>Attached is a list of footnotes we have come u...</td>\n",
              "      <td>637 Transactional Report Footnotesq</td>\n",
              "      <td>linda.trevino@enron.com</td>\n",
              "      <td>frazier.king@enron.com, dari.dornan@enron.com,...</td>\n",
              "      <td>order 637</td>\n",
              "    </tr>\n",
              "    <tr>\n",
              "      <th>476724</th>\n",
              "      <td>John, I think that sounds fine.\\nI really have...</td>\n",
              "      <td>Re: Transwestern org chart</td>\n",
              "      <td>susan.scott@enron.com</td>\n",
              "      <td>comp.temp@enron.com</td>\n",
              "      <td>order 637</td>\n",
              "    </tr>\n",
              "  </tbody>\n",
              "</table>\n",
              "<p>476725 rows × 5 columns</p>\n",
              "</div>\n",
              "      <button class=\"colab-df-convert\" onclick=\"convertToInteractive('df-1e09f5fa-03f6-4a4f-8d52-03f7f0650a89')\"\n",
              "              title=\"Convert this dataframe to an interactive table.\"\n",
              "              style=\"display:none;\">\n",
              "        \n",
              "  <svg xmlns=\"http://www.w3.org/2000/svg\" height=\"24px\"viewBox=\"0 0 24 24\"\n",
              "       width=\"24px\">\n",
              "    <path d=\"M0 0h24v24H0V0z\" fill=\"none\"/>\n",
              "    <path d=\"M18.56 5.44l.94 2.06.94-2.06 2.06-.94-2.06-.94-.94-2.06-.94 2.06-2.06.94zm-11 1L8.5 8.5l.94-2.06 2.06-.94-2.06-.94L8.5 2.5l-.94 2.06-2.06.94zm10 10l.94 2.06.94-2.06 2.06-.94-2.06-.94-.94-2.06-.94 2.06-2.06.94z\"/><path d=\"M17.41 7.96l-1.37-1.37c-.4-.4-.92-.59-1.43-.59-.52 0-1.04.2-1.43.59L10.3 9.45l-7.72 7.72c-.78.78-.78 2.05 0 2.83L4 21.41c.39.39.9.59 1.41.59.51 0 1.02-.2 1.41-.59l7.78-7.78 2.81-2.81c.8-.78.8-2.07 0-2.86zM5.41 20L4 18.59l7.72-7.72 1.47 1.35L5.41 20z\"/>\n",
              "  </svg>\n",
              "      </button>\n",
              "      \n",
              "  <style>\n",
              "    .colab-df-container {\n",
              "      display:flex;\n",
              "      flex-wrap:wrap;\n",
              "      gap: 12px;\n",
              "    }\n",
              "\n",
              "    .colab-df-convert {\n",
              "      background-color: #E8F0FE;\n",
              "      border: none;\n",
              "      border-radius: 50%;\n",
              "      cursor: pointer;\n",
              "      display: none;\n",
              "      fill: #1967D2;\n",
              "      height: 32px;\n",
              "      padding: 0 0 0 0;\n",
              "      width: 32px;\n",
              "    }\n",
              "\n",
              "    .colab-df-convert:hover {\n",
              "      background-color: #E2EBFA;\n",
              "      box-shadow: 0px 1px 2px rgba(60, 64, 67, 0.3), 0px 1px 3px 1px rgba(60, 64, 67, 0.15);\n",
              "      fill: #174EA6;\n",
              "    }\n",
              "\n",
              "    [theme=dark] .colab-df-convert {\n",
              "      background-color: #3B4455;\n",
              "      fill: #D2E3FC;\n",
              "    }\n",
              "\n",
              "    [theme=dark] .colab-df-convert:hover {\n",
              "      background-color: #434B5C;\n",
              "      box-shadow: 0px 1px 3px 1px rgba(0, 0, 0, 0.15);\n",
              "      filter: drop-shadow(0px 1px 2px rgba(0, 0, 0, 0.3));\n",
              "      fill: #FFFFFF;\n",
              "    }\n",
              "  </style>\n",
              "\n",
              "      <script>\n",
              "        const buttonEl =\n",
              "          document.querySelector('#df-1e09f5fa-03f6-4a4f-8d52-03f7f0650a89 button.colab-df-convert');\n",
              "        buttonEl.style.display =\n",
              "          google.colab.kernel.accessAllowed ? 'block' : 'none';\n",
              "\n",
              "        async function convertToInteractive(key) {\n",
              "          const element = document.querySelector('#df-1e09f5fa-03f6-4a4f-8d52-03f7f0650a89');\n",
              "          const dataTable =\n",
              "            await google.colab.kernel.invokeFunction('convertToInteractive',\n",
              "                                                     [key], {});\n",
              "          if (!dataTable) return;\n",
              "\n",
              "          const docLinkHtml = 'Like what you see? Visit the ' +\n",
              "            '<a target=\"_blank\" href=https://colab.research.google.com/notebooks/data_table.ipynb>data table notebook</a>'\n",
              "            + ' to learn more about interactive tables.';\n",
              "          element.innerHTML = '';\n",
              "          dataTable['output_type'] = 'display_data';\n",
              "          await google.colab.output.renderOutput(dataTable, element);\n",
              "          const docLink = document.createElement('div');\n",
              "          docLink.innerHTML = docLinkHtml;\n",
              "          element.appendChild(docLink);\n",
              "        }\n",
              "      </script>\n",
              "    </div>\n",
              "  </div>\n",
              "  "
            ]
          },
          "metadata": {},
          "execution_count": 7
        }
      ]
    },
    {
      "cell_type": "code",
      "source": [
        "df.shape"
      ],
      "metadata": {
        "colab": {
          "base_uri": "https://localhost:8080/"
        },
        "id": "Q1gLuoYXvr7C",
        "outputId": "6c5398b1-bc78-42c0-8c4c-f740d558ea3e"
      },
      "execution_count": 8,
      "outputs": [
        {
          "output_type": "execute_result",
          "data": {
            "text/plain": [
              "(476725, 5)"
            ]
          },
          "metadata": {},
          "execution_count": 8
        }
      ]
    },
    {
      "cell_type": "code",
      "source": [
        "#find duplicates in body\n",
        "#df['body'].duplicated().sum()\n",
        "df.duplicated().sum()"
      ],
      "metadata": {
        "colab": {
          "base_uri": "https://localhost:8080/"
        },
        "id": "lqHbSPh6un2E",
        "outputId": "8e582ac9-8249-4d44-b520-dc4b78f3a3f6"
      },
      "execution_count": 9,
      "outputs": [
        {
          "output_type": "execute_result",
          "data": {
            "text/plain": [
              "32894"
            ]
          },
          "metadata": {},
          "execution_count": 9
        }
      ]
    },
    {
      "cell_type": "code",
      "source": [
        "#remove duplicate data\n",
        "print(\"before removal: \",df.shape)\n",
        "df = df.drop_duplicates()\n",
        "print(\"after removal\",df.shape)"
      ],
      "metadata": {
        "colab": {
          "base_uri": "https://localhost:8080/"
        },
        "id": "h2MaYnizvVyO",
        "outputId": "93ab0993-02a7-458f-e722-a33c13079055"
      },
      "execution_count": 10,
      "outputs": [
        {
          "output_type": "stream",
          "name": "stdout",
          "text": [
            "before removal:  (476725, 5)\n",
            "after removal (443831, 5)\n"
          ]
        }
      ]
    },
    {
      "cell_type": "code",
      "source": [
        "print(df[\"folder_name\"].value_counts())"
      ],
      "metadata": {
        "colab": {
          "base_uri": "https://localhost:8080/"
        },
        "id": "0k8CQvZ7kKwy",
        "outputId": "8caaed92-2d4c-4049-b21f-c60d3f1de8bb"
      },
      "execution_count": 11,
      "outputs": [
        {
          "output_type": "stream",
          "name": "stdout",
          "text": [
            "all documents                  111954\n",
            "sent                            54671\n",
            "discussion threads              49254\n",
            "deleted items                   39204\n",
            "sent items                      35969\n",
            "                                ...  \n",
            "confirms - interest rate            1\n",
            "unread mail                         1\n",
            "tw - marketing                      1\n",
            "bancone                             1\n",
            "personnel - prc 2001 mid yr         1\n",
            "Name: folder_name, Length: 1751, dtype: int64\n"
          ]
        }
      ]
    },
    {
      "cell_type": "code",
      "source": [
        "#remove small folders which may not help us\n",
        "def remove_folders(emails, n):\n",
        "    # returns the number of folders containing more than 'n' number of emails\n",
        "    email_count = dict(df['folder_name'].value_counts())\n",
        "    small_folders = [key for key, val in email_count.items() if val<=n]\n",
        "    emails = df.loc[~df['folder_name'].isin(small_folders)]\n",
        "    return emails\n"
      ],
      "metadata": {
        "id": "Jo3iKjrEwKKx"
      },
      "execution_count": 12,
      "outputs": []
    },
    {
      "cell_type": "code",
      "source": [
        "n = 250\n",
        "df = remove_folders(df, n)"
      ],
      "metadata": {
        "id": "I-tyZWznwXjm"
      },
      "execution_count": 13,
      "outputs": []
    },
    {
      "cell_type": "code",
      "source": [
        "df[\"folder_name\"].value_counts()"
      ],
      "metadata": {
        "colab": {
          "base_uri": "https://localhost:8080/"
        },
        "id": "Gty-ngMgwl2M",
        "outputId": "fb1110c7-519e-4b2a-b604-81bd041d2002"
      },
      "execution_count": 14,
      "outputs": [
        {
          "output_type": "execute_result",
          "data": {
            "text/plain": [
              "all documents          111954\n",
              "sent                    54671\n",
              "discussion threads      49254\n",
              "deleted items           39204\n",
              "sent items              35969\n",
              "inbox                   31710\n",
              "notes inbox             31000\n",
              "'sent mail              28142\n",
              "untitled                 4073\n",
              "personal                 2239\n",
              "attachments              1915\n",
              "schedule crawler         1396\n",
              "logistics                1146\n",
              "tw-commercial group      1146\n",
              "california                987\n",
              "bill williams iii         943\n",
              "deal discrepancies        878\n",
              "management                789\n",
              "esvl                      658\n",
              "calendar                  630\n",
              "tufco                     604\n",
              "resumes                   590\n",
              "e-mail bin                588\n",
              "ces                       567\n",
              "online trading            563\n",
              "junk                      543\n",
              "junk file                 493\n",
              "genco-jv_ipo              458\n",
              "projects                  446\n",
              "archives                  404\n",
              "hr                        385\n",
              "universities              358\n",
              "iso_ pricecaps            357\n",
              "corporate                 353\n",
              "it                        343\n",
              "wellhead                  326\n",
              "california issues         308\n",
              "europe                    287\n",
              "eesirenewableenergy       284\n",
              "ooc                       279\n",
              "read                      277\n",
              "ene_ect                   264\n",
              "'sent                     264\n",
              "ferc                      262\n",
              "regulatory                260\n",
              "info                      259\n",
              "nelson                    256\n",
              "eol                       254\n",
              "east power                254\n",
              "Name: folder_name, dtype: int64"
            ]
          },
          "metadata": {},
          "execution_count": 14
        }
      ]
    },
    {
      "cell_type": "code",
      "source": [
        "#remove few sent folders and OOB folders as they are not user specific folders\n",
        "df = df[df.folder_name != 'sent']\n",
        "df = df[df.folder_name != 'all documents']\n",
        "df = df[df.folder_name != 'deleted items']\n",
        "df = df[df.folder_name != 'sent items']\n",
        "df = df[df.folder_name != \"'sent mail\"]\n",
        "df = df[df.folder_name != \"calendar\"]\n",
        "df = df[df.folder_name != \"'sent\"]\n",
        "df = df[df.folder_name != \"attachments\"]\n",
        "print(df.shape)\n",
        "df[\"folder_name\"].value_counts()"
      ],
      "metadata": {
        "colab": {
          "base_uri": "https://localhost:8080/"
        },
        "id": "IddtF7pcwBkY",
        "outputId": "d97eeea7-a168-430d-aa3c-e32847c361cd"
      },
      "execution_count": 15,
      "outputs": [
        {
          "output_type": "stream",
          "name": "stdout",
          "text": [
            "(136841, 5)\n"
          ]
        },
        {
          "output_type": "execute_result",
          "data": {
            "text/plain": [
              "discussion threads     49254\n",
              "inbox                  31710\n",
              "notes inbox            31000\n",
              "untitled                4073\n",
              "personal                2239\n",
              "schedule crawler        1396\n",
              "logistics               1146\n",
              "tw-commercial group     1146\n",
              "california               987\n",
              "bill williams iii        943\n",
              "deal discrepancies       878\n",
              "management               789\n",
              "esvl                     658\n",
              "tufco                    604\n",
              "resumes                  590\n",
              "e-mail bin               588\n",
              "ces                      567\n",
              "online trading           563\n",
              "junk                     543\n",
              "junk file                493\n",
              "genco-jv_ipo             458\n",
              "projects                 446\n",
              "archives                 404\n",
              "hr                       385\n",
              "universities             358\n",
              "iso_ pricecaps           357\n",
              "corporate                353\n",
              "it                       343\n",
              "wellhead                 326\n",
              "california issues        308\n",
              "europe                   287\n",
              "eesirenewableenergy      284\n",
              "ooc                      279\n",
              "read                     277\n",
              "ene_ect                  264\n",
              "ferc                     262\n",
              "regulatory               260\n",
              "info                     259\n",
              "nelson                   256\n",
              "eol                      254\n",
              "east power               254\n",
              "Name: folder_name, dtype: int64"
            ]
          },
          "metadata": {},
          "execution_count": 15
        }
      ]
    },
    {
      "cell_type": "code",
      "source": [
        "df[\"text\"] = df[\"From\"]+\" \"+df[\"To\"]+\" \"+df[\"Subject\"]+\" \"+df[\"body\"]\n",
        "#df[\"text\"] = df[\"Subject\"]+\" \"+df[\"body\"]\n",
        "df.head()"
      ],
      "metadata": {
        "colab": {
          "base_uri": "https://localhost:8080/",
          "height": 372
        },
        "id": "4IgQXq3gkZke",
        "outputId": "1e3a73a3-2cd4-4941-e4bc-0380b28f1f3d"
      },
      "execution_count": 16,
      "outputs": [
        {
          "output_type": "execute_result",
          "data": {
            "text/plain": [
              "                                                   body  \\\n",
              "1237  I will attend the following hearing next Monda...   \n",
              "1238  Joe Pratt is the Cullen Professor of Business ...   \n",
              "1239  Jeff--I have a new e mail address:   sue@shelt...   \n",
              "1240  Sorry--Mike's email is md_mills@yahoo.com, I l...   \n",
              "1241  Fellow MBAers,\\n\\nDovetailing Ken's email rega...   \n",
              "\n",
              "                                                Subject  \\\n",
              "1237                                            Hearing   \n",
              "1238  RE: Participation in Roundtable on Lessons Lea...   \n",
              "1239                                     e mail address   \n",
              "1240   RE: Save the Date: 12/09/01 - Jeff Walker's 40th   \n",
              "1241                       Fw: CSO-This Week In Finance   \n",
              "\n",
              "                             From  \\\n",
              "1237          sgovenar@govadv.com   \n",
              "1238        rob.bradley@enron.com   \n",
              "1239          sue@sheltercorp.com   \n",
              "1240  madeleine@madeleinetodd.com   \n",
              "1241              sfalbie@msn.com   \n",
              "\n",
              "                                                     To folder_name  \\\n",
              "1237                smara@enron.com, jdasovic@enron.com       inbox   \n",
              "1238                            jeff.dasovich@enron.com       inbox   \n",
              "1239                            jeff.dasovich@enron.com       inbox   \n",
              "1240  e-mail <.rob@enron.com>, e-mail <.jeff@enron.c...       inbox   \n",
              "1241                       eveningmba@haas.berkeley.edu       inbox   \n",
              "\n",
              "                                                   text  \n",
              "1237  sgovenar@govadv.com smara@enron.com, jdasovic@...  \n",
              "1238  rob.bradley@enron.com jeff.dasovich@enron.com ...  \n",
              "1239  sue@sheltercorp.com jeff.dasovich@enron.com e ...  \n",
              "1240  madeleine@madeleinetodd.com e-mail <.rob@enron...  \n",
              "1241  sfalbie@msn.com eveningmba@haas.berkeley.edu F...  "
            ],
            "text/html": [
              "\n",
              "  <div id=\"df-2be2870a-5e61-49e8-9247-fd87ef2aea4c\">\n",
              "    <div class=\"colab-df-container\">\n",
              "      <div>\n",
              "<style scoped>\n",
              "    .dataframe tbody tr th:only-of-type {\n",
              "        vertical-align: middle;\n",
              "    }\n",
              "\n",
              "    .dataframe tbody tr th {\n",
              "        vertical-align: top;\n",
              "    }\n",
              "\n",
              "    .dataframe thead th {\n",
              "        text-align: right;\n",
              "    }\n",
              "</style>\n",
              "<table border=\"1\" class=\"dataframe\">\n",
              "  <thead>\n",
              "    <tr style=\"text-align: right;\">\n",
              "      <th></th>\n",
              "      <th>body</th>\n",
              "      <th>Subject</th>\n",
              "      <th>From</th>\n",
              "      <th>To</th>\n",
              "      <th>folder_name</th>\n",
              "      <th>text</th>\n",
              "    </tr>\n",
              "  </thead>\n",
              "  <tbody>\n",
              "    <tr>\n",
              "      <th>1237</th>\n",
              "      <td>I will attend the following hearing next Monda...</td>\n",
              "      <td>Hearing</td>\n",
              "      <td>sgovenar@govadv.com</td>\n",
              "      <td>smara@enron.com, jdasovic@enron.com</td>\n",
              "      <td>inbox</td>\n",
              "      <td>sgovenar@govadv.com smara@enron.com, jdasovic@...</td>\n",
              "    </tr>\n",
              "    <tr>\n",
              "      <th>1238</th>\n",
              "      <td>Joe Pratt is the Cullen Professor of Business ...</td>\n",
              "      <td>RE: Participation in Roundtable on Lessons Lea...</td>\n",
              "      <td>rob.bradley@enron.com</td>\n",
              "      <td>jeff.dasovich@enron.com</td>\n",
              "      <td>inbox</td>\n",
              "      <td>rob.bradley@enron.com jeff.dasovich@enron.com ...</td>\n",
              "    </tr>\n",
              "    <tr>\n",
              "      <th>1239</th>\n",
              "      <td>Jeff--I have a new e mail address:   sue@shelt...</td>\n",
              "      <td>e mail address</td>\n",
              "      <td>sue@sheltercorp.com</td>\n",
              "      <td>jeff.dasovich@enron.com</td>\n",
              "      <td>inbox</td>\n",
              "      <td>sue@sheltercorp.com jeff.dasovich@enron.com e ...</td>\n",
              "    </tr>\n",
              "    <tr>\n",
              "      <th>1240</th>\n",
              "      <td>Sorry--Mike's email is md_mills@yahoo.com, I l...</td>\n",
              "      <td>RE: Save the Date: 12/09/01 - Jeff Walker's 40th</td>\n",
              "      <td>madeleine@madeleinetodd.com</td>\n",
              "      <td>e-mail &lt;.rob@enron.com&gt;, e-mail &lt;.jeff@enron.c...</td>\n",
              "      <td>inbox</td>\n",
              "      <td>madeleine@madeleinetodd.com e-mail &lt;.rob@enron...</td>\n",
              "    </tr>\n",
              "    <tr>\n",
              "      <th>1241</th>\n",
              "      <td>Fellow MBAers,\\n\\nDovetailing Ken's email rega...</td>\n",
              "      <td>Fw: CSO-This Week In Finance</td>\n",
              "      <td>sfalbie@msn.com</td>\n",
              "      <td>eveningmba@haas.berkeley.edu</td>\n",
              "      <td>inbox</td>\n",
              "      <td>sfalbie@msn.com eveningmba@haas.berkeley.edu F...</td>\n",
              "    </tr>\n",
              "  </tbody>\n",
              "</table>\n",
              "</div>\n",
              "      <button class=\"colab-df-convert\" onclick=\"convertToInteractive('df-2be2870a-5e61-49e8-9247-fd87ef2aea4c')\"\n",
              "              title=\"Convert this dataframe to an interactive table.\"\n",
              "              style=\"display:none;\">\n",
              "        \n",
              "  <svg xmlns=\"http://www.w3.org/2000/svg\" height=\"24px\"viewBox=\"0 0 24 24\"\n",
              "       width=\"24px\">\n",
              "    <path d=\"M0 0h24v24H0V0z\" fill=\"none\"/>\n",
              "    <path d=\"M18.56 5.44l.94 2.06.94-2.06 2.06-.94-2.06-.94-.94-2.06-.94 2.06-2.06.94zm-11 1L8.5 8.5l.94-2.06 2.06-.94-2.06-.94L8.5 2.5l-.94 2.06-2.06.94zm10 10l.94 2.06.94-2.06 2.06-.94-2.06-.94-.94-2.06-.94 2.06-2.06.94z\"/><path d=\"M17.41 7.96l-1.37-1.37c-.4-.4-.92-.59-1.43-.59-.52 0-1.04.2-1.43.59L10.3 9.45l-7.72 7.72c-.78.78-.78 2.05 0 2.83L4 21.41c.39.39.9.59 1.41.59.51 0 1.02-.2 1.41-.59l7.78-7.78 2.81-2.81c.8-.78.8-2.07 0-2.86zM5.41 20L4 18.59l7.72-7.72 1.47 1.35L5.41 20z\"/>\n",
              "  </svg>\n",
              "      </button>\n",
              "      \n",
              "  <style>\n",
              "    .colab-df-container {\n",
              "      display:flex;\n",
              "      flex-wrap:wrap;\n",
              "      gap: 12px;\n",
              "    }\n",
              "\n",
              "    .colab-df-convert {\n",
              "      background-color: #E8F0FE;\n",
              "      border: none;\n",
              "      border-radius: 50%;\n",
              "      cursor: pointer;\n",
              "      display: none;\n",
              "      fill: #1967D2;\n",
              "      height: 32px;\n",
              "      padding: 0 0 0 0;\n",
              "      width: 32px;\n",
              "    }\n",
              "\n",
              "    .colab-df-convert:hover {\n",
              "      background-color: #E2EBFA;\n",
              "      box-shadow: 0px 1px 2px rgba(60, 64, 67, 0.3), 0px 1px 3px 1px rgba(60, 64, 67, 0.15);\n",
              "      fill: #174EA6;\n",
              "    }\n",
              "\n",
              "    [theme=dark] .colab-df-convert {\n",
              "      background-color: #3B4455;\n",
              "      fill: #D2E3FC;\n",
              "    }\n",
              "\n",
              "    [theme=dark] .colab-df-convert:hover {\n",
              "      background-color: #434B5C;\n",
              "      box-shadow: 0px 1px 3px 1px rgba(0, 0, 0, 0.15);\n",
              "      filter: drop-shadow(0px 1px 2px rgba(0, 0, 0, 0.3));\n",
              "      fill: #FFFFFF;\n",
              "    }\n",
              "  </style>\n",
              "\n",
              "      <script>\n",
              "        const buttonEl =\n",
              "          document.querySelector('#df-2be2870a-5e61-49e8-9247-fd87ef2aea4c button.colab-df-convert');\n",
              "        buttonEl.style.display =\n",
              "          google.colab.kernel.accessAllowed ? 'block' : 'none';\n",
              "\n",
              "        async function convertToInteractive(key) {\n",
              "          const element = document.querySelector('#df-2be2870a-5e61-49e8-9247-fd87ef2aea4c');\n",
              "          const dataTable =\n",
              "            await google.colab.kernel.invokeFunction('convertToInteractive',\n",
              "                                                     [key], {});\n",
              "          if (!dataTable) return;\n",
              "\n",
              "          const docLinkHtml = 'Like what you see? Visit the ' +\n",
              "            '<a target=\"_blank\" href=https://colab.research.google.com/notebooks/data_table.ipynb>data table notebook</a>'\n",
              "            + ' to learn more about interactive tables.';\n",
              "          element.innerHTML = '';\n",
              "          dataTable['output_type'] = 'display_data';\n",
              "          await google.colab.output.renderOutput(dataTable, element);\n",
              "          const docLink = document.createElement('div');\n",
              "          docLink.innerHTML = docLinkHtml;\n",
              "          element.appendChild(docLink);\n",
              "        }\n",
              "      </script>\n",
              "    </div>\n",
              "  </div>\n",
              "  "
            ]
          },
          "metadata": {},
          "execution_count": 16
        }
      ]
    },
    {
      "cell_type": "code",
      "source": [
        "#remove other columns\n",
        "remove_cols = [\"Subject\",\"From\",\"To\",\"body\"]\n",
        "df.drop(axis=1,inplace=True,columns=remove_cols)\n",
        "print(df.shape)\n",
        "df.head()"
      ],
      "metadata": {
        "colab": {
          "base_uri": "https://localhost:8080/",
          "height": 224
        },
        "id": "NJbt6VihkdhF",
        "outputId": "ca918a5a-2d06-4a48-9628-d0c54db57bf5"
      },
      "execution_count": 17,
      "outputs": [
        {
          "output_type": "stream",
          "name": "stdout",
          "text": [
            "(136841, 2)\n"
          ]
        },
        {
          "output_type": "execute_result",
          "data": {
            "text/plain": [
              "     folder_name                                               text\n",
              "1237       inbox  sgovenar@govadv.com smara@enron.com, jdasovic@...\n",
              "1238       inbox  rob.bradley@enron.com jeff.dasovich@enron.com ...\n",
              "1239       inbox  sue@sheltercorp.com jeff.dasovich@enron.com e ...\n",
              "1240       inbox  madeleine@madeleinetodd.com e-mail <.rob@enron...\n",
              "1241       inbox  sfalbie@msn.com eveningmba@haas.berkeley.edu F..."
            ],
            "text/html": [
              "\n",
              "  <div id=\"df-afdc5d57-449c-4ba2-901d-eedda6c64826\">\n",
              "    <div class=\"colab-df-container\">\n",
              "      <div>\n",
              "<style scoped>\n",
              "    .dataframe tbody tr th:only-of-type {\n",
              "        vertical-align: middle;\n",
              "    }\n",
              "\n",
              "    .dataframe tbody tr th {\n",
              "        vertical-align: top;\n",
              "    }\n",
              "\n",
              "    .dataframe thead th {\n",
              "        text-align: right;\n",
              "    }\n",
              "</style>\n",
              "<table border=\"1\" class=\"dataframe\">\n",
              "  <thead>\n",
              "    <tr style=\"text-align: right;\">\n",
              "      <th></th>\n",
              "      <th>folder_name</th>\n",
              "      <th>text</th>\n",
              "    </tr>\n",
              "  </thead>\n",
              "  <tbody>\n",
              "    <tr>\n",
              "      <th>1237</th>\n",
              "      <td>inbox</td>\n",
              "      <td>sgovenar@govadv.com smara@enron.com, jdasovic@...</td>\n",
              "    </tr>\n",
              "    <tr>\n",
              "      <th>1238</th>\n",
              "      <td>inbox</td>\n",
              "      <td>rob.bradley@enron.com jeff.dasovich@enron.com ...</td>\n",
              "    </tr>\n",
              "    <tr>\n",
              "      <th>1239</th>\n",
              "      <td>inbox</td>\n",
              "      <td>sue@sheltercorp.com jeff.dasovich@enron.com e ...</td>\n",
              "    </tr>\n",
              "    <tr>\n",
              "      <th>1240</th>\n",
              "      <td>inbox</td>\n",
              "      <td>madeleine@madeleinetodd.com e-mail &lt;.rob@enron...</td>\n",
              "    </tr>\n",
              "    <tr>\n",
              "      <th>1241</th>\n",
              "      <td>inbox</td>\n",
              "      <td>sfalbie@msn.com eveningmba@haas.berkeley.edu F...</td>\n",
              "    </tr>\n",
              "  </tbody>\n",
              "</table>\n",
              "</div>\n",
              "      <button class=\"colab-df-convert\" onclick=\"convertToInteractive('df-afdc5d57-449c-4ba2-901d-eedda6c64826')\"\n",
              "              title=\"Convert this dataframe to an interactive table.\"\n",
              "              style=\"display:none;\">\n",
              "        \n",
              "  <svg xmlns=\"http://www.w3.org/2000/svg\" height=\"24px\"viewBox=\"0 0 24 24\"\n",
              "       width=\"24px\">\n",
              "    <path d=\"M0 0h24v24H0V0z\" fill=\"none\"/>\n",
              "    <path d=\"M18.56 5.44l.94 2.06.94-2.06 2.06-.94-2.06-.94-.94-2.06-.94 2.06-2.06.94zm-11 1L8.5 8.5l.94-2.06 2.06-.94-2.06-.94L8.5 2.5l-.94 2.06-2.06.94zm10 10l.94 2.06.94-2.06 2.06-.94-2.06-.94-.94-2.06-.94 2.06-2.06.94z\"/><path d=\"M17.41 7.96l-1.37-1.37c-.4-.4-.92-.59-1.43-.59-.52 0-1.04.2-1.43.59L10.3 9.45l-7.72 7.72c-.78.78-.78 2.05 0 2.83L4 21.41c.39.39.9.59 1.41.59.51 0 1.02-.2 1.41-.59l7.78-7.78 2.81-2.81c.8-.78.8-2.07 0-2.86zM5.41 20L4 18.59l7.72-7.72 1.47 1.35L5.41 20z\"/>\n",
              "  </svg>\n",
              "      </button>\n",
              "      \n",
              "  <style>\n",
              "    .colab-df-container {\n",
              "      display:flex;\n",
              "      flex-wrap:wrap;\n",
              "      gap: 12px;\n",
              "    }\n",
              "\n",
              "    .colab-df-convert {\n",
              "      background-color: #E8F0FE;\n",
              "      border: none;\n",
              "      border-radius: 50%;\n",
              "      cursor: pointer;\n",
              "      display: none;\n",
              "      fill: #1967D2;\n",
              "      height: 32px;\n",
              "      padding: 0 0 0 0;\n",
              "      width: 32px;\n",
              "    }\n",
              "\n",
              "    .colab-df-convert:hover {\n",
              "      background-color: #E2EBFA;\n",
              "      box-shadow: 0px 1px 2px rgba(60, 64, 67, 0.3), 0px 1px 3px 1px rgba(60, 64, 67, 0.15);\n",
              "      fill: #174EA6;\n",
              "    }\n",
              "\n",
              "    [theme=dark] .colab-df-convert {\n",
              "      background-color: #3B4455;\n",
              "      fill: #D2E3FC;\n",
              "    }\n",
              "\n",
              "    [theme=dark] .colab-df-convert:hover {\n",
              "      background-color: #434B5C;\n",
              "      box-shadow: 0px 1px 3px 1px rgba(0, 0, 0, 0.15);\n",
              "      filter: drop-shadow(0px 1px 2px rgba(0, 0, 0, 0.3));\n",
              "      fill: #FFFFFF;\n",
              "    }\n",
              "  </style>\n",
              "\n",
              "      <script>\n",
              "        const buttonEl =\n",
              "          document.querySelector('#df-afdc5d57-449c-4ba2-901d-eedda6c64826 button.colab-df-convert');\n",
              "        buttonEl.style.display =\n",
              "          google.colab.kernel.accessAllowed ? 'block' : 'none';\n",
              "\n",
              "        async function convertToInteractive(key) {\n",
              "          const element = document.querySelector('#df-afdc5d57-449c-4ba2-901d-eedda6c64826');\n",
              "          const dataTable =\n",
              "            await google.colab.kernel.invokeFunction('convertToInteractive',\n",
              "                                                     [key], {});\n",
              "          if (!dataTable) return;\n",
              "\n",
              "          const docLinkHtml = 'Like what you see? Visit the ' +\n",
              "            '<a target=\"_blank\" href=https://colab.research.google.com/notebooks/data_table.ipynb>data table notebook</a>'\n",
              "            + ' to learn more about interactive tables.';\n",
              "          element.innerHTML = '';\n",
              "          dataTable['output_type'] = 'display_data';\n",
              "          await google.colab.output.renderOutput(dataTable, element);\n",
              "          const docLink = document.createElement('div');\n",
              "          docLink.innerHTML = docLinkHtml;\n",
              "          element.appendChild(docLink);\n",
              "        }\n",
              "      </script>\n",
              "    </div>\n",
              "  </div>\n",
              "  "
            ]
          },
          "metadata": {},
          "execution_count": 17
        }
      ]
    },
    {
      "cell_type": "code",
      "source": [
        "#pre-process and remove unwanted chars and spaces and new lines\n",
        "def pre_process_data(all_recs):\n",
        "  resp = []\n",
        "  for rec in all_recs:\n",
        "    rec = rec.lower() #Converting to Lower case\n",
        "    rec = re.sub('<.*?>',' ',rec) # remove html tags\n",
        "    #rec = re.sub('[^a-zA-Z]',' ',rec) #remove non-alphabet\n",
        "    #rec = re.sub(r'\\s+[a-zA-Z]\\s+',' ',rec) #remove single character\n",
        "    rec = re.sub(r'\\n+', ' ',rec) # remove extra new lines\n",
        "    #rec = re.sub(\"[\"+string.punctuation+\"]\",\" \",rec) #removing all punctuations and replaing with  empty space\n",
        "    rec = re.sub(r'\\s+',' ',rec) #remove extra spaces\n",
        "\n",
        "    resp.append(rec)\n",
        "  return resp"
      ],
      "metadata": {
        "id": "qYZmrTzkkeH3"
      },
      "execution_count": 18,
      "outputs": []
    },
    {
      "cell_type": "code",
      "source": [
        "import time"
      ],
      "metadata": {
        "id": "6wdzN7Kj24ZS"
      },
      "execution_count": 19,
      "outputs": []
    },
    {
      "cell_type": "code",
      "source": [
        "start = time.time()\n",
        "df[\"text\"] = pre_process_data(df[\"text\"])\n",
        "end = time.time()\n",
        "print(\"Execution time (sec): \",(end - start))"
      ],
      "metadata": {
        "id": "CFxg1oe9kf9B",
        "colab": {
          "base_uri": "https://localhost:8080/"
        },
        "outputId": "6a1587f6-4607-4725-a2ff-a928d47ef5a4"
      },
      "execution_count": 20,
      "outputs": [
        {
          "output_type": "stream",
          "name": "stdout",
          "text": [
            "Execution time (sec):  23.156369924545288\n"
          ]
        }
      ]
    },
    {
      "cell_type": "code",
      "source": [
        "print(df.shape)"
      ],
      "metadata": {
        "colab": {
          "base_uri": "https://localhost:8080/"
        },
        "id": "-YqFMNg-xb2w",
        "outputId": "7f380b49-459b-46ac-8af7-3797212e5616"
      },
      "execution_count": 21,
      "outputs": [
        {
          "output_type": "stream",
          "name": "stdout",
          "text": [
            "(136841, 2)\n"
          ]
        }
      ]
    },
    {
      "cell_type": "markdown",
      "source": [
        "#RoBERTa\n",
        "https://arxiv.org/pdf/1907.11692.pdf"
      ],
      "metadata": {
        "id": "crFOQPIZlLXc"
      }
    },
    {
      "cell_type": "code",
      "source": [
        "!pip3 install tensorflow"
      ],
      "metadata": {
        "colab": {
          "base_uri": "https://localhost:8080/"
        },
        "id": "vWNSKYQaxg5p",
        "outputId": "2dec1727-d3a5-451f-ddf1-1468571905ea"
      },
      "execution_count": 22,
      "outputs": [
        {
          "output_type": "stream",
          "name": "stdout",
          "text": [
            "Looking in indexes: https://pypi.org/simple, https://us-python.pkg.dev/colab-wheels/public/simple/\n",
            "Requirement already satisfied: tensorflow in /usr/local/lib/python3.8/dist-packages (2.9.2)\n",
            "Requirement already satisfied: protobuf<3.20,>=3.9.2 in /usr/local/lib/python3.8/dist-packages (from tensorflow) (3.19.6)\n",
            "Requirement already satisfied: packaging in /usr/local/lib/python3.8/dist-packages (from tensorflow) (21.3)\n",
            "Requirement already satisfied: six>=1.12.0 in /usr/local/lib/python3.8/dist-packages (from tensorflow) (1.15.0)\n",
            "Requirement already satisfied: gast<=0.4.0,>=0.2.1 in /usr/local/lib/python3.8/dist-packages (from tensorflow) (0.4.0)\n",
            "Requirement already satisfied: tensorflow-io-gcs-filesystem>=0.23.1 in /usr/local/lib/python3.8/dist-packages (from tensorflow) (0.29.0)\n",
            "Requirement already satisfied: keras<2.10.0,>=2.9.0rc0 in /usr/local/lib/python3.8/dist-packages (from tensorflow) (2.9.0)\n",
            "Requirement already satisfied: flatbuffers<2,>=1.12 in /usr/local/lib/python3.8/dist-packages (from tensorflow) (1.12)\n",
            "Requirement already satisfied: grpcio<2.0,>=1.24.3 in /usr/local/lib/python3.8/dist-packages (from tensorflow) (1.51.1)\n",
            "Requirement already satisfied: termcolor>=1.1.0 in /usr/local/lib/python3.8/dist-packages (from tensorflow) (2.2.0)\n",
            "Requirement already satisfied: numpy>=1.20 in /usr/local/lib/python3.8/dist-packages (from tensorflow) (1.21.6)\n",
            "Requirement already satisfied: tensorflow-estimator<2.10.0,>=2.9.0rc0 in /usr/local/lib/python3.8/dist-packages (from tensorflow) (2.9.0)\n",
            "Requirement already satisfied: setuptools in /usr/local/lib/python3.8/dist-packages (from tensorflow) (57.4.0)\n",
            "Requirement already satisfied: libclang>=13.0.0 in /usr/local/lib/python3.8/dist-packages (from tensorflow) (15.0.6.1)\n",
            "Requirement already satisfied: google-pasta>=0.1.1 in /usr/local/lib/python3.8/dist-packages (from tensorflow) (0.2.0)\n",
            "Requirement already satisfied: typing-extensions>=3.6.6 in /usr/local/lib/python3.8/dist-packages (from tensorflow) (4.4.0)\n",
            "Requirement already satisfied: h5py>=2.9.0 in /usr/local/lib/python3.8/dist-packages (from tensorflow) (3.1.0)\n",
            "Requirement already satisfied: astunparse>=1.6.0 in /usr/local/lib/python3.8/dist-packages (from tensorflow) (1.6.3)\n",
            "Requirement already satisfied: wrapt>=1.11.0 in /usr/local/lib/python3.8/dist-packages (from tensorflow) (1.14.1)\n",
            "Requirement already satisfied: opt-einsum>=2.3.2 in /usr/local/lib/python3.8/dist-packages (from tensorflow) (3.3.0)\n",
            "Requirement already satisfied: keras-preprocessing>=1.1.1 in /usr/local/lib/python3.8/dist-packages (from tensorflow) (1.1.2)\n",
            "Requirement already satisfied: tensorboard<2.10,>=2.9 in /usr/local/lib/python3.8/dist-packages (from tensorflow) (2.9.1)\n",
            "Requirement already satisfied: absl-py>=1.0.0 in /usr/local/lib/python3.8/dist-packages (from tensorflow) (1.3.0)\n",
            "Requirement already satisfied: wheel<1.0,>=0.23.0 in /usr/local/lib/python3.8/dist-packages (from astunparse>=1.6.0->tensorflow) (0.38.4)\n",
            "Requirement already satisfied: markdown>=2.6.8 in /usr/local/lib/python3.8/dist-packages (from tensorboard<2.10,>=2.9->tensorflow) (3.4.1)\n",
            "Requirement already satisfied: google-auth-oauthlib<0.5,>=0.4.1 in /usr/local/lib/python3.8/dist-packages (from tensorboard<2.10,>=2.9->tensorflow) (0.4.6)\n",
            "Requirement already satisfied: tensorboard-data-server<0.7.0,>=0.6.0 in /usr/local/lib/python3.8/dist-packages (from tensorboard<2.10,>=2.9->tensorflow) (0.6.1)\n",
            "Requirement already satisfied: google-auth<3,>=1.6.3 in /usr/local/lib/python3.8/dist-packages (from tensorboard<2.10,>=2.9->tensorflow) (2.16.0)\n",
            "Requirement already satisfied: werkzeug>=1.0.1 in /usr/local/lib/python3.8/dist-packages (from tensorboard<2.10,>=2.9->tensorflow) (1.0.1)\n",
            "Requirement already satisfied: tensorboard-plugin-wit>=1.6.0 in /usr/local/lib/python3.8/dist-packages (from tensorboard<2.10,>=2.9->tensorflow) (1.8.1)\n",
            "Requirement already satisfied: requests<3,>=2.21.0 in /usr/local/lib/python3.8/dist-packages (from tensorboard<2.10,>=2.9->tensorflow) (2.25.1)\n",
            "Requirement already satisfied: pyparsing!=3.0.5,>=2.0.2 in /usr/local/lib/python3.8/dist-packages (from packaging->tensorflow) (3.0.9)\n",
            "Requirement already satisfied: cachetools<6.0,>=2.0.0 in /usr/local/lib/python3.8/dist-packages (from google-auth<3,>=1.6.3->tensorboard<2.10,>=2.9->tensorflow) (5.2.1)\n",
            "Requirement already satisfied: rsa<5,>=3.1.4 in /usr/local/lib/python3.8/dist-packages (from google-auth<3,>=1.6.3->tensorboard<2.10,>=2.9->tensorflow) (4.9)\n",
            "Requirement already satisfied: pyasn1-modules>=0.2.1 in /usr/local/lib/python3.8/dist-packages (from google-auth<3,>=1.6.3->tensorboard<2.10,>=2.9->tensorflow) (0.2.8)\n",
            "Requirement already satisfied: requests-oauthlib>=0.7.0 in /usr/local/lib/python3.8/dist-packages (from google-auth-oauthlib<0.5,>=0.4.1->tensorboard<2.10,>=2.9->tensorflow) (1.3.1)\n",
            "Requirement already satisfied: importlib-metadata>=4.4 in /usr/local/lib/python3.8/dist-packages (from markdown>=2.6.8->tensorboard<2.10,>=2.9->tensorflow) (6.0.0)\n",
            "Requirement already satisfied: chardet<5,>=3.0.2 in /usr/local/lib/python3.8/dist-packages (from requests<3,>=2.21.0->tensorboard<2.10,>=2.9->tensorflow) (4.0.0)\n",
            "Requirement already satisfied: certifi>=2017.4.17 in /usr/local/lib/python3.8/dist-packages (from requests<3,>=2.21.0->tensorboard<2.10,>=2.9->tensorflow) (2022.12.7)\n",
            "Requirement already satisfied: urllib3<1.27,>=1.21.1 in /usr/local/lib/python3.8/dist-packages (from requests<3,>=2.21.0->tensorboard<2.10,>=2.9->tensorflow) (1.24.3)\n",
            "Requirement already satisfied: idna<3,>=2.5 in /usr/local/lib/python3.8/dist-packages (from requests<3,>=2.21.0->tensorboard<2.10,>=2.9->tensorflow) (2.10)\n",
            "Requirement already satisfied: zipp>=0.5 in /usr/local/lib/python3.8/dist-packages (from importlib-metadata>=4.4->markdown>=2.6.8->tensorboard<2.10,>=2.9->tensorflow) (3.11.0)\n",
            "Requirement already satisfied: pyasn1<0.5.0,>=0.4.6 in /usr/local/lib/python3.8/dist-packages (from pyasn1-modules>=0.2.1->google-auth<3,>=1.6.3->tensorboard<2.10,>=2.9->tensorflow) (0.4.8)\n",
            "Requirement already satisfied: oauthlib>=3.0.0 in /usr/local/lib/python3.8/dist-packages (from requests-oauthlib>=0.7.0->google-auth-oauthlib<0.5,>=0.4.1->tensorboard<2.10,>=2.9->tensorflow) (3.2.2)\n"
          ]
        }
      ]
    },
    {
      "cell_type": "code",
      "source": [
        "!pip3 install tokenizers"
      ],
      "metadata": {
        "colab": {
          "base_uri": "https://localhost:8080/"
        },
        "id": "PnA4Z6FUx1E2",
        "outputId": "8d5958ad-d0de-4452-d9fa-aea5e7597bbc"
      },
      "execution_count": 23,
      "outputs": [
        {
          "output_type": "stream",
          "name": "stdout",
          "text": [
            "Looking in indexes: https://pypi.org/simple, https://us-python.pkg.dev/colab-wheels/public/simple/\n",
            "Collecting tokenizers\n",
            "  Downloading tokenizers-0.13.2-cp38-cp38-manylinux_2_17_x86_64.manylinux2014_x86_64.whl (7.6 MB)\n",
            "\u001b[2K     \u001b[90m━━━━━━━━━━━━━━━━━━━━━━━━━━━━━━━━━━━━━━━━\u001b[0m \u001b[32m7.6/7.6 MB\u001b[0m \u001b[31m21.4 MB/s\u001b[0m eta \u001b[36m0:00:00\u001b[0m\n",
            "\u001b[?25hInstalling collected packages: tokenizers\n",
            "Successfully installed tokenizers-0.13.2\n"
          ]
        }
      ]
    },
    {
      "cell_type": "code",
      "source": [
        "!pip3 install transformers"
      ],
      "metadata": {
        "colab": {
          "base_uri": "https://localhost:8080/"
        },
        "id": "JknZSLXDx9sD",
        "outputId": "d7b1fd8f-c4df-4677-b844-f775ce510916"
      },
      "execution_count": 24,
      "outputs": [
        {
          "output_type": "stream",
          "name": "stdout",
          "text": [
            "Looking in indexes: https://pypi.org/simple, https://us-python.pkg.dev/colab-wheels/public/simple/\n",
            "Collecting transformers\n",
            "  Downloading transformers-4.25.1-py3-none-any.whl (5.8 MB)\n",
            "\u001b[2K     \u001b[90m━━━━━━━━━━━━━━━━━━━━━━━━━━━━━━━━━━━━━━━━\u001b[0m \u001b[32m5.8/5.8 MB\u001b[0m \u001b[31m43.7 MB/s\u001b[0m eta \u001b[36m0:00:00\u001b[0m\n",
            "\u001b[?25hRequirement already satisfied: tokenizers!=0.11.3,<0.14,>=0.11.1 in /usr/local/lib/python3.8/dist-packages (from transformers) (0.13.2)\n",
            "Collecting huggingface-hub<1.0,>=0.10.0\n",
            "  Downloading huggingface_hub-0.11.1-py3-none-any.whl (182 kB)\n",
            "\u001b[2K     \u001b[90m━━━━━━━━━━━━━━━━━━━━━━━━━━━━━━━━━━━━━━\u001b[0m \u001b[32m182.4/182.4 KB\u001b[0m \u001b[31m19.9 MB/s\u001b[0m eta \u001b[36m0:00:00\u001b[0m\n",
            "\u001b[?25hRequirement already satisfied: pyyaml>=5.1 in /usr/local/lib/python3.8/dist-packages (from transformers) (6.0)\n",
            "Requirement already satisfied: tqdm>=4.27 in /usr/local/lib/python3.8/dist-packages (from transformers) (4.64.1)\n",
            "Requirement already satisfied: packaging>=20.0 in /usr/local/lib/python3.8/dist-packages (from transformers) (21.3)\n",
            "Requirement already satisfied: numpy>=1.17 in /usr/local/lib/python3.8/dist-packages (from transformers) (1.21.6)\n",
            "Requirement already satisfied: filelock in /usr/local/lib/python3.8/dist-packages (from transformers) (3.9.0)\n",
            "Requirement already satisfied: requests in /usr/local/lib/python3.8/dist-packages (from transformers) (2.25.1)\n",
            "Requirement already satisfied: regex!=2019.12.17 in /usr/local/lib/python3.8/dist-packages (from transformers) (2022.6.2)\n",
            "Requirement already satisfied: typing-extensions>=3.7.4.3 in /usr/local/lib/python3.8/dist-packages (from huggingface-hub<1.0,>=0.10.0->transformers) (4.4.0)\n",
            "Requirement already satisfied: pyparsing!=3.0.5,>=2.0.2 in /usr/local/lib/python3.8/dist-packages (from packaging>=20.0->transformers) (3.0.9)\n",
            "Requirement already satisfied: idna<3,>=2.5 in /usr/local/lib/python3.8/dist-packages (from requests->transformers) (2.10)\n",
            "Requirement already satisfied: chardet<5,>=3.0.2 in /usr/local/lib/python3.8/dist-packages (from requests->transformers) (4.0.0)\n",
            "Requirement already satisfied: certifi>=2017.4.17 in /usr/local/lib/python3.8/dist-packages (from requests->transformers) (2022.12.7)\n",
            "Requirement already satisfied: urllib3<1.27,>=1.21.1 in /usr/local/lib/python3.8/dist-packages (from requests->transformers) (1.24.3)\n",
            "Installing collected packages: huggingface-hub, transformers\n",
            "Successfully installed huggingface-hub-0.11.1 transformers-4.25.1\n"
          ]
        }
      ]
    },
    {
      "cell_type": "code",
      "source": [
        "!pip3 install tensorflow_text"
      ],
      "metadata": {
        "id": "Mgffxreb8_Lt"
      },
      "execution_count": null,
      "outputs": []
    },
    {
      "cell_type": "code",
      "source": [
        "import numpy as np\n",
        "import regex as re\n",
        "import pandas as pd\n",
        "import matplotlib.pyplot as plt\n",
        "import seaborn as sns\n",
        "import statistics\n",
        "import math\n",
        "import os\n",
        "\n",
        "from sklearn.model_selection import StratifiedKFold\n",
        "from sklearn.metrics import accuracy_score\n",
        "from sklearn.model_selection import train_test_split\n",
        "\n",
        "import tensorflow as tf\n",
        "import tensorflow.keras.backend as K\n",
        "import tokenizers\n",
        "from transformers import RobertaTokenizer, TFRobertaModel\n",
        "\n",
        "from collections import Counter\n",
        "\n",
        "import warnings\n",
        "warnings.filterwarnings(\"ignore\")"
      ],
      "metadata": {
        "id": "5E1Pnybekm9M"
      },
      "execution_count": 25,
      "outputs": []
    },
    {
      "cell_type": "code",
      "source": [
        "from transformers import RobertaTokenizer, RobertaModel"
      ],
      "metadata": {
        "id": "m1MOWMNIkYKC"
      },
      "execution_count": 35,
      "outputs": []
    },
    {
      "cell_type": "code",
      "source": [
        "#tpu = tf.distribute.cluster_resolver.TPUClusterResolver(tpu='grpc://' + os.environ['COLAB_TPU_ADDR'])"
      ],
      "metadata": {
        "id": "KVhGSr1a-pYB"
      },
      "execution_count": null,
      "outputs": []
    },
    {
      "cell_type": "code",
      "source": [
        "# Detect hardware, return appropriate distribution strategy \n",
        "try:\n",
        "    # TPU detection. No parameters necessary if TPU_NAME environment variable is set (always set in Kaggle)\n",
        "    tpu = tf.distribute.cluster_resolver.TPUClusterResolver(tpu='grpc://' + os.environ['COLAB_TPU_ADDR'])\n",
        "    tf.config.experimental_connect_to_cluster(tpu)\n",
        "    tf.tpu.experimental.initialize_tpu_system(tpu)\n",
        "    #strategy = tf.distribute.experimental.TPUStrategy(tpu)\n",
        "    strategy = tf.distribute.TPUStrategy(tpu)\n",
        "    print('Running on TPU ', tpu.master())\n",
        "except ValueError:\n",
        "    # Default distribution strategy in Tensorflow. Works on CPU and single GPU.\n",
        "    print(\"inside exception\",ValueError)\n",
        "    strategy = tf.distribute.get_strategy()\n",
        "\n",
        "print('Number of replicas:', strategy.num_replicas_in_sync)"
      ],
      "metadata": {
        "colab": {
          "base_uri": "https://localhost:8080/"
        },
        "id": "rjNRrkHNpGVw",
        "outputId": "7f8a4397-920f-41cd-a03d-304943cc53a7"
      },
      "execution_count": 26,
      "outputs": [
        {
          "output_type": "stream",
          "name": "stdout",
          "text": [
            "Running on TPU  grpc://10.28.71.114:8470\n",
            "Number of replicas: 8\n"
          ]
        }
      ]
    },
    {
      "cell_type": "code",
      "source": [
        "MODEL_NAME = 'roberta-base'\n",
        "MAX_LEN = 256\n",
        "ARTIFACTS_PATH = '../artifacts/'\n",
        "\n",
        "BATCH_SIZE = 5 * strategy.num_replicas_in_sync\n",
        "EPOCHS = 15\n",
        "\n",
        "if not os.path.exists(ARTIFACTS_PATH):\n",
        "    os.makedirs(ARTIFACTS_PATH)"
      ],
      "metadata": {
        "id": "A9kNkbzLpUMR"
      },
      "execution_count": 27,
      "outputs": []
    },
    {
      "cell_type": "code",
      "source": [
        "X_data = df[['text']].to_numpy().reshape(-1)\n",
        "y_data = df[['folder_name']].to_numpy().reshape(-1)"
      ],
      "metadata": {
        "id": "dTvvg108pqC6"
      },
      "execution_count": 28,
      "outputs": []
    },
    {
      "cell_type": "code",
      "source": [
        "n_texts = len(X_data)\n",
        "print('Texts in dataset: %d' % n_texts)\n",
        "\n",
        "folders = df['folder_name'].unique()\n",
        "n_folders = len(folders)\n",
        "print('Number of folders: %d' % n_folders)\n",
        "\n"
      ],
      "metadata": {
        "colab": {
          "base_uri": "https://localhost:8080/"
        },
        "id": "rN7Uhc36pv1H",
        "outputId": "02a4f08f-cdc9-4a82-b009-32e2fe3cbca8"
      },
      "execution_count": 29,
      "outputs": [
        {
          "output_type": "stream",
          "name": "stdout",
          "text": [
            "Texts in dataset: 136841\n",
            "Number of folders: 41\n"
          ]
        }
      ]
    },
    {
      "cell_type": "code",
      "source": [
        "def roberta_encode(texts, tokenizer):\n",
        "    ct = len(texts)\n",
        "    input_ids = np.ones((ct, MAX_LEN), dtype='int32')\n",
        "    attention_mask = np.zeros((ct, MAX_LEN), dtype='int32')\n",
        "    token_type_ids = np.zeros((ct, MAX_LEN), dtype='int32') # Not used in text classification\n",
        "\n",
        "    for k, text in enumerate(texts):\n",
        "        # Tokenize\n",
        "        tok_text = tokenizer.tokenize(text)\n",
        "        \n",
        "        # Truncate and convert tokens to numerical IDs\n",
        "        enc_text = tokenizer.convert_tokens_to_ids(tok_text[:(MAX_LEN-2)])\n",
        "        \n",
        "        input_length = len(enc_text) + 2\n",
        "        input_length = input_length if input_length < MAX_LEN else MAX_LEN\n",
        "        \n",
        "        # Add tokens [CLS] and [SEP] at the beginning and the end\n",
        "        input_ids[k,:input_length] = np.asarray([0] + enc_text + [2], dtype='int32')\n",
        "        \n",
        "        # Set to 1s in the attention input\n",
        "        attention_mask[k,:input_length] = 1\n",
        "\n",
        "    return {\n",
        "        'input_word_ids': input_ids,\n",
        "        'input_mask': attention_mask,\n",
        "        'input_type_ids': token_type_ids\n",
        "    }"
      ],
      "metadata": {
        "id": "9cTUIEQgriqA"
      },
      "execution_count": 30,
      "outputs": []
    },
    {
      "cell_type": "code",
      "source": [
        "# Transform folder into numbers\n",
        "folder_to_id = {}\n",
        "folder_to_name = {}\n",
        "\n",
        "for index, c in enumerate(y_data):\n",
        "    if c in folder_to_id:\n",
        "        folder_id = folder_to_id[c]\n",
        "    else:\n",
        "        folder_id = len(folder_to_id)\n",
        "        folder_to_id[c] = folder_id\n",
        "        folder_to_name[folder_id] = c\n",
        "    \n",
        "    y_data[index] = folder_id\n",
        "\n",
        "# Display dictionary\n",
        "folder_to_name"
      ],
      "metadata": {
        "colab": {
          "base_uri": "https://localhost:8080/"
        },
        "id": "DFpw7RsbrsCY",
        "outputId": "216c8cf2-4119-41b3-fb55-cc69e57b9268"
      },
      "execution_count": 31,
      "outputs": [
        {
          "output_type": "execute_result",
          "data": {
            "text/plain": [
              "{0: 'inbox',\n",
              " 1: 'personal',\n",
              " 2: 'notes inbox',\n",
              " 3: 'discussion threads',\n",
              " 4: 'eol',\n",
              " 5: 'ces',\n",
              " 6: 'resumes',\n",
              " 7: 'junk',\n",
              " 8: 'untitled',\n",
              " 9: 'info',\n",
              " 10: 'regulatory',\n",
              " 11: 'archives',\n",
              " 12: 'projects',\n",
              " 13: 'eesirenewableenergy',\n",
              " 14: 'california',\n",
              " 15: 'ferc',\n",
              " 16: 'california issues',\n",
              " 17: 'online trading',\n",
              " 18: 'it',\n",
              " 19: 'corporate',\n",
              " 20: 'tw-commercial group',\n",
              " 21: 'schedule crawler',\n",
              " 22: 'hr',\n",
              " 23: 'bill williams iii',\n",
              " 24: 'europe',\n",
              " 25: 'wellhead',\n",
              " 26: 'tufco',\n",
              " 27: 'logistics',\n",
              " 28: 'ene_ect',\n",
              " 29: 'management',\n",
              " 30: 'universities',\n",
              " 31: 'nelson',\n",
              " 32: 'e-mail bin',\n",
              " 33: 'esvl',\n",
              " 34: 'ooc',\n",
              " 35: 'east power',\n",
              " 36: 'iso_ pricecaps',\n",
              " 37: 'read',\n",
              " 38: 'junk file',\n",
              " 39: 'genco-jv_ipo',\n",
              " 40: 'deal discrepancies'}"
            ]
          },
          "metadata": {},
          "execution_count": 31
        }
      ]
    },
    {
      "cell_type": "code",
      "source": [
        "# Split into train and test datasets\n",
        "X_train, X_test, y_train, y_test = train_test_split(X_data, y_data, test_size=0.2, random_state=777) "
      ],
      "metadata": {
        "id": "1OrHxENKsYgT"
      },
      "execution_count": 32,
      "outputs": []
    },
    {
      "cell_type": "code",
      "source": [
        "# Import tokenizer from HuggingFace\n",
        "tokenizer = RobertaTokenizer.from_pretrained(MODEL_NAME)"
      ],
      "metadata": {
        "id": "p5F3cRu6tCd3",
        "colab": {
          "base_uri": "https://localhost:8080/",
          "height": 113,
          "referenced_widgets": [
            "dd52585a3cc948769cc500b4047fbad5",
            "11212114a5c74b40a9147e4cf881b5e4",
            "ea47a5588d6941f5806cb2abf5baf352",
            "4602a5e9dd4d459e82498c2d6ec6750c",
            "467e577accf24dc39493b0f54dac527e",
            "508f2e6867b54652b578cbd635e8b9d0",
            "ec29bcca536c43faa0059223d45b9a0a",
            "1116fccc26a041589d866224c2f015a4",
            "41f36be0917241989fe2e21d8359094b",
            "9de0f13036b542f092b4a4ca5d9b81d7",
            "83d473d612d34f3da95f27e1a1b98113",
            "43e65dd1e3e84d5f9494cb4b6aa1afab",
            "091f1ef0aaf24a56b9fea489a404068a",
            "1cc23423de464e408531388cb2a63577",
            "7c03df19754a44149c520a35f39406bb",
            "bc1648162f2e4970b3aca9f6d39ab3a9",
            "ad060bc7236e4633a95ea75754edbd89",
            "4fab79b1db62426293e6272a772e25e2",
            "4871f80215d24db599c64ee5ca7e34cf",
            "83f48551b2624e608a5a3bbeb7bb6216",
            "c525e4e4eb934a50a82b09e6de14ed5d",
            "ab684e1ab767424197d319116b861d33",
            "2b6df41e7c9848deb3d64170038e9281",
            "913d5bcda55b40c888a659fd955c9cd4",
            "64180889ec1647309bf11cd504b1b209",
            "aa01a14d8822492280b08e8cfad721b3",
            "1a9663e8fdb14b579be803b2e03e7b69",
            "bd3e1aba4dd9449ea26710e123f6ef5f",
            "6fa0506f533a40e1ada2f800c1f9a43d",
            "284a3bdbd3434e5c8ba558465c5a8dec",
            "2d0313a912f648d48bc7b0045ad039ac",
            "0589bedcd39b447bb09871fafedfc077",
            "d5146a7719034fcca843e01186665427"
          ]
        },
        "outputId": "6c0647b3-d043-4f91-8c28-82b613945409"
      },
      "execution_count": 33,
      "outputs": [
        {
          "output_type": "display_data",
          "data": {
            "text/plain": [
              "Downloading:   0%|          | 0.00/899k [00:00<?, ?B/s]"
            ],
            "application/vnd.jupyter.widget-view+json": {
              "version_major": 2,
              "version_minor": 0,
              "model_id": "dd52585a3cc948769cc500b4047fbad5"
            }
          },
          "metadata": {}
        },
        {
          "output_type": "display_data",
          "data": {
            "text/plain": [
              "Downloading:   0%|          | 0.00/456k [00:00<?, ?B/s]"
            ],
            "application/vnd.jupyter.widget-view+json": {
              "version_major": 2,
              "version_minor": 0,
              "model_id": "43e65dd1e3e84d5f9494cb4b6aa1afab"
            }
          },
          "metadata": {}
        },
        {
          "output_type": "display_data",
          "data": {
            "text/plain": [
              "Downloading:   0%|          | 0.00/481 [00:00<?, ?B/s]"
            ],
            "application/vnd.jupyter.widget-view+json": {
              "version_major": 2,
              "version_minor": 0,
              "model_id": "2b6df41e7c9848deb3d64170038e9281"
            }
          },
          "metadata": {}
        }
      ]
    },
    {
      "cell_type": "code",
      "source": [
        "X_train = roberta_encode(X_train, tokenizer)\n",
        "X_test = roberta_encode(X_test, tokenizer)\n",
        "\n",
        "y_train = np.asarray(y_train, dtype='int32')\n",
        "y_test = np.asarray(y_test, dtype='int32')"
      ],
      "metadata": {
        "id": "4xgxn7LetGPO"
      },
      "execution_count": 34,
      "outputs": []
    },
    {
      "cell_type": "code",
      "source": [
        "def build_model(n_folders):\n",
        "    with strategy.scope():\n",
        "        input_word_ids = tf.keras.Input(shape=(MAX_LEN,), dtype=tf.int32, name='input_word_ids')\n",
        "        input_mask = tf.keras.Input(shape=(MAX_LEN,), dtype=tf.int32, name='input_mask')\n",
        "        input_type_ids = tf.keras.Input(shape=(MAX_LEN,), dtype=tf.int32, name='input_type_ids')\n",
        "\n",
        "        # Import RoBERTa model from HuggingFace\n",
        "        roberta_model = TFRobertaModel.from_pretrained(MODEL_NAME)\n",
        "        x = roberta_model(input_word_ids, attention_mask=input_mask, token_type_ids=input_type_ids)\n",
        "\n",
        "        # Huggingface transformers have multiple outputs, embeddings are the first one,\n",
        "        # so let's slice out the first position\n",
        "        x = x[0]\n",
        "\n",
        "        x = tf.keras.layers.Dropout(0.1)(x)\n",
        "        x = tf.keras.layers.Flatten()(x)\n",
        "        x = tf.keras.layers.Dense(256, activation='relu')(x)\n",
        "        x = tf.keras.layers.Dense(n_folders, activation='softmax')(x)\n",
        "\n",
        "        model = tf.keras.Model(inputs=[input_word_ids, input_mask, input_type_ids], outputs=x)\n",
        "        #lr=1e-5,\n",
        "        model.compile(\n",
        "            optimizer=tf.keras.optimizers.Adam(learning_rate=1e-7),\n",
        "            loss='sparse_categorical_crossentropy',\n",
        "            metrics=['accuracy'])\n",
        "\n",
        "        return model"
      ],
      "metadata": {
        "id": "33zgPDLEtKXf"
      },
      "execution_count": 38,
      "outputs": []
    },
    {
      "cell_type": "code",
      "source": [
        "with strategy.scope():\n",
        "    model = build_model(n_folders)\n",
        "    model.summary()"
      ],
      "metadata": {
        "id": "tQxjH74BtXkl",
        "colab": {
          "base_uri": "https://localhost:8080/",
          "height": 781,
          "referenced_widgets": [
            "1460fc91aef94d9fb68a687b50b2a287",
            "63c7a5a7eda44c99872f35fd14356326",
            "1808da6f22dd42968f43b9a210592d1e",
            "7908d4792f8d40bf92813105ae6872b2",
            "3534ed2740ae4b28ad8cb4a64394a003",
            "1f490c3d8a5347de9502dc8b2b0bbe52",
            "c42e6bee45dd4b62a50c6a352968c1ee",
            "9b150aa97b1149e7a20b3bd98cfccb36",
            "befe48d7426446b5a8e4c9dca2380e36",
            "01ba0cd435394627953189a1944b3084",
            "d73e10ecf33c4c3f854801aea1c8a194"
          ]
        },
        "outputId": "5939926e-6dd3-4511-8b30-e3266a7d030c"
      },
      "execution_count": 39,
      "outputs": [
        {
          "output_type": "display_data",
          "data": {
            "text/plain": [
              "Downloading:   0%|          | 0.00/657M [00:00<?, ?B/s]"
            ],
            "application/vnd.jupyter.widget-view+json": {
              "version_major": 2,
              "version_minor": 0,
              "model_id": "1460fc91aef94d9fb68a687b50b2a287"
            }
          },
          "metadata": {}
        },
        {
          "output_type": "stream",
          "name": "stderr",
          "text": [
            "Some layers from the model checkpoint at roberta-base were not used when initializing TFRobertaModel: ['lm_head']\n",
            "- This IS expected if you are initializing TFRobertaModel from the checkpoint of a model trained on another task or with another architecture (e.g. initializing a BertForSequenceClassification model from a BertForPreTraining model).\n",
            "- This IS NOT expected if you are initializing TFRobertaModel from the checkpoint of a model that you expect to be exactly identical (initializing a BertForSequenceClassification model from a BertForSequenceClassification model).\n",
            "All the layers of TFRobertaModel were initialized from the model checkpoint at roberta-base.\n",
            "If your task is similar to the task the model of the checkpoint was trained on, you can already use TFRobertaModel for predictions without further training.\n"
          ]
        },
        {
          "output_type": "stream",
          "name": "stdout",
          "text": [
            "Model: \"model\"\n",
            "__________________________________________________________________________________________________\n",
            " Layer (type)                   Output Shape         Param #     Connected to                     \n",
            "==================================================================================================\n",
            " input_word_ids (InputLayer)    [(None, 256)]        0           []                               \n",
            "                                                                                                  \n",
            " input_mask (InputLayer)        [(None, 256)]        0           []                               \n",
            "                                                                                                  \n",
            " input_type_ids (InputLayer)    [(None, 256)]        0           []                               \n",
            "                                                                                                  \n",
            " tf_roberta_model (TFRobertaMod  TFBaseModelOutputWi  124645632  ['input_word_ids[0][0]',         \n",
            " el)                            thPoolingAndCrossAt               'input_mask[0][0]',             \n",
            "                                tentions(last_hidde               'input_type_ids[0][0]']         \n",
            "                                n_state=(None, 256,                                               \n",
            "                                 768),                                                            \n",
            "                                 pooler_output=(Non                                               \n",
            "                                e, 768),                                                          \n",
            "                                 past_key_values=No                                               \n",
            "                                ne, hidden_states=N                                               \n",
            "                                one, attentions=Non                                               \n",
            "                                e, cross_attentions                                               \n",
            "                                =None)                                                            \n",
            "                                                                                                  \n",
            " dropout_37 (Dropout)           (None, 256, 768)     0           ['tf_roberta_model[0][0]']       \n",
            "                                                                                                  \n",
            " flatten (Flatten)              (None, 196608)       0           ['dropout_37[0][0]']             \n",
            "                                                                                                  \n",
            " dense (Dense)                  (None, 256)          50331904    ['flatten[0][0]']                \n",
            "                                                                                                  \n",
            " dense_1 (Dense)                (None, 41)           10537       ['dense[0][0]']                  \n",
            "                                                                                                  \n",
            "==================================================================================================\n",
            "Total params: 174,988,073\n",
            "Trainable params: 174,988,073\n",
            "Non-trainable params: 0\n",
            "__________________________________________________________________________________________________\n"
          ]
        }
      ]
    },
    {
      "cell_type": "code",
      "source": [
        "#train model\n",
        "with strategy.scope():\n",
        "    print('Training...')\n",
        "    history = model.fit(X_train,\n",
        "                        y_train,\n",
        "                        epochs=EPOCHS,\n",
        "                        batch_size=BATCH_SIZE,\n",
        "                        verbose=1,\n",
        "                        validation_data=(X_test, y_test))"
      ],
      "metadata": {
        "id": "WUWvz-72tdMY",
        "colab": {
          "base_uri": "https://localhost:8080/"
        },
        "outputId": "a29c3ba4-b327-49c0-d9c5-9f7e90e3b304"
      },
      "execution_count": 40,
      "outputs": [
        {
          "output_type": "stream",
          "name": "stdout",
          "text": [
            "Training...\n",
            "Epoch 1/15\n"
          ]
        },
        {
          "output_type": "stream",
          "name": "stderr",
          "text": [
            "WARNING:tensorflow:Gradients do not exist for variables ['tf_roberta_model/roberta/pooler/dense/kernel:0', 'tf_roberta_model/roberta/pooler/dense/bias:0'] when minimizing the loss. If you're using `model.compile()`, did you forget to provide a `loss`argument?\n",
            "WARNING:tensorflow:Gradients do not exist for variables ['tf_roberta_model/roberta/pooler/dense/kernel:0', 'tf_roberta_model/roberta/pooler/dense/bias:0'] when minimizing the loss. If you're using `model.compile()`, did you forget to provide a `loss`argument?\n"
          ]
        },
        {
          "output_type": "stream",
          "name": "stdout",
          "text": [
            "2737/2737 [==============================] - 513s 158ms/step - loss: 2.1819 - accuracy: 0.3316 - val_loss: 1.8953 - val_accuracy: 0.3901\n",
            "Epoch 2/15\n",
            "2737/2737 [==============================] - 375s 137ms/step - loss: 1.8538 - accuracy: 0.4102 - val_loss: 1.7558 - val_accuracy: 0.4650\n",
            "Epoch 3/15\n",
            "2737/2737 [==============================] - 375s 137ms/step - loss: 1.7285 - accuracy: 0.4703 - val_loss: 1.6267 - val_accuracy: 0.5153\n",
            "Epoch 4/15\n",
            "2737/2737 [==============================] - 375s 137ms/step - loss: 1.6131 - accuracy: 0.5136 - val_loss: 1.5058 - val_accuracy: 0.5516\n",
            "Epoch 5/15\n",
            "2737/2737 [==============================] - 375s 137ms/step - loss: 1.5058 - accuracy: 0.5475 - val_loss: 1.4232 - val_accuracy: 0.5708\n",
            "Epoch 6/15\n",
            "2737/2737 [==============================] - 376s 137ms/step - loss: 1.4204 - accuracy: 0.5651 - val_loss: 1.3459 - val_accuracy: 0.5834\n",
            "Epoch 7/15\n",
            "2737/2737 [==============================] - 374s 137ms/step - loss: 1.3489 - accuracy: 0.5776 - val_loss: 1.2836 - val_accuracy: 0.5920\n",
            "Epoch 8/15\n",
            "2737/2737 [==============================] - 372s 136ms/step - loss: 1.2855 - accuracy: 0.5897 - val_loss: 1.2249 - val_accuracy: 0.6001\n",
            "Epoch 9/15\n",
            "2737/2737 [==============================] - 371s 136ms/step - loss: 1.2336 - accuracy: 0.5978 - val_loss: 1.1882 - val_accuracy: 0.6062\n",
            "Epoch 10/15\n",
            "2737/2737 [==============================] - 371s 136ms/step - loss: 1.1866 - accuracy: 0.6058 - val_loss: 1.1404 - val_accuracy: 0.6128\n",
            "Epoch 11/15\n",
            "2737/2737 [==============================] - 371s 136ms/step - loss: 1.1459 - accuracy: 0.6138 - val_loss: 1.1045 - val_accuracy: 0.6206\n",
            "Epoch 12/15\n",
            "2737/2737 [==============================] - 371s 136ms/step - loss: 1.1121 - accuracy: 0.6190 - val_loss: 1.0741 - val_accuracy: 0.6264\n",
            "Epoch 13/15\n",
            "2737/2737 [==============================] - 372s 136ms/step - loss: 1.0819 - accuracy: 0.6255 - val_loss: 1.0482 - val_accuracy: 0.6310\n",
            "Epoch 14/15\n",
            "2737/2737 [==============================] - 374s 137ms/step - loss: 1.0539 - accuracy: 0.6330 - val_loss: 1.0310 - val_accuracy: 0.6331\n",
            "Epoch 15/15\n",
            "2737/2737 [==============================] - 375s 137ms/step - loss: 1.0322 - accuracy: 0.6364 - val_loss: 1.0104 - val_accuracy: 0.6375\n"
          ]
        }
      ]
    },
    {
      "cell_type": "code",
      "source": [
        "# This plot will look much better if we train models with more epochs, but anyway here is\n",
        "plt.figure(figsize=(10, 10))\n",
        "plt.title('Accuracy')\n",
        "\n",
        "xaxis = np.arange(len(history.history['accuracy']))\n",
        "plt.plot(xaxis, history.history['accuracy'], label='Train set')\n",
        "plt.plot(xaxis, history.history['val_accuracy'], label='Validation set')\n",
        "plt.legend()"
      ],
      "metadata": {
        "id": "AiSCIy7ltfhD",
        "colab": {
          "base_uri": "https://localhost:8080/",
          "height": 624
        },
        "outputId": "f13db76c-27ad-40e6-f22d-837e3639e01c"
      },
      "execution_count": 41,
      "outputs": [
        {
          "output_type": "execute_result",
          "data": {
            "text/plain": [
              "<matplotlib.legend.Legend at 0x7fbb91770d00>"
            ]
          },
          "metadata": {},
          "execution_count": 41
        },
        {
          "output_type": "display_data",
          "data": {
            "text/plain": [
              "<Figure size 720x720 with 1 Axes>"
            ],
            "image/png": "[encoded data removed]"
          },
          "metadata": {
            "needs_background": "light"
          }
        }
      ]
    },
    {
      "cell_type": "code",
      "source": [
        "scores = model.evaluate(X_test, y_test, verbose=0)\n",
        "print(\"Accuracy: %.2f%%\" % (scores[1] * 100))"
      ],
      "metadata": {
        "id": "JeUi4OwEuHqw",
        "colab": {
          "base_uri": "https://localhost:8080/"
        },
        "outputId": "189483bc-fa60-4b11-b6a8-df54f392b36d"
      },
      "execution_count": null,
      "outputs": [
        {
          "output_type": "stream",
          "name": "stdout",
          "text": [
            "Accuracy: 59.14%\n"
          ]
        }
      ]
    }
  ]
}