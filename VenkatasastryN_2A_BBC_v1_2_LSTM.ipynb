{
  "nbformat": 4,
  "nbformat_minor": 0,
  "metadata": {
    "colab": {
      "provenance": []
    },
    "kernelspec": {
      "name": "python3",
      "display_name": "Python 3"
    },
    "language_info": {
      "name": "python"
    },
    "accelerator": "GPU",
    "gpuClass": "standard"
  },
  "cells": [
    {
      "cell_type": "code",
      "source": [
        "from google.colab import drive\n",
        "drive.mount('/content/drive', force_remount=True)"
      ],
      "metadata": {
        "colab": {
          "base_uri": "https://localhost:8080/"
        },
        "id": "ZSxeLYn3xkvb",
        "outputId": "682da54f-ff73-4e24-9265-fac0b0f2e8b8"
      },
      "execution_count": null,
      "outputs": [
        {
          "output_type": "stream",
          "name": "stdout",
          "text": [
            "Mounted at /content/drive\n"
          ]
        }
      ]
    },
    {
      "cell_type": "code",
      "source": [
        "with open('/content/drive/My Drive/bbc/business/059.txt', 'r') as f:\n",
        "  contents = f.read()\n",
        "\n",
        "contents"
      ],
      "metadata": {
        "colab": {
          "base_uri": "https://localhost:8080/",
          "height": 174
        },
        "id": "3c7QyG9nh8mh",
        "outputId": "631f1e15-8803-4190-fae7-c7b3e7c686ba"
      },
      "execution_count": null,
      "outputs": [
        {
          "output_type": "execute_result",
          "data": {
            "text/plain": [
              "'Worldcom ex-boss launches defence\\n\\nLawyers defending former WorldCom chief Bernie Ebbers against a battery of fraud charges have called a company whistleblower as their first witness.\\n\\nCynthia Cooper, WorldCom\\'s ex-head of internal accounting, alerted directors to irregular accounting practices at the US telecoms giant in 2002. Her warnings led to the collapse of the firm following the discovery of an $11bn (£5.7bn) accounting fraud. Mr Ebbers has pleaded not guilty to charges of fraud and conspiracy.\\n\\nProsecution lawyers have argued that Mr Ebbers orchestrated a series of accounting tricks at WorldCom, ordering employees to hide expenses and inflate revenues to meet Wall Street earnings estimates. But Ms Cooper, who now runs her own consulting business, told a jury in New York on Wednesday that external auditors Arthur Andersen had approved WorldCom\\'s accounting in early 2001 and 2002. She said Andersen had given a \"green light\" to the procedures and practices used by WorldCom. Mr Ebber\\'s lawyers have said he was unaware of the fraud, arguing that auditors did not alert him to any problems.\\n\\nMs Cooper also said that during shareholder meetings Mr Ebbers often passed over technical questions to the company\\'s finance chief, giving only \"brief\" answers himself. The prosecution\\'s star witness, former WorldCom financial chief Scott Sullivan, has said that Mr Ebbers ordered accounting adjustments at the firm, telling him to \"hit our books\". However, Ms Cooper said Mr Sullivan had not mentioned \"anything uncomfortable\" about WorldCom\\'s accounting during a 2001 audit committee meeting. Mr Ebbers could face a jail sentence of 85 years if convicted of all the charges he is facing. WorldCom emerged from bankruptcy protection in 2004, and is now known as MCI. Last week, MCI agreed to a buyout by Verizon Communications in a deal valued at $6.75bn.\\n'"
            ],
            "application/vnd.google.colaboratory.intrinsic+json": {
              "type": "string"
            }
          },
          "metadata": {},
          "execution_count": 2
        }
      ]
    },
    {
      "cell_type": "code",
      "source": [
        "import nltk\n",
        "nltk.download('stopwords')\n",
        "import numpy as np\n",
        "import pandas as pd\n",
        "from plotly.offline import iplot\n",
        "import matplotlib.pyplot as plt\n",
        "import seaborn as sns\n",
        "from tensorflow.keras.preprocessing.text import Tokenizer\n",
        "from tensorflow.keras.preprocessing.sequence import pad_sequences\n",
        "from tensorflow.keras.models import Sequential\n",
        "from tensorflow.keras.layers import Dense, Embedding, LSTM, SpatialDropout1D\n",
        "from sklearn.model_selection import train_test_split\n",
        "from tensorflow.keras.callbacks import EarlyStopping\n",
        "from tensorflow.keras.layers import Dropout\n",
        "import re\n",
        "from nltk.corpus import stopwords\n",
        "from nltk import word_tokenize\n",
        "STOPWODS = set(stopwords.words('english'))\n",
        "import os\n",
        "import glob\n",
        "import string"
      ],
      "metadata": {
        "colab": {
          "base_uri": "https://localhost:8080/"
        },
        "id": "Pqd2seJtdTvR",
        "outputId": "ea546af2-c818-4d7b-ce21-35b1784076d4"
      },
      "execution_count": null,
      "outputs": [
        {
          "output_type": "stream",
          "name": "stderr",
          "text": [
            "[nltk_data] Downloading package stopwords to /root/nltk_data...\n",
            "[nltk_data]   Package stopwords is already up-to-date!\n"
          ]
        }
      ]
    },
    {
      "cell_type": "code",
      "source": [
        "bbc_path = \"/content/drive/My Drive/bbc/\""
      ],
      "metadata": {
        "id": "bE2vtiABFZCy"
      },
      "execution_count": null,
      "outputs": []
    },
    {
      "cell_type": "code",
      "source": [
        "def readFiles(path,clsId):\n",
        "  fileNames = []\n",
        "  fNames = []\n",
        "  articles = []\n",
        "  clsIds = []\n",
        "  #print(glob.glob(path+\"*.txt\"))\n",
        "  filenames=os.listdir(path)\n",
        "  \n",
        "  for ef in filenames:\n",
        "    f = open(path+ef).readlines()\n",
        "    articles.append(\" \".join(f))\n",
        "    clsIds.append(clsId)\n",
        "    fNames.append(ef)\n",
        "  \n",
        "  return fNames,articles,clsIds\n",
        "  "
      ],
      "metadata": {
        "id": "QtqAxuQ9RpOT"
      },
      "execution_count": null,
      "outputs": []
    },
    {
      "cell_type": "code",
      "source": [
        "classNames = [\"business\",\"entertainment\",\"politics\",\"sport\",\"tech\"]\n",
        "allArticles = []\n",
        "allClsIds = []\n",
        "allFileNames = []\n",
        "for idx in range(len(classNames)):\n",
        "  p = bbc_path+classNames[idx]+\"/\"\n",
        "  fn,ad,cid = readFiles(p,classNames[idx])\n",
        "  allArticles = allArticles + ad\n",
        "  allClsIds = allClsIds + cid\n",
        "  allFileNames = allFileNames + fn\n",
        " \n",
        "print(len(allArticles),len(allClsIds),len(allFileNames))"
      ],
      "metadata": {
        "id": "LISRD-BMKDEn",
        "colab": {
          "base_uri": "https://localhost:8080/"
        },
        "outputId": "33f780c3-f622-4274-cf49-753d8849fddb"
      },
      "execution_count": null,
      "outputs": [
        {
          "output_type": "stream",
          "name": "stdout",
          "text": [
            "2225 2225 2225\n"
          ]
        }
      ]
    },
    {
      "cell_type": "code",
      "source": [
        "#df with count vectorizer\n",
        "cols = ['article', 'labels']\n",
        "d = {'article':allArticles, 'labels':allClsIds}\n",
        "df = pd.DataFrame(data=d, columns=cols)\n",
        "df.head()"
      ],
      "metadata": {
        "id": "rChQ0TMDNsQc",
        "colab": {
          "base_uri": "https://localhost:8080/",
          "height": 206
        },
        "outputId": "8ccc9e08-d119-4b3a-88c5-2319eb4fa3ec"
      },
      "execution_count": null,
      "outputs": [
        {
          "output_type": "execute_result",
          "data": {
            "text/plain": [
              "                                             article    labels\n",
              "0  VW considers opening Indian plant\\n \\n Volkswa...  business\n",
              "1  Saudi ministry to employ women\\n \\n Women will...  business\n",
              "2  Boeing secures giant Japan order\\n \\n Boeing i...  business\n",
              "3  House prices drop as sales slow\\n \\n House pri...  business\n",
              "4  Christmas shoppers flock to tills\\n \\n Shops a...  business"
            ],
            "text/html": [
              "\n",
              "  <div id=\"df-fe12b57c-2399-4cc0-94f0-df712787ba29\">\n",
              "    <div class=\"colab-df-container\">\n",
              "      <div>\n",
              "<style scoped>\n",
              "    .dataframe tbody tr th:only-of-type {\n",
              "        vertical-align: middle;\n",
              "    }\n",
              "\n",
              "    .dataframe tbody tr th {\n",
              "        vertical-align: top;\n",
              "    }\n",
              "\n",
              "    .dataframe thead th {\n",
              "        text-align: right;\n",
              "    }\n",
              "</style>\n",
              "<table border=\"1\" class=\"dataframe\">\n",
              "  <thead>\n",
              "    <tr style=\"text-align: right;\">\n",
              "      <th></th>\n",
              "      <th>article</th>\n",
              "      <th>labels</th>\n",
              "    </tr>\n",
              "  </thead>\n",
              "  <tbody>\n",
              "    <tr>\n",
              "      <th>0</th>\n",
              "      <td>VW considers opening Indian plant\\n \\n Volkswa...</td>\n",
              "      <td>business</td>\n",
              "    </tr>\n",
              "    <tr>\n",
              "      <th>1</th>\n",
              "      <td>Saudi ministry to employ women\\n \\n Women will...</td>\n",
              "      <td>business</td>\n",
              "    </tr>\n",
              "    <tr>\n",
              "      <th>2</th>\n",
              "      <td>Boeing secures giant Japan order\\n \\n Boeing i...</td>\n",
              "      <td>business</td>\n",
              "    </tr>\n",
              "    <tr>\n",
              "      <th>3</th>\n",
              "      <td>House prices drop as sales slow\\n \\n House pri...</td>\n",
              "      <td>business</td>\n",
              "    </tr>\n",
              "    <tr>\n",
              "      <th>4</th>\n",
              "      <td>Christmas shoppers flock to tills\\n \\n Shops a...</td>\n",
              "      <td>business</td>\n",
              "    </tr>\n",
              "  </tbody>\n",
              "</table>\n",
              "</div>\n",
              "      <button class=\"colab-df-convert\" onclick=\"convertToInteractive('df-fe12b57c-2399-4cc0-94f0-df712787ba29')\"\n",
              "              title=\"Convert this dataframe to an interactive table.\"\n",
              "              style=\"display:none;\">\n",
              "        \n",
              "  <svg xmlns=\"http://www.w3.org/2000/svg\" height=\"24px\"viewBox=\"0 0 24 24\"\n",
              "       width=\"24px\">\n",
              "    <path d=\"M0 0h24v24H0V0z\" fill=\"none\"/>\n",
              "    <path d=\"M18.56 5.44l.94 2.06.94-2.06 2.06-.94-2.06-.94-.94-2.06-.94 2.06-2.06.94zm-11 1L8.5 8.5l.94-2.06 2.06-.94-2.06-.94L8.5 2.5l-.94 2.06-2.06.94zm10 10l.94 2.06.94-2.06 2.06-.94-2.06-.94-.94-2.06-.94 2.06-2.06.94z\"/><path d=\"M17.41 7.96l-1.37-1.37c-.4-.4-.92-.59-1.43-.59-.52 0-1.04.2-1.43.59L10.3 9.45l-7.72 7.72c-.78.78-.78 2.05 0 2.83L4 21.41c.39.39.9.59 1.41.59.51 0 1.02-.2 1.41-.59l7.78-7.78 2.81-2.81c.8-.78.8-2.07 0-2.86zM5.41 20L4 18.59l7.72-7.72 1.47 1.35L5.41 20z\"/>\n",
              "  </svg>\n",
              "      </button>\n",
              "      \n",
              "  <style>\n",
              "    .colab-df-container {\n",
              "      display:flex;\n",
              "      flex-wrap:wrap;\n",
              "      gap: 12px;\n",
              "    }\n",
              "\n",
              "    .colab-df-convert {\n",
              "      background-color: #E8F0FE;\n",
              "      border: none;\n",
              "      border-radius: 50%;\n",
              "      cursor: pointer;\n",
              "      display: none;\n",
              "      fill: #1967D2;\n",
              "      height: 32px;\n",
              "      padding: 0 0 0 0;\n",
              "      width: 32px;\n",
              "    }\n",
              "\n",
              "    .colab-df-convert:hover {\n",
              "      background-color: #E2EBFA;\n",
              "      box-shadow: 0px 1px 2px rgba(60, 64, 67, 0.3), 0px 1px 3px 1px rgba(60, 64, 67, 0.15);\n",
              "      fill: #174EA6;\n",
              "    }\n",
              "\n",
              "    [theme=dark] .colab-df-convert {\n",
              "      background-color: #3B4455;\n",
              "      fill: #D2E3FC;\n",
              "    }\n",
              "\n",
              "    [theme=dark] .colab-df-convert:hover {\n",
              "      background-color: #434B5C;\n",
              "      box-shadow: 0px 1px 3px 1px rgba(0, 0, 0, 0.15);\n",
              "      filter: drop-shadow(0px 1px 2px rgba(0, 0, 0, 0.3));\n",
              "      fill: #FFFFFF;\n",
              "    }\n",
              "  </style>\n",
              "\n",
              "      <script>\n",
              "        const buttonEl =\n",
              "          document.querySelector('#df-fe12b57c-2399-4cc0-94f0-df712787ba29 button.colab-df-convert');\n",
              "        buttonEl.style.display =\n",
              "          google.colab.kernel.accessAllowed ? 'block' : 'none';\n",
              "\n",
              "        async function convertToInteractive(key) {\n",
              "          const element = document.querySelector('#df-fe12b57c-2399-4cc0-94f0-df712787ba29');\n",
              "          const dataTable =\n",
              "            await google.colab.kernel.invokeFunction('convertToInteractive',\n",
              "                                                     [key], {});\n",
              "          if (!dataTable) return;\n",
              "\n",
              "          const docLinkHtml = 'Like what you see? Visit the ' +\n",
              "            '<a target=\"_blank\" href=https://colab.research.google.com/notebooks/data_table.ipynb>data table notebook</a>'\n",
              "            + ' to learn more about interactive tables.';\n",
              "          element.innerHTML = '';\n",
              "          dataTable['output_type'] = 'display_data';\n",
              "          await google.colab.output.renderOutput(dataTable, element);\n",
              "          const docLink = document.createElement('div');\n",
              "          docLink.innerHTML = docLinkHtml;\n",
              "          element.appendChild(docLink);\n",
              "        }\n",
              "      </script>\n",
              "    </div>\n",
              "  </div>\n",
              "  "
            ]
          },
          "metadata": {},
          "execution_count": 47
        }
      ]
    },
    {
      "cell_type": "code",
      "source": [
        "df.shape"
      ],
      "metadata": {
        "colab": {
          "base_uri": "https://localhost:8080/"
        },
        "id": "SBqoM5qgfryM",
        "outputId": "4479bf01-4b40-4890-98b8-5014860cb627"
      },
      "execution_count": null,
      "outputs": [
        {
          "output_type": "execute_result",
          "data": {
            "text/plain": [
              "(2225, 2)"
            ]
          },
          "metadata": {},
          "execution_count": 48
        }
      ]
    },
    {
      "cell_type": "code",
      "source": [
        "df.dtypes"
      ],
      "metadata": {
        "colab": {
          "base_uri": "https://localhost:8080/"
        },
        "id": "kRriPwEZfzzB",
        "outputId": "378df127-2974-43b9-f7c1-ba1aa85fde49"
      },
      "execution_count": null,
      "outputs": [
        {
          "output_type": "execute_result",
          "data": {
            "text/plain": [
              "article    object\n",
              "labels     object\n",
              "dtype: object"
            ]
          },
          "metadata": {},
          "execution_count": 49
        }
      ]
    },
    {
      "cell_type": "code",
      "source": [
        "df.labels.value_counts()"
      ],
      "metadata": {
        "colab": {
          "base_uri": "https://localhost:8080/"
        },
        "id": "5Jm5JSWsf5VR",
        "outputId": "6b58b5d0-6a13-4d8c-dff1-980ec24b44aa"
      },
      "execution_count": null,
      "outputs": [
        {
          "output_type": "execute_result",
          "data": {
            "text/plain": [
              "sport            511\n",
              "business         510\n",
              "politics         417\n",
              "tech             401\n",
              "entertainment    386\n",
              "Name: labels, dtype: int64"
            ]
          },
          "metadata": {},
          "execution_count": 50
        }
      ]
    },
    {
      "cell_type": "code",
      "source": [
        "df = df.reset_index(drop=True)\n",
        "REPLACE_BY_SPACE_RE = re.compile('[/(){}\\[\\]\\|@,;]')\n",
        "BAD_SYMBOLS_RE = re.compile('[^0-9a-z #+_]')\n",
        "STOPWORDS = set(stopwords.words('english'))\n",
        "\n",
        "def clean_text(text):\n",
        "    \"\"\"\n",
        "        text: a string\n",
        "        \n",
        "        return: modified initial string\n",
        "    \"\"\"\n",
        "    text = text.lower() # lowercase text\n",
        "    text = REPLACE_BY_SPACE_RE.sub(' ', text) # replace REPLACE_BY_SPACE_RE symbols by space in text. substitute the matched string in REPLACE_BY_SPACE_RE with space.\n",
        "    text = BAD_SYMBOLS_RE.sub('', text) # remove symbols which are in BAD_SYMBOLS_RE from text. substitute the matched string in BAD_SYMBOLS_RE with nothing. \n",
        "    text = text.replace('x', '')\n",
        "#    text = re.sub(r'\\W+', '', text)\n",
        "    text = ' '.join(word for word in text.split() if word not in STOPWORDS) # remove stopwors from text\n",
        "    return text\n",
        "df['article'] = df['article'].apply(clean_text)\n",
        "df['article'] = df['article'].str.replace('\\d+', '')"
      ],
      "metadata": {
        "colab": {
          "base_uri": "https://localhost:8080/"
        },
        "id": "V7dbgLHOP3ky",
        "outputId": "f61f5ab0-1f01-4804-fff0-026f2efbf418"
      },
      "execution_count": null,
      "outputs": [
        {
          "output_type": "stream",
          "name": "stderr",
          "text": [
            "<ipython-input-51-474e3429b295>:20: FutureWarning:\n",
            "\n",
            "The default value of regex will change from True to False in a future version.\n",
            "\n"
          ]
        }
      ]
    },
    {
      "cell_type": "code",
      "source": [
        "# The maximum number of words to be used. (most frequent)\n",
        "MAX_NB_WORDS = 50000\n",
        "# Max number of words in each complaint.\n",
        "MAX_SEQUENCE_LENGTH = 250\n",
        "# This is fixed.\n",
        "EMBEDDING_DIM = 100\n",
        "tokenizer = Tokenizer(num_words=MAX_NB_WORDS, filters='!\"#$%&()*+,-./:;<=>?@[\\]^_`{|}~', lower=True)\n",
        "tokenizer.fit_on_texts(df.article.values)\n",
        "word_index = tokenizer.word_index\n",
        "print('Found %s unique tokens.' % len(word_index))"
      ],
      "metadata": {
        "colab": {
          "base_uri": "https://localhost:8080/"
        },
        "id": "mueopcNaPIvQ",
        "outputId": "c7f2b2f8-1a25-4259-9f66-016c992e93d4"
      },
      "execution_count": null,
      "outputs": [
        {
          "output_type": "stream",
          "name": "stdout",
          "text": [
            "Found 31285 unique tokens.\n"
          ]
        }
      ]
    },
    {
      "cell_type": "code",
      "source": [
        "X = tokenizer.texts_to_sequences(df['article'].values)\n",
        "X = pad_sequences(X, maxlen=MAX_SEQUENCE_LENGTH)\n",
        "print('Shape of data tensor:', X.shape)"
      ],
      "metadata": {
        "colab": {
          "base_uri": "https://localhost:8080/"
        },
        "id": "Jo4QSVOiQM3g",
        "outputId": "27eaa05c-d43b-4878-eb46-2705cc580a61"
      },
      "execution_count": null,
      "outputs": [
        {
          "output_type": "stream",
          "name": "stdout",
          "text": [
            "Shape of data tensor: (2225, 250)\n"
          ]
        }
      ]
    },
    {
      "cell_type": "code",
      "source": [
        "Y = pd.get_dummies(df['labels']).values\n",
        "print('Shape of label tensor:', Y.shape)"
      ],
      "metadata": {
        "colab": {
          "base_uri": "https://localhost:8080/"
        },
        "id": "HW197_hjQNlZ",
        "outputId": "ca926754-46a8-4ce0-a2d9-db4509fa1a50"
      },
      "execution_count": null,
      "outputs": [
        {
          "output_type": "stream",
          "name": "stdout",
          "text": [
            "Shape of label tensor: (2225, 5)\n"
          ]
        }
      ]
    },
    {
      "cell_type": "code",
      "source": [
        "X_train, X_test, Y_train, Y_test = train_test_split(X,Y, test_size = 0.10, random_state = 42)\n",
        "print(X_train.shape,Y_train.shape)\n",
        "print(X_test.shape,Y_test.shape)"
      ],
      "metadata": {
        "colab": {
          "base_uri": "https://localhost:8080/"
        },
        "id": "XWwHMevqQY2Y",
        "outputId": "8c09600f-244a-4ee9-a2e5-daee72ca26a1"
      },
      "execution_count": null,
      "outputs": [
        {
          "output_type": "stream",
          "name": "stdout",
          "text": [
            "(2002, 250) (2002, 5)\n",
            "(223, 250) (223, 5)\n"
          ]
        }
      ]
    },
    {
      "cell_type": "code",
      "source": [
        "model = Sequential()\n",
        "model.add(Embedding(MAX_NB_WORDS, EMBEDDING_DIM, input_length=X.shape[1]))\n",
        "model.add(SpatialDropout1D(0.2))\n",
        "model.add(LSTM(100, dropout=0.2, recurrent_dropout=0.2))\n",
        "model.add(Dense(5, activation='softmax'))\n",
        "model.compile(loss='categorical_crossentropy', optimizer='adam', metrics=['accuracy'])\n",
        "\n",
        "epochs = 5\n",
        "batch_size = 64\n",
        "\n",
        "history = model.fit(X_train, Y_train, epochs=epochs, batch_size=batch_size,validation_split=0.1,callbacks=[EarlyStopping(monitor='val_loss', patience=3, min_delta=0.0001)])"
      ],
      "metadata": {
        "colab": {
          "base_uri": "https://localhost:8080/"
        },
        "id": "HmQNmDATQdvV",
        "outputId": "7b137b1e-0fbe-40a0-cbdd-a28d31722ff2"
      },
      "execution_count": null,
      "outputs": [
        {
          "output_type": "stream",
          "name": "stderr",
          "text": [
            "WARNING:tensorflow:Layer lstm_3 will not use cuDNN kernels since it doesn't meet the criteria. It will use a generic GPU kernel as fallback when running on GPU.\n"
          ]
        },
        {
          "output_type": "stream",
          "name": "stdout",
          "text": [
            "Epoch 1/5\n",
            "29/29 [==============================] - 32s 1s/step - loss: 1.5899 - accuracy: 0.2937 - val_loss: 1.5161 - val_accuracy: 0.4826\n",
            "Epoch 2/5\n",
            "29/29 [==============================] - 28s 953ms/step - loss: 1.1039 - accuracy: 0.5897 - val_loss: 0.7966 - val_accuracy: 0.7114\n",
            "Epoch 3/5\n",
            "29/29 [==============================] - 29s 1s/step - loss: 0.5689 - accuracy: 0.8506 - val_loss: 0.4349 - val_accuracy: 0.8706\n",
            "Epoch 4/5\n",
            "29/29 [==============================] - 29s 1s/step - loss: 0.2028 - accuracy: 0.9584 - val_loss: 0.4396 - val_accuracy: 0.8955\n",
            "Epoch 5/5\n",
            "29/29 [==============================] - 28s 953ms/step - loss: 0.2320 - accuracy: 0.9411 - val_loss: 0.4145 - val_accuracy: 0.8507\n"
          ]
        }
      ]
    },
    {
      "cell_type": "code",
      "source": [
        "accr = model.evaluate(X_test,Y_test)\n",
        "print('Test set\\n  Loss: {:0.3f}\\n  Accuracy: {:0.3f}'.format(accr[0],accr[1]))"
      ],
      "metadata": {
        "colab": {
          "base_uri": "https://localhost:8080/"
        },
        "id": "qnAEPbCJQzaM",
        "outputId": "f1291dd0-f093-4f4f-e725-a0c2247ad09f"
      },
      "execution_count": null,
      "outputs": [
        {
          "output_type": "stream",
          "name": "stdout",
          "text": [
            "7/7 [==============================] - 0s 66ms/step - loss: 0.3980 - accuracy: 0.8386\n",
            "Test set\n",
            "  Loss: 0.398\n",
            "  Accuracy: 0.839\n"
          ]
        }
      ]
    },
    {
      "cell_type": "code",
      "source": [
        "plt.title('Loss')\n",
        "plt.plot(history.history['loss'], label='train')\n",
        "plt.plot(history.history['val_loss'], label='test')\n",
        "plt.legend()\n",
        "plt.show();"
      ],
      "metadata": {
        "colab": {
          "base_uri": "https://localhost:8080/",
          "height": 281
        },
        "id": "5w1nAVXiTKZd",
        "outputId": "2b54234c-6e81-4614-ed1d-77d014074440"
      },
      "execution_count": null,
      "outputs": [
        {
          "output_type": "display_data",
          "data": {
            "text/plain": [
              "<Figure size 432x288 with 1 Axes>"
            ],
            "image/png": "[encoded data removed]"
          },
          "metadata": {
            "needs_background": "light"
          }
        }
      ]
    },
    {
      "cell_type": "code",
      "source": [
        "new_complaint = ['en a \"green light\" to the procedures and practices used by WorldCom. Mr Ebber\\'s lawyers have said he was unaware of the fraud, arguing that auditors did not alert him to any problems.\\n\\nMs Cooper also said that during shareholder meetings Mr Ebbers often passed over technical questions to the company\\'s finance chief, giving only \"brief\" answers himself. The prosecution\\'s star witness, former WorldCom financial chief Scott Sullivan, has said that Mr Ebbers ordered accounting adjustments at the firm, telling him to \"hit our books\". However, Ms Cooper said Mr Sullivan had not mentioned \"anything uncomfortable\" about WorldCom\\'s accounting during a 2001 audit committee meeting. Mr Ebbers could face a jail sentence of 85 years if convicted of all the charges he is facing. WorldCom emerged from bankruptcy protection in 2004, and is now known as MCI. Last week, MCI agreed to a buyout by Verizon Communications in a ']\n",
        "seq = tokenizer.texts_to_sequences(new_complaint)\n",
        "padded = pad_sequences(seq, maxlen=MAX_SEQUENCE_LENGTH)\n",
        "pred = model.predict(padded)\n",
        "labels = [\"business\",\"entertainment\",\"politics\",\"sport\",\"tech\"]\n",
        "print(pred, labels[np.argmax(pred)])"
      ],
      "metadata": {
        "colab": {
          "base_uri": "https://localhost:8080/"
        },
        "id": "UsxDq2rWXpsD",
        "outputId": "747fc964-422d-40af-de56-164457ddbfde"
      },
      "execution_count": null,
      "outputs": [
        {
          "output_type": "stream",
          "name": "stdout",
          "text": [
            "1/1 [==============================] - 0s 72ms/step\n",
            "[[0.722311   0.00536117 0.22058612 0.04589064 0.0058511 ]] business\n"
          ]
        }
      ]
    }
  ]
}